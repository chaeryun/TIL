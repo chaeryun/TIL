{
  "nbformat": 4,
  "nbformat_minor": 0,
  "metadata": {
    "colab": {
      "name": "python_100_50.ipynb",
      "provenance": [],
      "collapsed_sections": [],
      "authorship_tag": "ABX9TyPyusBE0KheGCC9riNrxSjJ",
      "include_colab_link": true
    },
    "kernelspec": {
      "name": "python3",
      "display_name": "Python 3"
    },
    "language_info": {
      "name": "python"
    }
  },
  "cells": [
    {
      "cell_type": "markdown",
      "metadata": {
        "id": "view-in-github",
        "colab_type": "text"
      },
      "source": [
        "<a href=\"https://colab.research.google.com/github/chaeryun/TIL/blob/main/python_100_50.ipynb\" target=\"_parent\"><img src=\"https://colab.research.google.com/assets/colab-badge.svg\" alt=\"Open In Colab\"/></a>"
      ]
    },
    {
      "cell_type": "markdown",
      "source": [
        "# 1번"
      ],
      "metadata": {
        "id": "a-acnRnuwqj8"
      }
    },
    {
      "cell_type": "code",
      "execution_count": null,
      "metadata": {
        "colab": {
          "base_uri": "https://localhost:8080/"
        },
        "id": "xOh41YH6v20F",
        "outputId": "cdf0363d-abcd-4a8d-e6db-95602ffe9cfb"
      },
      "outputs": [
        {
          "output_type": "execute_result",
          "data": {
            "text/plain": [
              "[100, 200, 300]"
            ]
          },
          "metadata": {},
          "execution_count": 5
        }
      ],
      "source": [
        "nums = [100, 200, 300, 400, 500]\n",
        "nums.pop()\n",
        "nums.pop()\n",
        "nums"
      ]
    },
    {
      "cell_type": "markdown",
      "source": [
        "# 2번"
      ],
      "metadata": {
        "id": "KfU1gqz_w4ne"
      }
    },
    {
      "cell_type": "code",
      "source": [
        "l = [200, 100, 300]\n",
        "l.insert(2,10000)\n",
        "print(l)"
      ],
      "metadata": {
        "colab": {
          "base_uri": "https://localhost:8080/"
        },
        "id": "mWuc4nkuwLYz",
        "outputId": "447bd6c2-fbfd-472c-8d7f-6de6228b3b5c"
      },
      "execution_count": null,
      "outputs": [
        {
          "output_type": "stream",
          "name": "stdout",
          "text": [
            "[200, 100, 10000, 300]\n"
          ]
        }
      ]
    },
    {
      "cell_type": "markdown",
      "source": [
        "# 3번"
      ],
      "metadata": {
        "id": "wQ1hk3cJxFGC"
      }
    },
    {
      "cell_type": "code",
      "source": [
        "l = [200, 100, 300]\n",
        "type(l)\n",
        "dir(l)"
      ],
      "metadata": {
        "colab": {
          "base_uri": "https://localhost:8080/"
        },
        "id": "hNy1OTGuw0G2",
        "outputId": "ed46d3fe-08fb-4395-e4eb-3b2e7345d546"
      },
      "execution_count": null,
      "outputs": [
        {
          "output_type": "execute_result",
          "data": {
            "text/plain": [
              "['__add__',\n",
              " '__class__',\n",
              " '__contains__',\n",
              " '__delattr__',\n",
              " '__delitem__',\n",
              " '__dir__',\n",
              " '__doc__',\n",
              " '__eq__',\n",
              " '__format__',\n",
              " '__ge__',\n",
              " '__getattribute__',\n",
              " '__getitem__',\n",
              " '__gt__',\n",
              " '__hash__',\n",
              " '__iadd__',\n",
              " '__imul__',\n",
              " '__init__',\n",
              " '__init_subclass__',\n",
              " '__iter__',\n",
              " '__le__',\n",
              " '__len__',\n",
              " '__lt__',\n",
              " '__mul__',\n",
              " '__ne__',\n",
              " '__new__',\n",
              " '__reduce__',\n",
              " '__reduce_ex__',\n",
              " '__repr__',\n",
              " '__reversed__',\n",
              " '__rmul__',\n",
              " '__setattr__',\n",
              " '__setitem__',\n",
              " '__sizeof__',\n",
              " '__str__',\n",
              " '__subclasshook__',\n",
              " 'append',\n",
              " 'clear',\n",
              " 'copy',\n",
              " 'count',\n",
              " 'extend',\n",
              " 'index',\n",
              " 'insert',\n",
              " 'pop',\n",
              " 'remove',\n",
              " 'reverse',\n",
              " 'sort']"
            ]
          },
          "metadata": {},
          "execution_count": 9
        }
      ]
    },
    {
      "cell_type": "markdown",
      "source": [
        "# 4번"
      ],
      "metadata": {
        "id": "zAb2orlbxSio"
      }
    },
    {
      "cell_type": "markdown",
      "source": [
        "# 문제4 : 변수의 타입2\n",
        "\n",
        "다음 변수 a를 print(type(a))로 넣었을 때 출력될 값과의 연결이 알맞지 않은 것은?\n",
        "\n",
        "1)  입력 : a =1,   출력 : class 'int'\n",
        "\n",
        "2)  입력 : a = 2.22,   출력 : class 'float'\n",
        "\n",
        "3)  입력 : a = 'p',   출력 : class 'char'\n",
        "\n",
        "4)  입력 : a = [1, 2, 3],   출력 : class 'list'\n",
        "\n",
        "답 : 3번 (str), a = '''p''' # 주석이기도 하지만 str"
      ],
      "metadata": {
        "id": "SyXCleeMxYtx"
      }
    },
    {
      "cell_type": "markdown",
      "source": [
        "# 5번"
      ],
      "metadata": {
        "id": "0TTVyYytxxws"
      }
    },
    {
      "cell_type": "code",
      "source": [
        "a = 10\n",
        "b = 2\n",
        "for i in range(1, 5, 2): # start, stop, step\n",
        "    a += i\n",
        "    print(a, i)\n",
        "\n",
        "print(a+b)"
      ],
      "metadata": {
        "colab": {
          "base_uri": "https://localhost:8080/"
        },
        "id": "E8QUdIoyxMv6",
        "outputId": "a0c1c50d-456c-42ee-bf22-0402dd3b83e0"
      },
      "execution_count": null,
      "outputs": [
        {
          "output_type": "stream",
          "name": "stdout",
          "text": [
            "11 1\n",
            "14 3\n",
            "16\n"
          ]
        }
      ]
    },
    {
      "cell_type": "markdown",
      "source": [
        "# 6번"
      ],
      "metadata": {
        "id": "P55RXiv5ySPY"
      }
    },
    {
      "cell_type": "markdown",
      "source": [
        "다음은 파이썬 문법 중에서 False로 취급하는 것들 입니다.\n",
        "앗, False로 취급하지 않는 것이 하나 있네요! **True를 찾아주세요.**\n",
        "\n",
        "1)  None\n",
        "\n",
        "2)  1\n",
        "\n",
        "3)  \"\"\n",
        "\n",
        "4)  0\n",
        "\n",
        "5)  bool(0)\n",
        "\n",
        "6) []\n",
        "\n",
        "정답 : 2번 # 0을 제외한 모든 숫자는 True \" \" 도 True. 값이 들어있다"
      ],
      "metadata": {
        "id": "ci1MzR5hyals"
      }
    },
    {
      "cell_type": "markdown",
      "source": [
        "# 7번"
      ],
      "metadata": {
        "id": "-czV_Gb4y5QN"
      }
    },
    {
      "cell_type": "markdown",
      "source": [
        ""
      ],
      "metadata": {
        "id": "BV19htSwzA8j"
      }
    },
    {
      "cell_type": "markdown",
      "source": [
        "다음 중 변수명으로 사용할 수 없는 것 2개를 고르시오.\n",
        "\n",
        "1)  age\n",
        "\n",
        "2)  a\n",
        "\n",
        "3)  as\n",
        "\n",
        "4)  _age\n",
        "\n",
        "5)  1age\n",
        "\n",
        "정답 : 3, 5"
      ],
      "metadata": {
        "id": "s9VnqDnizCoq"
      }
    },
    {
      "cell_type": "markdown",
      "source": [
        "# 8번"
      ],
      "metadata": {
        "id": "oB1agbQbzmvS"
      }
    },
    {
      "cell_type": "code",
      "source": [
        "d = {'height':180, 'weight':78, 'weight':84, 'temparture':36, 'eyesight':1}\n",
        "print(d)"
      ],
      "metadata": {
        "colab": {
          "base_uri": "https://localhost:8080/"
        },
        "id": "o057lhfix6fN",
        "outputId": "d3b47edf-3263-44a7-e1e0-669ce6dd772d"
      },
      "execution_count": null,
      "outputs": [
        {
          "output_type": "stream",
          "name": "stdout",
          "text": [
            "{'height': 180, 'weight': 84, 'temparture': 36, 'eyesight': 1}\n"
          ]
        }
      ]
    },
    {
      "cell_type": "code",
      "source": [
        "d['weight'] "
      ],
      "metadata": {
        "colab": {
          "base_uri": "https://localhost:8080/"
        },
        "id": "jQgM6Ju_y-wc",
        "outputId": "87350703-5075-441f-8367-8d9738947a95"
      },
      "execution_count": null,
      "outputs": [
        {
          "output_type": "execute_result",
          "data": {
            "text/plain": [
              "84"
            ]
          },
          "metadata": {},
          "execution_count": 15
        }
      ]
    },
    {
      "cell_type": "code",
      "source": [
        "d['weight'] = 1000\n",
        "d"
      ],
      "metadata": {
        "colab": {
          "base_uri": "https://localhost:8080/"
        },
        "id": "3Mpprn_iz4tE",
        "outputId": "90e06178-8904-4731-a18f-162867f4f1a7"
      },
      "execution_count": null,
      "outputs": [
        {
          "output_type": "execute_result",
          "data": {
            "text/plain": [
              "{'eyesight': 1, 'height': 180, 'temparture': 36, 'weight': 1000}"
            ]
          },
          "metadata": {},
          "execution_count": 16
        }
      ]
    },
    {
      "cell_type": "markdown",
      "source": [
        "# 9번"
      ],
      "metadata": {
        "id": "1zmFKJka0NQc"
      }
    },
    {
      "cell_type": "code",
      "source": [
        "year = '2019'\n",
        "month = '04'\n",
        "day = '26'\n",
        "hour = '11'\n",
        "minute = '34'\n",
        "second = '27'\n",
        "\n",
        "print(year, month, day, end=' ', sep = '/')\n",
        "print(hour, minute, second, sep = ':')"
      ],
      "metadata": {
        "colab": {
          "base_uri": "https://localhost:8080/"
        },
        "id": "0KjtFfdm0CL3",
        "outputId": "7d7f543d-23dd-4572-fac3-77ff6a72d5a3"
      },
      "execution_count": null,
      "outputs": [
        {
          "output_type": "stream",
          "name": "stdout",
          "text": [
            "2019/04/26 11:34:27\n"
          ]
        }
      ]
    },
    {
      "cell_type": "markdown",
      "source": [
        "# 10번\n",
        "\n",
        "```\n",
        "    *\n",
        "   ***\n",
        "  *****\n",
        " *******\n",
        "*********\n",
        "```"
      ],
      "metadata": {
        "id": "BhL2fEEL0lCd"
      }
    },
    {
      "cell_type": "code",
      "source": [
        "'''\n",
        "4 1\n",
        "3 3\n",
        "2 5\n",
        "1 7\n",
        "0 9\n",
        "n-i, 2i+1\n",
        "'''\n",
        "for i in range(5):\n",
        "  print((4-i)*\" \" + \"*\"*(2*i+1) + (4-i)*\" \")"
      ],
      "metadata": {
        "colab": {
          "base_uri": "https://localhost:8080/"
        },
        "id": "cysqkARS0PcN",
        "outputId": "8f943c80-1459-4127-aeee-475fba5381a9"
      },
      "execution_count": null,
      "outputs": [
        {
          "output_type": "stream",
          "name": "stdout",
          "text": [
            "    *    \n",
            "   ***   \n",
            "  *****  \n",
            " ******* \n",
            "*********\n"
          ]
        }
      ]
    },
    {
      "cell_type": "code",
      "source": [
        "n = 5\n",
        "for i in range(1,n+1):\n",
        "  #print(n-i,2*i-1)\n",
        "  print(' ' * (n-i) + ('*' * (2*i-1)))"
      ],
      "metadata": {
        "colab": {
          "base_uri": "https://localhost:8080/"
        },
        "id": "vxcVNCDf1w0C",
        "outputId": "cb445341-7941-486d-8aa0-d63a514a837d"
      },
      "execution_count": null,
      "outputs": [
        {
          "output_type": "stream",
          "name": "stdout",
          "text": [
            "    *\n",
            "   ***\n",
            "  *****\n",
            " *******\n",
            "*********\n"
          ]
        }
      ]
    },
    {
      "cell_type": "markdown",
      "source": [
        "# 11번\n",
        "1부터 100까지 모두 더하는 Code를 <pass> 부분에 완성하세요. for를 사용해야 합니다."
      ],
      "metadata": {
        "id": "i_7vo7Y_3wc2"
      }
    },
    {
      "cell_type": "code",
      "source": [
        "sum = 0\n",
        "for i in range(101):\n",
        "  sum += i\n",
        "print(sum)"
      ],
      "metadata": {
        "colab": {
          "base_uri": "https://localhost:8080/"
        },
        "id": "46T4hjWz3LyR",
        "outputId": "d92cdea6-4c97-429b-c920-2052593fe646"
      },
      "execution_count": null,
      "outputs": [
        {
          "output_type": "stream",
          "name": "stdout",
          "text": [
            "5050\n"
          ]
        }
      ]
    },
    {
      "cell_type": "code",
      "source": [
        "s = 0\n",
        "n = 100\n",
        "sum = n*(n+1)/2\n",
        "sum = int(sum)\n",
        "print(sum)"
      ],
      "metadata": {
        "colab": {
          "base_uri": "https://localhost:8080/"
        },
        "id": "-7-DYxHg3-hW",
        "outputId": "acc3bcea-6cb4-4036-f2f0-5d5ac19b76b2"
      },
      "execution_count": null,
      "outputs": [
        {
          "output_type": "stream",
          "name": "stdout",
          "text": [
            "5050\n"
          ]
        }
      ]
    },
    {
      "cell_type": "code",
      "source": [
        "range(10)"
      ],
      "metadata": {
        "colab": {
          "base_uri": "https://localhost:8080/"
        },
        "id": "9rbMo1fk41Ms",
        "outputId": "ece8dfb9-88f7-475c-9d13-fde782fc1fba"
      },
      "execution_count": null,
      "outputs": [
        {
          "output_type": "execute_result",
          "data": {
            "text/plain": [
              "range(0, 10)"
            ]
          },
          "metadata": {},
          "execution_count": 48
        }
      ]
    },
    {
      "cell_type": "markdown",
      "source": [
        "# 12번\n",
        "```python\n",
        "<여기에 class를 작성하세요.>\n",
        "\n",
        "x = Wizard(health = 545, mana = 210, armor = 10)\n",
        "print(x.health, x.mana, x.armor)\n",
        "x.attack()\n",
        "```\n",
        "\n",
        ">> 출력예시\n",
        "\n",
        "```python\n",
        "545 210 10\n",
        "파이어볼\n",
        "```"
      ],
      "metadata": {
        "id": "HYdgY6C55dW_"
      }
    },
    {
      "cell_type": "code",
      "source": [
        "class Wizard:\n",
        "  def __init__(self, health, mana, armor):\n",
        "    self.health = health\n",
        "    self.mana = mana\n",
        "    self.armor = armor\n",
        "  def attack(self):\n",
        "    print('파이어볼')\n",
        "\n",
        "x = Wizard(health = 545, mana = 210, armor = 10)\n",
        "print(x.health, x.mana, x.armor)\n",
        "x.attack()"
      ],
      "metadata": {
        "colab": {
          "base_uri": "https://localhost:8080/"
        },
        "id": "w1gWOXrN4-tW",
        "outputId": "3feec689-d3af-45c9-a3ed-c1058a7ac7e0"
      },
      "execution_count": null,
      "outputs": [
        {
          "output_type": "stream",
          "name": "stdout",
          "text": [
            "545 210 10\n",
            "파이어볼\n"
          ]
        }
      ]
    },
    {
      "cell_type": "markdown",
      "source": [
        "# 13번\n",
        "몇 번째 행성인가요?\n",
        "\n",
        "우리 태양계를 이루고 있는 행성은 수성, 금성, 지구, 화성, 목성, 토성, 천왕성, 해왕성으로 총 8개 입니다. 저희는 우리 태양계의 n번째 행성이 무엇인지 알고 싶습니다.\n",
        "\n",
        "입력으로 행성의 순서를 나타내는 숫자 n이 입력됩니다. 예를들어 수성은 첫번째 행성입니다."
      ],
      "metadata": {
        "id": "dQm2vjbx7tTU"
      }
    },
    {
      "cell_type": "code",
      "source": [
        "list1 = ['수성', '금성', '지구', '화성', '목성', '토성', '천왕성', '해왕성']\n",
        "n = input('n번째 행성을 입력하세요.')\n",
        "num1 = [1,2,3,4,5,6,7,8]\n",
        "if n.isnumeric():\n",
        "  n = int(n)\n",
        "  if n in num1:\n",
        "    print(list1[n-1])\n",
        "  else : \n",
        "    print('{0}번쨰 행성은 없습니다'.format(n))\n",
        "else : \n",
        "  print('숫자를 입력해 주세요.')\n"
      ],
      "metadata": {
        "colab": {
          "base_uri": "https://localhost:8080/"
        },
        "id": "NxT6bGQK590H",
        "outputId": "5d2a6ed4-6074-4b17-cce9-46443e269b43"
      },
      "execution_count": null,
      "outputs": [
        {
          "output_type": "stream",
          "name": "stdout",
          "text": [
            "n번째 행성을 입력하세요.w\n",
            "숫자를 입력해 주세요.\n"
          ]
        }
      ]
    },
    {
      "cell_type": "code",
      "source": [
        "list1 = ['수성', '금성', '지구', '화성', '목성', '토성', '천왕성', '해왕성']\n",
        "n = input('n번째 행성을 입력하세요.')\n",
        "num1 = [1,2,3,4,5,6,7,8]\n",
        "if n in num1:\n",
        "  print('{}번째 행성은 '.format(n) + list1[n+1] + '입니다.')\n",
        "while n not in num1:\n",
        "  if n.isnumeric():\n",
        "    n = int(n)\n",
        "    if n in num1:\n",
        "      print('{}번째 행성은 '.format(n) + list1[n+1] + '입니다.')\n",
        "      break\n",
        "    print('{}번쨰 행성은 없습니다'.format(n))\n",
        "  else : \n",
        "    print('숫자를 입력해 주세요.')\n",
        "  n = input('n번째 행성을 입력하세요.')\n",
        "\n"
      ],
      "metadata": {
        "colab": {
          "base_uri": "https://localhost:8080/"
        },
        "id": "F2Ng7f9B77Pi",
        "outputId": "5071bc93-a0da-4b7d-c857-029d483d7cf6"
      },
      "execution_count": null,
      "outputs": [
        {
          "output_type": "stream",
          "name": "stdout",
          "text": [
            "n번째 행성을 입력하세요.1\n",
            "1번째 행성은 지구입니다.\n"
          ]
        }
      ]
    },
    {
      "cell_type": "markdown",
      "source": [
        "# 14번 3의 배수 인가요?\n",
        "\n",
        "영희는 친구와 게임을 하고 있습니다. 서로 돌아가며 랜덤으로 숫자를 하나 말하고 그게 3의 배수이면 박수를 치고 아니면 그 숫자를 그대로 말하는 게임입니다.\n",
        "\n",
        "입력으로 랜덤한 숫자 n이 주어집니다.\n",
        "\n",
        "만약 그 수가 **3의 배수라면 '짝'이라는 글자를, 3의 배수가 아니라면 n을 그대로 출력**해 주세요."
      ],
      "metadata": {
        "id": "1rLT42OHN5Zv"
      }
    },
    {
      "cell_type": "code",
      "source": [
        "try:\n",
        "  n = int(input())\n",
        "  if n % 3 == 0:\n",
        "    print('짝')\n",
        "  else:\n",
        "    print (n)\n",
        "except:\n",
        "  print('숫자를 입력해 주세요!')"
      ],
      "metadata": {
        "colab": {
          "base_uri": "https://localhost:8080/"
        },
        "id": "9Hmwnz68CSoP",
        "outputId": "2f891c98-c221-4b4b-95c8-5ec501e65379"
      },
      "execution_count": null,
      "outputs": [
        {
          "output_type": "stream",
          "name": "stdout",
          "text": [
            "3\n",
            "짝\n"
          ]
        }
      ]
    },
    {
      "cell_type": "code",
      "source": [
        "try:\n",
        "  n = input()\n",
        "  if '3'in n:\n",
        "    print('짝')\n",
        "  else:\n",
        "    print (n)\n",
        "except:\n",
        "  print('숫자를 입력해 주세요!')"
      ],
      "metadata": {
        "colab": {
          "base_uri": "https://localhost:8080/"
        },
        "id": "iGmgfJqXOWi7",
        "outputId": "f402d7b2-2b57-4bda-bae5-c6536d369d6a"
      },
      "execution_count": null,
      "outputs": [
        {
          "output_type": "stream",
          "name": "stdout",
          "text": [
            "13\n",
            "짝\n"
          ]
        }
      ]
    },
    {
      "cell_type": "markdown",
      "source": [
        "# 15번 : 자기소개\n",
        "\n",
        "신학기가 시작되고, 아이들이 돌아가면서 자기소개를 하기로 했습니다.\n",
        "\n",
        "만약 입력으로 `김다정`이라는 이름이\n",
        "``` \n",
        "안녕하세요. 저는 김다정입니다.\n",
        "````\n",
        "라고 출력하게 해주세요."
      ],
      "metadata": {
        "id": "56lBOiqnPgEa"
      }
    },
    {
      "cell_type": "code",
      "source": [
        "n = input()\n",
        "print('안녕하세요. 저는 {}입니다'.format(n))"
      ],
      "metadata": {
        "colab": {
          "base_uri": "https://localhost:8080/"
        },
        "id": "BgNop61oPGxh",
        "outputId": "1746d2b6-a305-493e-d9b9-9a7d90e159c6"
      },
      "execution_count": null,
      "outputs": [
        {
          "output_type": "stream",
          "name": "stdout",
          "text": [
            "f\n",
            "안녕하세요. 저는 f입니다\n"
          ]
        }
      ]
    },
    {
      "cell_type": "code",
      "source": [
        "n = input()\n",
        "print(f'안녕하세요. 저는 {n}입니다')"
      ],
      "metadata": {
        "colab": {
          "base_uri": "https://localhost:8080/"
        },
        "id": "YtWWfggYP4v-",
        "outputId": "3e4cb24f-d8ae-48a6-d21a-3388ddd8f5f8"
      },
      "execution_count": null,
      "outputs": [
        {
          "output_type": "stream",
          "name": "stdout",
          "text": [
            "df\n",
            "안녕하세요. 저는 df입니다\n"
          ]
        }
      ]
    },
    {
      "cell_type": "markdown",
      "source": [
        "# 문제16 : 로꾸거\n",
        "\n",
        "문장이 입력되면 거꾸로 출력하는 프로그램을 만들어 봅시다.\n",
        "\n",
        ">> 입력\n",
        "\n",
        "```python\n",
        "거꾸로\n",
        "```\n",
        "\n",
        ">> 출력\n",
        "\n",
        "```python\n",
        "로꾸거\n",
        "```"
      ],
      "metadata": {
        "id": "Xy-MBC8ZQVV_"
      }
    },
    {
      "cell_type": "code",
      "source": [
        "n = input()\n",
        "print(n[::-1])"
      ],
      "metadata": {
        "colab": {
          "base_uri": "https://localhost:8080/"
        },
        "id": "44qVl83VQEdM",
        "outputId": "43256e54-124e-445a-b50a-71b7fed38b21"
      },
      "execution_count": null,
      "outputs": [
        {
          "output_type": "stream",
          "name": "stdout",
          "text": [
            "fhuewh\n",
            "hweuhf\n"
          ]
        }
      ]
    },
    {
      "cell_type": "code",
      "source": [
        "s = ''\n",
        "for i in n:\n",
        "  s = i + s\n",
        "s"
      ],
      "metadata": {
        "colab": {
          "base_uri": "https://localhost:8080/",
          "height": 35
        },
        "id": "M1FDI9D_Qn9A",
        "outputId": "428ee6d5-30bc-493f-9265-0bb8093f443d"
      },
      "execution_count": null,
      "outputs": [
        {
          "output_type": "execute_result",
          "data": {
            "text/plain": [
              "'hweuhf'"
            ],
            "application/vnd.google.colaboratory.intrinsic+json": {
              "type": "string"
            }
          },
          "metadata": {},
          "execution_count": 63
        }
      ]
    },
    {
      "cell_type": "code",
      "source": [
        "def 거꾸로(s):\n",
        "  if len(s) == 1:\n",
        "    return s\n",
        "  else :\n",
        "    return 거꾸로(s[1:]) + s[0]\n",
        "거꾸로('swseff')"
      ],
      "metadata": {
        "colab": {
          "base_uri": "https://localhost:8080/",
          "height": 35
        },
        "id": "nz-qsNY5QtuW",
        "outputId": "b8522a96-810b-4a72-bd10-21b45c99f6b5"
      },
      "execution_count": null,
      "outputs": [
        {
          "output_type": "execute_result",
          "data": {
            "text/plain": [
              "'swseff'"
            ],
            "application/vnd.google.colaboratory.intrinsic+json": {
              "type": "string"
            }
          },
          "metadata": {},
          "execution_count": 68
        }
      ]
    },
    {
      "cell_type": "markdown",
      "source": [
        "# 문제17 : 놀이기구 키 제한\n",
        "\n",
        "유주는 놀이공원 아르바이트 중입니다. \n",
        "그런데 놀이기구마다 키 제한이 있습니다.\n",
        "유주가 담당하는 놀이기구는 키가 150 이상만 탈 수 있습니다.\n",
        "\n",
        "입력으로 키가 주어지면\n",
        "키가 150이 이상이면 YES를 틀리면 NO를 출력하는 프로그램을 작성하세요."
      ],
      "metadata": {
        "id": "wrLUb3NhS2vF"
      }
    },
    {
      "cell_type": "code",
      "source": [
        "try:\n",
        "  n = int(input())\n",
        "  if n >= 150:\n",
        "    print('Yes')\n",
        "  else : print('no')\n",
        "except:\n",
        "  print('숫자를 입력하세요')"
      ],
      "metadata": {
        "colab": {
          "base_uri": "https://localhost:8080/"
        },
        "id": "iZKvrVZMTElV",
        "outputId": "f0045b43-ee35-4bea-f042-b03fe4e41191"
      },
      "execution_count": null,
      "outputs": [
        {
          "output_type": "stream",
          "name": "stdout",
          "text": [
            "ㅇㄹ\n",
            "숫자를 입력하세요\n"
          ]
        }
      ]
    },
    {
      "cell_type": "markdown",
      "source": [
        "# 문제18 : 평균 점수\n",
        "\n",
        "영하네 반은 국어, 수학, 영어 시험을 보았습니다. 영하는 친구들의 평균 점수를 구해주기로 했습니다.\n",
        "\n",
        "공백으로 구분하여 세 과목의 점수가 주어지면\n",
        "**전체 평균 점수**를 구하는 프로그램을 작성하세요. **단, 소숫점 자리는 모두 버립니다.**\n",
        "\n",
        ">> 입력\n",
        "\n",
        "```python\n",
        "20 30 40\n",
        "```\n",
        "\n",
        ">> 출력\n",
        "\n",
        "```python\n",
        "30\n",
        "```"
      ],
      "metadata": {
        "id": "5jzU8xjyS-WU"
      }
    },
    {
      "cell_type": "code",
      "source": [
        "data = sum(list(map(int, input().split())))//3\n",
        "data"
      ],
      "metadata": {
        "colab": {
          "base_uri": "https://localhost:8080/"
        },
        "id": "JLIDGrRpV3UN",
        "outputId": "6ece6efa-3dea-42d2-9063-477a64c12849"
      },
      "execution_count": null,
      "outputs": [
        {
          "name": "stdout",
          "output_type": "stream",
          "text": [
            "10 20 30\n"
          ]
        },
        {
          "output_type": "execute_result",
          "data": {
            "text/plain": [
              "20"
            ]
          },
          "metadata": {},
          "execution_count": 85
        }
      ]
    },
    {
      "cell_type": "code",
      "source": [
        "list(map(lambda x:x**2, [10,20,30]))"
      ],
      "metadata": {
        "colab": {
          "base_uri": "https://localhost:8080/"
        },
        "id": "cYYY7r_USD6A",
        "outputId": "d771956c-a24f-4c50-c50c-c02ec6fe1d25"
      },
      "execution_count": null,
      "outputs": [
        {
          "output_type": "execute_result",
          "data": {
            "text/plain": [
              "[100, 400, 900]"
            ]
          },
          "metadata": {},
          "execution_count": 78
        }
      ]
    },
    {
      "cell_type": "code",
      "source": [
        "def 제곱(x):\n",
        "  return x**2\n",
        "제곱(10)"
      ],
      "metadata": {
        "colab": {
          "base_uri": "https://localhost:8080/"
        },
        "id": "eNz1XTLRWOLB",
        "outputId": "e4c07dc1-173c-4018-c3af-3a2ca904dc22"
      },
      "execution_count": null,
      "outputs": [
        {
          "output_type": "execute_result",
          "data": {
            "text/plain": [
              "100"
            ]
          },
          "metadata": {},
          "execution_count": 86
        }
      ]
    },
    {
      "cell_type": "markdown",
      "source": [
        "# 문제19 : 제곱을 구하자\n",
        "\n",
        "공백으로 구분하여 두 숫자 a와 b가 주어지면, **a의 b승**을 구하는 프로그램을 작성하세요."
      ],
      "metadata": {
        "id": "qNbBrJIaXE8t"
      }
    },
    {
      "cell_type": "code",
      "source": [
        "a, b = map(float,input().split())\n",
        "print(a**b)"
      ],
      "metadata": {
        "colab": {
          "base_uri": "https://localhost:8080/"
        },
        "id": "RspVD6tuW7vc",
        "outputId": "2301aede-3ef9-454b-babf-e21af7ed0fef"
      },
      "execution_count": null,
      "outputs": [
        {
          "output_type": "stream",
          "name": "stdout",
          "text": [
            "2 3 \n",
            "8.0\n"
          ]
        }
      ]
    },
    {
      "cell_type": "markdown",
      "source": [
        "# 문제20 : 몫과 나머지\n",
        "\n",
        "공백으로 구분하여 두 숫자가 주어집니다.\n",
        "첫번째 숫자로 두번째 숫자를 나누었을 때 **그 몫과 나머지를 공백으로 구분하여 출력하세요.**\n",
        "\n",
        ">> 입력\n",
        "\n",
        "```python\n",
        "10 2\n",
        "```\n",
        "\n",
        ">> 출력\n",
        "\n",
        "```python\n",
        "5 0\n",
        "```"
      ],
      "metadata": {
        "id": "QdSex32EXp2C"
      }
    },
    {
      "cell_type": "code",
      "source": [
        "a, b  = map (int,input().split())\n",
        "print(a//b, a%b) # 숫자가 작을수록 성능이 좋다"
      ],
      "metadata": {
        "colab": {
          "base_uri": "https://localhost:8080/"
        },
        "id": "NVAcCO1IXpoy",
        "outputId": "27c68569-a2eb-401e-b51a-2c50d0c7642c"
      },
      "execution_count": null,
      "outputs": [
        {
          "output_type": "stream",
          "name": "stdout",
          "text": [
            "10 3\n",
            "3 1\n"
          ]
        }
      ]
    },
    {
      "cell_type": "code",
      "source": [
        "a, b  = map (int,input().split())\n",
        "print(*divmod(a, b))  # 숫자가 클수록 성능 좋다"
      ],
      "metadata": {
        "colab": {
          "base_uri": "https://localhost:8080/"
        },
        "id": "AOOO1a8OXUVk",
        "outputId": "77247e64-c56e-4f71-b8c0-637683226d5a"
      },
      "execution_count": null,
      "outputs": [
        {
          "output_type": "stream",
          "name": "stdout",
          "text": [
            "10 2\n",
            "5 0\n"
          ]
        }
      ]
    },
    {
      "cell_type": "markdown",
      "source": [
        "# 문제21 : set은 어떻게 만드나요?\n",
        "\n",
        "다음 중 set을 만드는 방법이 아닌 것?\n",
        "\n",
        "1)  x = {1, 2, 3, 5, 6, 7}\n",
        "\n",
        "2)  x = {}\n",
        "\n",
        "3)  x = set('python')\n",
        "\n",
        "4)  x = set(range(5))\n",
        "\n",
        "5)  x = set()\n",
        "\n",
        "정답 : 2번 type(x) = dict\n",
        "\n",
        "set은 중복을 허락하지 않고 순서도 없다."
      ],
      "metadata": {
        "id": "8LdfnzgK1nUQ"
      }
    },
    {
      "cell_type": "code",
      "source": [
        " x = {1, 2, 3, 5, 6, 7,77,7}\n",
        " type(x)"
      ],
      "metadata": {
        "colab": {
          "base_uri": "https://localhost:8080/"
        },
        "id": "n43pkeu8XpAJ",
        "outputId": "a14e457c-582c-43da-ea27-c4d8df21f4df"
      },
      "execution_count": null,
      "outputs": [
        {
          "output_type": "execute_result",
          "data": {
            "text/plain": [
              "set"
            ]
          },
          "metadata": {},
          "execution_count": 5
        }
      ]
    },
    {
      "cell_type": "code",
      "source": [
        "x"
      ],
      "metadata": {
        "colab": {
          "base_uri": "https://localhost:8080/"
        },
        "id": "f25Pksez1xLZ",
        "outputId": "c59998ce-0870-40f0-bb3f-dd4a3af590ca"
      },
      "execution_count": null,
      "outputs": [
        {
          "output_type": "execute_result",
          "data": {
            "text/plain": [
              "{1, 2, 3, 5, 6, 7, 77}"
            ]
          },
          "metadata": {},
          "execution_count": 3
        }
      ]
    },
    {
      "cell_type": "code",
      "source": [
        "a = {1,2,3}\n",
        "b = {3,4,5}\n",
        "a | b \n",
        "#a&b\n",
        "#a-b"
      ],
      "metadata": {
        "colab": {
          "base_uri": "https://localhost:8080/"
        },
        "id": "ggjTiBiM106P",
        "outputId": "faa9546e-23be-40eb-93a4-a2af5e2bdfe9"
      },
      "execution_count": null,
      "outputs": [
        {
          "output_type": "execute_result",
          "data": {
            "text/plain": [
              "{1, 2, 3, 4, 5}"
            ]
          },
          "metadata": {},
          "execution_count": 12
        }
      ]
    },
    {
      "cell_type": "code",
      "source": [
        "x = {}\n",
        "type(x)"
      ],
      "metadata": {
        "colab": {
          "base_uri": "https://localhost:8080/"
        },
        "id": "qgHyzncv1_My",
        "outputId": "ebedf694-da1a-4479-b76c-596f3be3c1cb"
      },
      "execution_count": null,
      "outputs": [
        {
          "output_type": "execute_result",
          "data": {
            "text/plain": [
              "dict"
            ]
          },
          "metadata": {},
          "execution_count": 13
        }
      ]
    },
    {
      "cell_type": "code",
      "source": [
        "x = set('python')\n",
        "x"
      ],
      "metadata": {
        "colab": {
          "base_uri": "https://localhost:8080/"
        },
        "id": "y-P02XUv2bED",
        "outputId": "be74227e-fc98-45ab-c900-667245429967"
      },
      "execution_count": null,
      "outputs": [
        {
          "output_type": "execute_result",
          "data": {
            "text/plain": [
              "{'h', 'n', 'o', 'p', 't', 'y'}"
            ]
          },
          "metadata": {},
          "execution_count": 15
        }
      ]
    },
    {
      "cell_type": "code",
      "source": [
        "x = set(range(5))\n",
        "x"
      ],
      "metadata": {
        "colab": {
          "base_uri": "https://localhost:8080/"
        },
        "id": "Kf46sqo12lPj",
        "outputId": "aadbf499-3a5c-4e95-e45f-030ca8e60117"
      },
      "execution_count": null,
      "outputs": [
        {
          "output_type": "execute_result",
          "data": {
            "text/plain": [
              "{0, 1, 2, 3, 4}"
            ]
          },
          "metadata": {},
          "execution_count": 17
        }
      ]
    },
    {
      "cell_type": "markdown",
      "source": [
        "# 문제22 : 배수인지 확인하기\n",
        "\n",
        "다음 중 변수 i가 6의 배수인지 확인하는 방법으로 올바른 것은?\n",
        "\n",
        "1)  i / 6 == 0\n",
        "\n",
        "2)  i % 6 == 0\n",
        "\n",
        "3)  i & 6 == 0\n",
        "\n",
        "4)  i | 6 == 0\n",
        "\n",
        "5)  i // 6 == 0\n",
        "\n",
        "정답 : 2번"
      ],
      "metadata": {
        "id": "RZzDjTH220A2"
      }
    },
    {
      "cell_type": "markdown",
      "source": [
        "# 문제23 : OX문제\n",
        "\n",
        "print(10/2)의 출력 결과는 **5**이다.\n",
        "\n",
        "**X** 5.0\n",
        "\n",
        "/ -> float\n",
        "\n",
        "print(10/2) = 5.0\n",
        "\n",
        "print(10//2) = 5"
      ],
      "metadata": {
        "id": "58prElcV3ARQ"
      }
    },
    {
      "cell_type": "code",
      "source": [
        "print(10/2)"
      ],
      "metadata": {
        "colab": {
          "base_uri": "https://localhost:8080/"
        },
        "id": "TNurNgek2p_P",
        "outputId": "0fc4f21f-7a3c-4424-983d-528b6c3c876d"
      },
      "execution_count": null,
      "outputs": [
        {
          "output_type": "stream",
          "name": "stdout",
          "text": [
            "5.0\n"
          ]
        }
      ]
    },
    {
      "cell_type": "code",
      "source": [
        "print(10//2)"
      ],
      "metadata": {
        "colab": {
          "base_uri": "https://localhost:8080/"
        },
        "id": "W_ygGoWg3SqC",
        "outputId": "674a6d7b-1e7b-48e5-ffaf-a9a53b6fd750"
      },
      "execution_count": null,
      "outputs": [
        {
          "output_type": "stream",
          "name": "stdout",
          "text": [
            "5\n"
          ]
        }
      ]
    },
    {
      "cell_type": "markdown",
      "source": [
        "# 문제24 : 대문자로 바꿔주세요!\n",
        "\n",
        "민지는 국제 포럼에서 아르바이트를 하게 되었습니다. 민지는 각 국에서 온 참가자들의 명단을 엑셀로 정리하고 있는데 참가자들 이름이 어떤 이는 전부 소문자, 어떤 이는 전부 대문자로 써져 있는 등 형식이 제각각이었습니다.\n",
        "\n",
        "민지를 위해 **이름이 입력되면 전부 대문자로 출력되는 프로그램**을 만들어주세요.\n",
        "\n",
        ">> 입력\n",
        "\n",
        "```python\n",
        "mary\n",
        "```\n",
        "\n",
        ">> 출력\n",
        "```python\n",
        "MARY\n",
        "```"
      ],
      "metadata": {
        "id": "wY2IBhQE4MOT"
      }
    },
    {
      "cell_type": "code",
      "source": [
        "name = input()\n",
        "print(name.upper())"
      ],
      "metadata": {
        "colab": {
          "base_uri": "https://localhost:8080/"
        },
        "id": "lEbjJIcy3__T",
        "outputId": "7b94fb1b-1008-4c64-98d8-9cfa31f870bd"
      },
      "execution_count": null,
      "outputs": [
        {
          "output_type": "stream",
          "name": "stdout",
          "text": [
            "aFwd\n",
            "AFWD\n"
          ]
        }
      ]
    },
    {
      "cell_type": "code",
      "source": [
        "ord('a')"
      ],
      "metadata": {
        "colab": {
          "base_uri": "https://localhost:8080/"
        },
        "id": "B5qriwXv4mnF",
        "outputId": "4b5621b2-f10c-49ff-9f3d-a6facf621002"
      },
      "execution_count": null,
      "outputs": [
        {
          "output_type": "execute_result",
          "data": {
            "text/plain": [
              "97"
            ]
          },
          "metadata": {},
          "execution_count": 23
        }
      ]
    },
    {
      "cell_type": "code",
      "source": [
        "chr(97)"
      ],
      "metadata": {
        "colab": {
          "base_uri": "https://localhost:8080/",
          "height": 35
        },
        "id": "LqkWWZP_40AB",
        "outputId": "c912b138-7f66-4ce6-a2d7-be4eefe569ba"
      },
      "execution_count": null,
      "outputs": [
        {
          "output_type": "execute_result",
          "data": {
            "text/plain": [
              "'a'"
            ],
            "application/vnd.google.colaboratory.intrinsic+json": {
              "type": "string"
            }
          },
          "metadata": {},
          "execution_count": 27
        }
      ]
    },
    {
      "cell_type": "code",
      "source": [
        "ord('A')"
      ],
      "metadata": {
        "colab": {
          "base_uri": "https://localhost:8080/"
        },
        "id": "C4I_ZAd84meQ",
        "outputId": "913bf067-e903-4767-c0d6-93185e6a1d5c"
      },
      "execution_count": null,
      "outputs": [
        {
          "output_type": "execute_result",
          "data": {
            "text/plain": [
              "65"
            ]
          },
          "metadata": {},
          "execution_count": 24
        }
      ]
    },
    {
      "cell_type": "code",
      "source": [
        "name = input()\n",
        "s = ''\n",
        "for i in name:\n",
        "  s += chr(ord(i)-32)\n",
        "print(s) "
      ],
      "metadata": {
        "colab": {
          "base_uri": "https://localhost:8080/"
        },
        "id": "8evEtP9r4Wmv",
        "outputId": "d09edacf-bee7-4780-a488-a90dc75e37ac"
      },
      "execution_count": null,
      "outputs": [
        {
          "output_type": "stream",
          "name": "stdout",
          "text": [
            "as\n",
            "AS\n"
          ]
        }
      ]
    },
    {
      "cell_type": "markdown",
      "source": [
        "# 문제25 : 원의 넓이를 구하세요\n",
        "\n",
        "원의 넓이는 `반지름의 길이 x 반지름의 길이 x 3.14`로 구할 수 있습니다.\n",
        "함수를 사용하여 원의 넓이를 구하는 코드를 작성해봅시다.\n",
        "\n",
        "**입력을 반지름의 길이로 정수 n이 주어지면 원의 넓이를 반환하는 함수**를 만들어 주세요.\n",
        "(입력을 해야하기 때문에 input을 반드시 사용해야합니다)"
      ],
      "metadata": {
        "id": "BMjZ0SC8_YWB"
      }
    },
    {
      "cell_type": "code",
      "source": [
        "r = int(input())\n",
        "print(r**2*3.14)"
      ],
      "metadata": {
        "colab": {
          "base_uri": "https://localhost:8080/"
        },
        "id": "Ku8_floM5BrE",
        "outputId": "87df7e0d-c1c3-4235-aede-880d5fe878b3"
      },
      "execution_count": null,
      "outputs": [
        {
          "output_type": "stream",
          "name": "stdout",
          "text": [
            "3\n",
            "28.26\n"
          ]
        }
      ]
    },
    {
      "cell_type": "code",
      "source": [
        "def 원의넓이(r):\n",
        "  return r**2*3.14\n",
        "\n",
        "r = float(input())\n",
        "원의넓이(10)"
      ],
      "metadata": {
        "colab": {
          "base_uri": "https://localhost:8080/"
        },
        "id": "opPl55Ro_d7_",
        "outputId": "8c8e74a7-249c-4f98-81fd-025450d975d2"
      },
      "execution_count": null,
      "outputs": [
        {
          "name": "stdout",
          "output_type": "stream",
          "text": [
            "3.0\n"
          ]
        },
        {
          "output_type": "execute_result",
          "data": {
            "text/plain": [
              "314.0"
            ]
          },
          "metadata": {},
          "execution_count": 7
        }
      ]
    },
    {
      "cell_type": "markdown",
      "source": [
        "# Iterable과 Iterator\n",
        "1-1 Iterable\n",
        "\n",
        "iterable 객체 - 반복 가능한 객체\n",
        "\n",
        "대표적으로 iterable한 타입 - list, dict, set, str, bytes, tuple, range\n",
        "\n",
        "for in 반복문, Range, enumerate 에서 iterable한 타입과 iterable한 타입을 확인하는 방법이 있습니다.\n",
        "\n",
        "1-2 Iterator\n",
        "\n",
        "iterator 객체 - 값을 차례대로 꺼낼 수 있는 객체입니다.\n",
        "\n",
        "iterator는 iterable한 객체를 내장함수 또는 iterable객체의 메소드로 객체를 생성할 수 있습니다."
      ],
      "metadata": {
        "id": "_pbeyMi4GTw0"
      }
    },
    {
      "cell_type": "markdown",
      "source": [
        "# 문제26 : 행성 문제2\n",
        "\n",
        "우리 태양계를 이루는 행성은 수성, 금성, 지구, 화성, 목성, 토성, 천왕성, 해왕성이 있습니다.\n",
        "이 행성들의 영어 이름은 Mercury, Venus, Earth, Mars, Jupiter, Saturn, Uranus, Neptune입니다.\n",
        "\n",
        "**행성의 한글 이름을 입력하면 영어 이름을 반환하는 프로그램**을 만들어 주세요."
      ],
      "metadata": {
        "id": "i5WXbiaqAMJZ"
      }
    },
    {
      "cell_type": "code",
      "source": [
        "행성 = ['수성', '금성', '지구', '화성', '목성', '토성', '천왕성', '해왕성']\n",
        "행성영어 = ['Mercury', 'Venus', 'Earth', 'Mars', 'Jupiter', 'Saturn', 'Uranus', 'Neptune']"
      ],
      "metadata": {
        "id": "smr7Q_us_wuz"
      },
      "execution_count": null,
      "outputs": []
    },
    {
      "cell_type": "code",
      "source": [
        "planets = {\n",
        "\t'수성' : 'Mercury',\n",
        "\t'금성' : 'Venus',\n",
        "\t'지구' : 'Earth',\n",
        "\t'화성' : 'Mars',\n",
        "\t'목성' : 'Jupiter',\n",
        "\t'토성' : 'Saturn',\n",
        "\t'천왕성' : 'Uranus',\n",
        "\t'해왕성' : 'Neptune',\n",
        "}\n",
        "name = input()\n",
        "planets[name].replace(\"'\",\"\")"
      ],
      "metadata": {
        "colab": {
          "base_uri": "https://localhost:8080/",
          "height": 53
        },
        "id": "jm3kTvaxKFFz",
        "outputId": "4511b919-41c3-4551-9e17-602f4cff5711"
      },
      "execution_count": null,
      "outputs": [
        {
          "name": "stdout",
          "output_type": "stream",
          "text": [
            "수성\n"
          ]
        },
        {
          "output_type": "execute_result",
          "data": {
            "text/plain": [
              "'Mercury'"
            ],
            "application/vnd.google.colaboratory.intrinsic+json": {
              "type": "string"
            }
          },
          "metadata": {},
          "execution_count": 54
        }
      ]
    },
    {
      "cell_type": "code",
      "source": [
        "행성 = ['수성', '금성', '지구', '화성', '목성', '토성', '천왕성', '해왕성']\n",
        "행성영어 = ['Mercury', 'Venus', 'Earth', 'Mars', 'Jupiter', 'Saturn', 'Uranus', 'Neptune']\n",
        "result = zip(행성, 행성영어)\n",
        "#print(list(result))\n",
        "#result_set = set(result)\n",
        "#print(1)\n",
        "#print(result)\n",
        "name = input()\n",
        "a = 행성영어[행성.index(name)]\n",
        "print(a, sep='') # Earth \n",
        "print(a)       # Earth"
      ],
      "metadata": {
        "colab": {
          "base_uri": "https://localhost:8080/"
        },
        "id": "QzXW2gqkAYyz",
        "outputId": "c7743740-2fbd-42ed-d4af-0ab4b738a65e"
      },
      "execution_count": null,
      "outputs": [
        {
          "output_type": "stream",
          "name": "stdout",
          "text": [
            "수성\n",
            "Mercury\n",
            "Mercury\n"
          ]
        }
      ]
    },
    {
      "cell_type": "code",
      "source": [
        "data = dict(zip(행성, 행성영어))\n",
        "name = input()\n",
        "a = data.get(name,'값 없음') # 반환되는 값이 없을때 '값없음'\n",
        "print(a)"
      ],
      "metadata": {
        "colab": {
          "base_uri": "https://localhost:8080/"
        },
        "id": "sQIZvy14AOyP",
        "outputId": "4b74f35f-90fe-4407-aeaa-78fc9c918551"
      },
      "execution_count": null,
      "outputs": [
        {
          "output_type": "stream",
          "name": "stdout",
          "text": [
            "수성\n",
            "Mercury\n"
          ]
        }
      ]
    },
    {
      "cell_type": "code",
      "source": [
        "numbers = [1, 2, 3]\n",
        "numbers_str = ['one', 'two', 'three']\n",
        "str_list = ['1st', '2nd', '3rd']\n",
        "\n",
        "result = zip(numbers, numbers_str, str_list)\n",
        "\n",
        "result_set = set(result)\n",
        "print(result_set)\n"
      ],
      "metadata": {
        "colab": {
          "base_uri": "https://localhost:8080/"
        },
        "id": "yk_1Q1OJBOm6",
        "outputId": "cb8b0657-f450-4f6d-8569-9ed4a6bfb95c"
      },
      "execution_count": null,
      "outputs": [
        {
          "output_type": "stream",
          "name": "stdout",
          "text": [
            "{(2, 'two', '2nd'), (3, 'three', '3rd'), (1, 'one', '1st')}\n"
          ]
        }
      ]
    },
    {
      "cell_type": "markdown",
      "source": [
        "# 문제27 : 딕셔너리 만들기\n",
        "\n",
        "첫 줄에는 학생의 이름이 공백으로 구분되어 입력되고, 두번째 줄에는 그 학생의 수학 점수가 공백으로 구분되어 주어집니다.\n",
        "\n",
        "두 개를 합쳐 **학생의 이름이 key**이고 **value가 수학 점수**인 딕셔너리를 출력해주세요.\n",
        "\n",
        ">> 입력\n",
        "\n",
        "```python\n",
        "Yujin Hyewon\n",
        "70 100\n",
        "```\n",
        "\n",
        ">> 출력\n",
        "```python\n",
        "{'Yujin': 70, 'Hyewon': 100}\n",
        "```"
      ],
      "metadata": {
        "id": "OaVtCeub-x9q"
      }
    },
    {
      "cell_type": "code",
      "source": [
        "keys = input().split()\n",
        "values = map(int, input().split())\n",
        "\n",
        "dict(zip(keys, values))"
      ],
      "metadata": {
        "colab": {
          "base_uri": "https://localhost:8080/"
        },
        "id": "kD6rFBCTGou4",
        "outputId": "f408f9d5-7123-4830-c83f-941a29b52c9b"
      },
      "execution_count": null,
      "outputs": [
        {
          "name": "stdout",
          "output_type": "stream",
          "text": [
            "Yujin Hyewon\n",
            "70 100\n"
          ]
        },
        {
          "output_type": "execute_result",
          "data": {
            "text/plain": [
              "{'Hyewon': 100, 'Yujin': 70}"
            ]
          },
          "metadata": {},
          "execution_count": 3
        }
      ]
    },
    {
      "cell_type": "code",
      "source": [
        "range(10)"
      ],
      "metadata": {
        "colab": {
          "base_uri": "https://localhost:8080/"
        },
        "id": "TNuaAwNT_GD7",
        "outputId": "2f179f40-6889-4851-c53c-e8af7a63e661"
      },
      "execution_count": null,
      "outputs": [
        {
          "output_type": "execute_result",
          "data": {
            "text/plain": [
              "range(0, 10)"
            ]
          },
          "metadata": {},
          "execution_count": 4
        }
      ]
    },
    {
      "cell_type": "markdown",
      "source": [
        "# 문제28 : 2-gram\n",
        "\n",
        "**2-gram**이란 문자열에서 2개의 연속된 요소를 출력하는 방법입니다. \n",
        "\n",
        "예를 들어 '**Python**'을 2-gram으로 반복해 본다면 다음과 같은 결과가 나옵니다.\n",
        "\n",
        "```python\n",
        "Py\n",
        "yt\n",
        "th\n",
        "ho\n",
        "on\n",
        "```\n",
        "\n",
        "입력으로 문자열이 주어지면 **2-gram**으로 출력하는 프로그램을 작성해 주세요."
      ],
      "metadata": {
        "id": "dyQHCEdL_1Bc"
      }
    },
    {
      "cell_type": "code",
      "source": [
        "data = input()\n",
        "for i in range(len(data)-1):\n",
        "  print(data[i]+data[i+1])"
      ],
      "metadata": {
        "colab": {
          "base_uri": "https://localhost:8080/"
        },
        "id": "qrcTzaPK_qZn",
        "outputId": "52176677-5ecb-41b1-80d0-15b6bf79a534"
      },
      "execution_count": null,
      "outputs": [
        {
          "output_type": "stream",
          "name": "stdout",
          "text": [
            "python\n",
            "py\n",
            "yt\n",
            "th\n",
            "ho\n",
            "on\n"
          ]
        }
      ]
    },
    {
      "cell_type": "code",
      "source": [
        "data = input()\n",
        "for i in range(1, len(data)):\n",
        "  print(data[i-1]+ data[i])"
      ],
      "metadata": {
        "colab": {
          "base_uri": "https://localhost:8080/"
        },
        "id": "CxgTn8F0AAyS",
        "outputId": "d7043a8b-26d2-4b21-c878-c4bdd92648c5"
      },
      "execution_count": null,
      "outputs": [
        {
          "output_type": "stream",
          "name": "stdout",
          "text": [
            "python\n",
            "py\n",
            "yt\n",
            "th\n",
            "ho\n",
            "on\n"
          ]
        }
      ]
    },
    {
      "cell_type": "markdown",
      "source": [
        "# 문제29 : 대문자만 지나가세요\n",
        "\n",
        "진구는 영어 학원 아르바이트를 하고 있습니다.\n",
        "\n",
        " 반 아이들은 알파벳을 공부하는 학생들인데 오늘은 대문자 쓰기 시험을 봤습니다.\n",
        "\n",
        "**알파벳 하나만을 입력하고 그 알파벳이 대문자이면 YES를 아니면 NO를 출력하는 프로그램**을 만들어 주세요.\n",
        "\n",
        "→ 알파벳 여러개를 입력하고 여러개 입력한 것 중 대문자만 출력해주는 프로그램도 만들어보세요."
      ],
      "metadata": {
        "id": "9fgfoDtIB5ww"
      }
    },
    {
      "cell_type": "code",
      "source": [
        "data = input()\n",
        "\n",
        "try:\n",
        "  if data == data.upper():\n",
        "    print('YES')\n",
        "  else : print('NO')\n",
        "except:\n",
        "  pass"
      ],
      "metadata": {
        "colab": {
          "base_uri": "https://localhost:8080/"
        },
        "id": "eX32sTiHA1TO",
        "outputId": "dc38a316-f6a4-4e97-ee51-a8ba355cd0a7"
      },
      "execution_count": null,
      "outputs": [
        {
          "output_type": "stream",
          "name": "stdout",
          "text": [
            "P\n",
            "YES\n"
          ]
        }
      ]
    },
    {
      "cell_type": "code",
      "source": [
        "data = input()\n",
        "\n",
        "if data.isupper():\n",
        "  print('YES')\n",
        "else:\n",
        "  print('NO')"
      ],
      "metadata": {
        "id": "ugbQ4tz2CVGt"
      },
      "execution_count": null,
      "outputs": []
    },
    {
      "cell_type": "code",
      "source": [
        "ord('A'), ord('Z')"
      ],
      "metadata": {
        "colab": {
          "base_uri": "https://localhost:8080/"
        },
        "id": "QBMlliUwCqMR",
        "outputId": "aaa09df9-b13f-4d7a-81a9-f4a4d8dbf5f4"
      },
      "execution_count": null,
      "outputs": [
        {
          "output_type": "execute_result",
          "data": {
            "text/plain": [
              "(65, 90)"
            ]
          },
          "metadata": {},
          "execution_count": 17
        }
      ]
    },
    {
      "cell_type": "code",
      "source": [
        "data = input()\n",
        "\n",
        "for i in data:\n",
        "  if ord(i) >=65 and ord(i) <= 90:\n",
        "    continue\n",
        "  else : \n",
        "    result = False\n",
        "    break\n",
        "else: # 정상종료\n",
        "  result = True\n",
        "  print('YES')\n",
        "if not result: \n",
        "  print('NO')"
      ],
      "metadata": {
        "colab": {
          "base_uri": "https://localhost:8080/"
        },
        "id": "7u8aDeaGCshQ",
        "outputId": "9450a30c-66ce-4fde-e84a-ef858da9bf0e"
      },
      "execution_count": null,
      "outputs": [
        {
          "output_type": "stream",
          "name": "stdout",
          "text": [
            "niie\n",
            "NO\n"
          ]
        }
      ]
    },
    {
      "cell_type": "markdown",
      "source": [
        "# 문제30 : 문자열 속 문자 찾기\n",
        "\n",
        "문자 pineapple에는 apple이라는 문자가 숨어 있습니다. \n",
        "\n",
        "원범이는 이렇듯 문자열 속에 숨어있는 문자를 찾아보려고 합니다.\n",
        "\n",
        "입력으로 첫 줄에 문자열이 주어지고 둘째 줄에 찾을 문자가 주어지면 \n",
        "\n",
        "**그 문자가 시작하는 index를 반환하는 프로그램**을 만들어 주세요"
      ],
      "metadata": {
        "id": "UzECrl3ACk2W"
      }
    },
    {
      "cell_type": "markdown",
      "source": [
        "```python\n",
        "입력\n",
        "\n",
        "pineapple is yummy\n",
        "apple\n",
        "\n",
        "\n",
        "출력\n",
        "4\n",
        "```"
      ],
      "metadata": {
        "id": "5eqFwZLXNCbp"
      }
    },
    {
      "cell_type": "code",
      "source": [
        "# 내가 푼 것\n",
        "data1 = input()\n",
        "data2 = input()\n",
        "\n",
        "s = len(data1)\n",
        "s1 = len(data2)\n",
        "\n",
        "for i in range(s):\n",
        "  if data1[i:s1+i] == data2:\n",
        "    print(i)"
      ],
      "metadata": {
        "colab": {
          "base_uri": "https://localhost:8080/"
        },
        "id": "u6yht3NNCsXS",
        "outputId": "e9f1de1b-7c60-47e8-c4a3-3bda783bef1a"
      },
      "execution_count": null,
      "outputs": [
        {
          "output_type": "stream",
          "name": "stdout",
          "text": [
            "apineapple is yummy\n",
            "apple\n",
            "5\n"
          ]
        }
      ]
    },
    {
      "cell_type": "code",
      "source": [
        "data = input()\n",
        "word = input()\n",
        "\n",
        "if word in data:\n",
        "  print(data.find(word))  # find 는 에러 출력 없음. -1 출력 대신 data.index(world)는 에러뽑힘 실무에서는 에러 노노"
      ],
      "metadata": {
        "colab": {
          "base_uri": "https://localhost:8080/"
        },
        "id": "N-BgsqvkCon7",
        "outputId": "99354494-6ba4-40b0-fb5f-98e6121db3a0"
      },
      "execution_count": null,
      "outputs": [
        {
          "output_type": "stream",
          "name": "stdout",
          "text": [
            "pineapple is yummy\n",
            "apple\n",
            "4\n"
          ]
        }
      ]
    },
    {
      "cell_type": "code",
      "source": [
        "data = input()\n",
        "word = input()\n",
        "\n",
        "if word in data:\n",
        "  print(data.index(word))"
      ],
      "metadata": {
        "colab": {
          "base_uri": "https://localhost:8080/"
        },
        "id": "AYuygeBXRn_U",
        "outputId": "4c63d157-01c4-4c4e-b27b-a18d232e8e1d"
      },
      "execution_count": null,
      "outputs": [
        {
          "name": "stdout",
          "output_type": "stream",
          "text": [
            "pineapple\n",
            "aw\n"
          ]
        }
      ]
    },
    {
      "cell_type": "code",
      "source": [
        "data.index(word)"
      ],
      "metadata": {
        "colab": {
          "base_uri": "https://localhost:8080/",
          "height": 166
        },
        "id": "lr0HB_elR53B",
        "outputId": "68e89bea-d8c8-49ca-8248-7d2558ac4847"
      },
      "execution_count": null,
      "outputs": [
        {
          "output_type": "error",
          "ename": "ValueError",
          "evalue": "ignored",
          "traceback": [
            "\u001b[0;31m---------------------------------------------------------------------------\u001b[0m",
            "\u001b[0;31mValueError\u001b[0m                                Traceback (most recent call last)",
            "\u001b[0;32m<ipython-input-42-fd990d09ecac>\u001b[0m in \u001b[0;36m<module>\u001b[0;34m()\u001b[0m\n\u001b[0;32m----> 1\u001b[0;31m \u001b[0mdata\u001b[0m\u001b[0;34m.\u001b[0m\u001b[0mindex\u001b[0m\u001b[0;34m(\u001b[0m\u001b[0mword\u001b[0m\u001b[0;34m)\u001b[0m\u001b[0;34m\u001b[0m\u001b[0;34m\u001b[0m\u001b[0m\n\u001b[0m",
            "\u001b[0;31mValueError\u001b[0m: substring not found"
          ]
        }
      ]
    },
    {
      "cell_type": "code",
      "source": [
        "data.find(word)"
      ],
      "metadata": {
        "colab": {
          "base_uri": "https://localhost:8080/"
        },
        "id": "MMtb4u-aSwBs",
        "outputId": "96d54288-8d59-41e4-8ba9-d5e1e07600e0"
      },
      "execution_count": null,
      "outputs": [
        {
          "output_type": "execute_result",
          "data": {
            "text/plain": [
              "-1"
            ]
          },
          "metadata": {},
          "execution_count": 43
        }
      ]
    },
    {
      "cell_type": "markdown",
      "source": [
        "# 문제31 : 파이썬 자료형의 복잡도\n",
        "\n",
        "다음 리스트의 내장함수의 시간 복잡도가 O(1)이 아닌것은?\n",
        "\n",
        "1)  l[i] \n",
        "\n",
        "2)  l.append(5)\n",
        "\n",
        "3)  l[a:b]\n",
        "\n",
        "4)  l.pop()\n",
        "\n",
        "5)  l.clear()\n",
        "\n",
        "정답 : 3번\n",
        "나머지는 한번에 할 수 있지만\n",
        "\n",
        "슬라이싱은 한번에 안됨\n"
      ],
      "metadata": {
        "id": "uD16LQjYTHV5"
      }
    },
    {
      "cell_type": "code",
      "source": [
        "# 만약 1부터 100까지 더한다?\n",
        "s = 0\n",
        "for i in range(101):  # O(n)\n",
        "  s+=i\n",
        "s"
      ],
      "metadata": {
        "colab": {
          "base_uri": "https://localhost:8080/"
        },
        "id": "7YsQF3MxSymR",
        "outputId": "b8af7f14-e368-47d8-9dd2-9662611073f6"
      },
      "execution_count": null,
      "outputs": [
        {
          "output_type": "execute_result",
          "data": {
            "text/plain": [
              "5050"
            ]
          },
          "metadata": {},
          "execution_count": 44
        }
      ]
    },
    {
      "cell_type": "code",
      "source": [
        "n = 100\n",
        "(n*(n+1))/2  # O(1)"
      ],
      "metadata": {
        "colab": {
          "base_uri": "https://localhost:8080/"
        },
        "id": "OjfFB_VZT9fm",
        "outputId": "4b108b50-7dd8-4b1b-83f2-8f938ead2b5e"
      },
      "execution_count": null,
      "outputs": [
        {
          "output_type": "execute_result",
          "data": {
            "text/plain": [
              "5050.0"
            ]
          },
          "metadata": {},
          "execution_count": 46
        }
      ]
    },
    {
      "cell_type": "markdown",
      "source": [
        "# 문제32 : 문자열 만들기\n",
        "\n",
        "취업 준비생인 혜림이는 자기소개서를 쓰고 있습니다.\n",
        "\n",
        "열심히 자기소개서를 작성하던 도중 혜림이는 자기가 지금까지 단어를 얼마나 적었는지 궁금하게 됩니다. \n",
        "\n",
        "혜림이를 위해 **문자열을 입력받으면 단어의 갯수를 출력하는 프로그램**을 작성해 주세요.\n",
        "\n",
        "```python\n",
        "**입출력**\n",
        "\n",
        "입력 : 안녕하세요. 저는 제주대학교 컴퓨터공학전공 혜림입니다.\n",
        "출력 : 5\n",
        "```"
      ],
      "metadata": {
        "id": "7mhVq-HCYsyT"
      }
    },
    {
      "cell_type": "code",
      "source": [
        "\n",
        "n = input()\n",
        "l = list(n.strip().split())\n",
        "print(len(l))\n"
      ],
      "metadata": {
        "colab": {
          "base_uri": "https://localhost:8080/"
        },
        "id": "zvtGKSq5adeo",
        "outputId": "6229e939-6146-4a4d-ecc5-d8250518efcb"
      },
      "execution_count": null,
      "outputs": [
        {
          "output_type": "stream",
          "name": "stdout",
          "text": [
            "안녕하세요. 저는 제주대학교 컴퓨터공학전공 혜림입니다.    \n",
            "5\n"
          ]
        }
      ]
    },
    {
      "cell_type": "code",
      "source": [
        "n = input()\n",
        "print(len(n.split()))"
      ],
      "metadata": {
        "colab": {
          "base_uri": "https://localhost:8080/"
        },
        "id": "lfIf19AgiEG8",
        "outputId": "fe4d366f-ad6b-4d26-f5c7-6210a263ad36"
      },
      "execution_count": null,
      "outputs": [
        {
          "output_type": "stream",
          "name": "stdout",
          "text": [
            "안녕하세요. 저는 제주대학교 컴퓨터공학전공 혜림입니다.\n",
            "5\n"
          ]
        }
      ]
    },
    {
      "cell_type": "code",
      "source": [
        "data = '안녕하세요.      저는 제주대학교 컴퓨터공학전공 혜림입니다.'\n",
        "data.split()"
      ],
      "metadata": {
        "colab": {
          "base_uri": "https://localhost:8080/"
        },
        "id": "_ce8dz9dUEgA",
        "outputId": "fd41723e-8c77-404f-f8ba-553826eb8d56"
      },
      "execution_count": null,
      "outputs": [
        {
          "output_type": "execute_result",
          "data": {
            "text/plain": [
              "['안녕하세요.', '저는', '제주대학교', '컴퓨터공학전공', '혜림입니다.']"
            ]
          },
          "metadata": {},
          "execution_count": 55
        }
      ]
    },
    {
      "cell_type": "code",
      "source": [
        "data = '안녕하세요.      저는 제주대학교 컴퓨터공학전공 혜림입니다.'\n",
        "len(data.split())"
      ],
      "metadata": {
        "colab": {
          "base_uri": "https://localhost:8080/"
        },
        "id": "TcVw8od_ZBRq",
        "outputId": "7b319cf3-d363-4101-b6fd-3474c1457a89"
      },
      "execution_count": null,
      "outputs": [
        {
          "output_type": "execute_result",
          "data": {
            "text/plain": [
              "5"
            ]
          },
          "metadata": {},
          "execution_count": 52
        }
      ]
    },
    {
      "cell_type": "code",
      "source": [
        "text = '####안녕####'\n",
        "text = text.strip('#')\n",
        "text"
      ],
      "metadata": {
        "colab": {
          "base_uri": "https://localhost:8080/",
          "height": 35
        },
        "id": "xuKvM7jnZM1_",
        "outputId": "4130966d-cd8a-4c2b-ab71-157fe4cad04b"
      },
      "execution_count": null,
      "outputs": [
        {
          "output_type": "execute_result",
          "data": {
            "text/plain": [
              "'안녕'"
            ],
            "application/vnd.google.colaboratory.intrinsic+json": {
              "type": "string"
            }
          },
          "metadata": {},
          "execution_count": 58
        }
      ]
    },
    {
      "cell_type": "code",
      "source": [
        "text = '####안녕####'\n",
        "text = text.lstrip('#')\n",
        "text"
      ],
      "metadata": {
        "colab": {
          "base_uri": "https://localhost:8080/",
          "height": 35
        },
        "id": "805O3JBqa8YM",
        "outputId": "0c7b62e9-b8fb-40c6-edfe-c682c07c10bd"
      },
      "execution_count": null,
      "outputs": [
        {
          "output_type": "execute_result",
          "data": {
            "text/plain": [
              "'안녕####'"
            ],
            "application/vnd.google.colaboratory.intrinsic+json": {
              "type": "string"
            }
          },
          "metadata": {},
          "execution_count": 59
        }
      ]
    },
    {
      "cell_type": "code",
      "source": [
        "text = '####안녕####'\n",
        "text = text.rstrip('#')\n",
        "text"
      ],
      "metadata": {
        "colab": {
          "base_uri": "https://localhost:8080/",
          "height": 35
        },
        "id": "ertjDU6ObApV",
        "outputId": "57c71606-b7ce-4228-d5cc-11b897a064fd"
      },
      "execution_count": null,
      "outputs": [
        {
          "output_type": "execute_result",
          "data": {
            "text/plain": [
              "'####안녕'"
            ],
            "application/vnd.google.colaboratory.intrinsic+json": {
              "type": "string"
            }
          },
          "metadata": {},
          "execution_count": 60
        }
      ]
    },
    {
      "cell_type": "code",
      "source": [
        "text = '####안녕####'\n",
        "text = text.split('안녕')\n",
        "text"
      ],
      "metadata": {
        "colab": {
          "base_uri": "https://localhost:8080/"
        },
        "id": "4dcZl79tbCJg",
        "outputId": "daada866-cc50-4178-a76a-6f73416e750f"
      },
      "execution_count": null,
      "outputs": [
        {
          "output_type": "execute_result",
          "data": {
            "text/plain": [
              "['####', '####']"
            ]
          },
          "metadata": {},
          "execution_count": 63
        }
      ]
    },
    {
      "cell_type": "markdown",
      "source": [
        "# 문제33 : 거꾸로 출력하기\n",
        "\n",
        "한 줄에 여러개의 숫자가 입력되면, 역순으로 그 숫자들을 하나씩 출력하는 프로그램을 작성하시오.\n",
        "```python\n",
        "입출력\n",
        "\n",
        "입력 : 1 2 3 4 5\n",
        "출력 : 5 4 3 2 1\n",
        "\n",
        "입력 : 2 4 6 7 8\n",
        "출력 : 8 7 6 4 2\n",
        "```\n"
      ],
      "metadata": {
        "id": "yS9cBMUaik8G"
      }
    },
    {
      "cell_type": "code",
      "source": [
        "data = input()\n",
        "data[::-1]"
      ],
      "metadata": {
        "colab": {
          "base_uri": "https://localhost:8080/",
          "height": 53
        },
        "id": "pOtDkqg8ikhT",
        "outputId": "22b889d0-6360-4b70-8e20-86fc5ccdc675"
      },
      "execution_count": null,
      "outputs": [
        {
          "name": "stdout",
          "output_type": "stream",
          "text": [
            "10 20 30\n"
          ]
        },
        {
          "output_type": "execute_result",
          "data": {
            "text/plain": [
              "'03 02 01'"
            ],
            "application/vnd.google.colaboratory.intrinsic+json": {
              "type": "string"
            }
          },
          "metadata": {},
          "execution_count": 71
        }
      ]
    },
    {
      "cell_type": "code",
      "source": [
        "# 내가 푼 것\n",
        "data = list(map(int, input().split()))\n",
        "\n",
        "for i in range(1, len(data)+1):\n",
        "  print(data[len(data)-i], end=' ')"
      ],
      "metadata": {
        "colab": {
          "base_uri": "https://localhost:8080/"
        },
        "id": "-LmkdHDLbM-t",
        "outputId": "c1e78af2-6b74-4e0f-c1e5-bb9376ba7e60"
      },
      "execution_count": null,
      "outputs": [
        {
          "output_type": "stream",
          "name": "stdout",
          "text": [
            "10 20 30 40 50\n",
            "50 40 30 20 10 "
          ]
        }
      ]
    },
    {
      "cell_type": "code",
      "source": [
        "data = input()\n",
        "list(data.split())[::-1]"
      ],
      "metadata": {
        "colab": {
          "base_uri": "https://localhost:8080/"
        },
        "id": "H0EcDOG9jGoe",
        "outputId": "f0783b8b-4604-4884-ea3f-ba700c1d08be"
      },
      "execution_count": null,
      "outputs": [
        {
          "name": "stdout",
          "output_type": "stream",
          "text": [
            "10 20 30\n"
          ]
        },
        {
          "output_type": "execute_result",
          "data": {
            "text/plain": [
              "['30', '20', '10']"
            ]
          },
          "metadata": {},
          "execution_count": 90
        }
      ]
    },
    {
      "cell_type": "code",
      "source": [
        "data = input()\n",
        "data = list(data.split())\n",
        "\n",
        "for i in range(len(data)-1, -1, -1):\n",
        "  print(data[i], end = ' ')"
      ],
      "metadata": {
        "colab": {
          "base_uri": "https://localhost:8080/"
        },
        "id": "esl7q-2Sk07z",
        "outputId": "b3b9965e-7516-41d7-8f6f-c7bdcf5e03fe"
      },
      "execution_count": null,
      "outputs": [
        {
          "output_type": "stream",
          "name": "stdout",
          "text": [
            "10 2 304 4\n",
            "4 304 2 10 "
          ]
        }
      ]
    },
    {
      "cell_type": "code",
      "source": [
        "data = input()\n",
        "data = list(data.split())\n",
        "length = len(data)\n",
        "print(length)"
      ],
      "metadata": {
        "colab": {
          "base_uri": "https://localhost:8080/"
        },
        "id": "JxdaZg6t16f5",
        "outputId": "c9e817dd-eff6-4c0d-cb5a-b3e442210ac5"
      },
      "execution_count": null,
      "outputs": [
        {
          "output_type": "stream",
          "name": "stdout",
          "text": [
            "10 20 30\n",
            "3\n"
          ]
        }
      ]
    },
    {
      "cell_type": "markdown",
      "source": [
        "# 문제34 : sort 확인하기\n",
        "\n",
        "민주는 체육부장으로 체육시간이 되면 반 친구들이 제대로 키 순서대로 모였는지를 확인해야 한다. \n",
        "\n",
        "그런데 요즘 민주는 그것이 너무 번거롭게 느껴져 한 번에 확인하고 싶어한다. \n",
        "\n",
        "민주를 위해 **키가 주어지면 순서대로 제대로 섰는지 확인하는 프로그램**을 작성해보자.\n",
        "\n",
        "**입출력 예시**\n",
        "\n",
        "```python\n",
        "\n",
        "입력 : 176 156 155 165 166 169\n",
        "출력 : NO\n",
        "```"
      ],
      "metadata": {
        "id": "RTw6Hz2N3c6M"
      }
    },
    {
      "cell_type": "code",
      "source": [
        "# 내가 푼 것\n",
        "data = list(map(int, input().split()))\n",
        "try:\n",
        "  if data != sorted(data):\n",
        "    print('NO')\n",
        "except:\n",
        "  pass"
      ],
      "metadata": {
        "colab": {
          "base_uri": "https://localhost:8080/"
        },
        "id": "YQk0DLzT5OrD",
        "outputId": "6713ac62-3b25-46a3-ead4-e831a9be2f52"
      },
      "execution_count": null,
      "outputs": [
        {
          "name": "stdout",
          "output_type": "stream",
          "text": [
            "1 2 34\n"
          ]
        }
      ]
    },
    {
      "cell_type": "code",
      "source": [
        "# 답안\n",
        "user_input = input()\n",
        "\n",
        "l = list(user_input.strip().split())\n",
        "l = [int (i) for i in l]\n",
        "\n",
        "if l != sorted(l):\n",
        "\tprint(\"NO\")\n",
        "\t\n",
        "else:\n",
        "\tprint(\"YES\")"
      ],
      "metadata": {
        "id": "JduDGLHHQy0A"
      },
      "execution_count": null,
      "outputs": []
    },
    {
      "cell_type": "code",
      "source": [
        "입력 : input()\n",
        "[i for i in range(10)]"
      ],
      "metadata": {
        "colab": {
          "base_uri": "https://localhost:8080/"
        },
        "id": "gv6oGMja6SrT",
        "outputId": "8602d11e-71b0-45d8-a450-2acadc61d10c"
      },
      "execution_count": null,
      "outputs": [
        {
          "name": "stdout",
          "output_type": "stream",
          "text": [
            "10\n"
          ]
        },
        {
          "output_type": "execute_result",
          "data": {
            "text/plain": [
              "[0, 1, 2, 3, 4, 5, 6, 7, 8, 9]"
            ]
          },
          "metadata": {},
          "execution_count": 133
        }
      ]
    },
    {
      "cell_type": "code",
      "source": [
        "[i for i in range(10)]  # [0, 1, 2, 3, 4, 5, 6, 7, 8, 9]\n",
        "# apppend for문 보다 메모리 효율이 좋다"
      ],
      "metadata": {
        "colab": {
          "base_uri": "https://localhost:8080/"
        },
        "id": "B3RfY8CI6ffM",
        "outputId": "725ecd30-96e4-4cc9-90f3-7420f2d59178"
      },
      "execution_count": null,
      "outputs": [
        {
          "output_type": "execute_result",
          "data": {
            "text/plain": [
              "[0, 1, 2, 3, 4, 5, 6, 7, 8, 9]"
            ]
          },
          "metadata": {},
          "execution_count": 134
        }
      ]
    },
    {
      "cell_type": "code",
      "source": [
        "입력 = input()\n",
        "l = [float(i) for i in 입력.split()]\n",
        "if l != sorted(l):\n",
        "  print('No')\n",
        "else : \n",
        "  print('Yes')"
      ],
      "metadata": {
        "colab": {
          "base_uri": "https://localhost:8080/"
        },
        "id": "9JY5903M8GQT",
        "outputId": "5c88651c-87da-4911-b1e5-013c4a34e4ee"
      },
      "execution_count": null,
      "outputs": [
        {
          "output_type": "stream",
          "name": "stdout",
          "text": [
            "1 2 3 4\n",
            "Yes\n"
          ]
        }
      ]
    },
    {
      "cell_type": "code",
      "source": [
        "l = []\n",
        "for i in range(10):\n",
        "  l.append(i)\n",
        "l"
      ],
      "metadata": {
        "colab": {
          "base_uri": "https://localhost:8080/"
        },
        "id": "Q4Nwf_B56jgc",
        "outputId": "dba2f3da-707c-48a7-ddc1-d9b33d471f85"
      },
      "execution_count": null,
      "outputs": [
        {
          "output_type": "execute_result",
          "data": {
            "text/plain": [
              "[0, 1, 2, 3, 4, 5, 6, 7, 8, 9]"
            ]
          },
          "metadata": {},
          "execution_count": 135
        }
      ]
    },
    {
      "cell_type": "code",
      "source": [
        "[f'{i} * {j} = {i * j}' for i in range(2, 10) for j in range(1, 10)]"
      ],
      "metadata": {
        "id": "e01IBDDg68F3"
      },
      "execution_count": null,
      "outputs": []
    },
    {
      "cell_type": "code",
      "source": [
        "l = []\n",
        "for i in range(2, 10):\n",
        "  for j in range(1, 10):\n",
        "    l.append(f'{i} * {j} = {i * j}')\n",
        "l"
      ],
      "metadata": {
        "colab": {
          "base_uri": "https://localhost:8080/"
        },
        "id": "FM4ndegv7dWw",
        "outputId": "55630edc-2188-4f94-9cb5-e88e547d021e"
      },
      "execution_count": null,
      "outputs": [
        {
          "output_type": "execute_result",
          "data": {
            "text/plain": [
              "['2 * 1 = 2',\n",
              " '2 * 2 = 4',\n",
              " '2 * 3 = 6',\n",
              " '2 * 4 = 8',\n",
              " '2 * 5 = 10',\n",
              " '2 * 6 = 12',\n",
              " '2 * 7 = 14',\n",
              " '2 * 8 = 16',\n",
              " '2 * 9 = 18',\n",
              " '3 * 1 = 3',\n",
              " '3 * 2 = 6',\n",
              " '3 * 3 = 9',\n",
              " '3 * 4 = 12',\n",
              " '3 * 5 = 15',\n",
              " '3 * 6 = 18',\n",
              " '3 * 7 = 21',\n",
              " '3 * 8 = 24',\n",
              " '3 * 9 = 27',\n",
              " '4 * 1 = 4',\n",
              " '4 * 2 = 8',\n",
              " '4 * 3 = 12',\n",
              " '4 * 4 = 16',\n",
              " '4 * 5 = 20',\n",
              " '4 * 6 = 24',\n",
              " '4 * 7 = 28',\n",
              " '4 * 8 = 32',\n",
              " '4 * 9 = 36',\n",
              " '5 * 1 = 5',\n",
              " '5 * 2 = 10',\n",
              " '5 * 3 = 15',\n",
              " '5 * 4 = 20',\n",
              " '5 * 5 = 25',\n",
              " '5 * 6 = 30',\n",
              " '5 * 7 = 35',\n",
              " '5 * 8 = 40',\n",
              " '5 * 9 = 45',\n",
              " '6 * 1 = 6',\n",
              " '6 * 2 = 12',\n",
              " '6 * 3 = 18',\n",
              " '6 * 4 = 24',\n",
              " '6 * 5 = 30',\n",
              " '6 * 6 = 36',\n",
              " '6 * 7 = 42',\n",
              " '6 * 8 = 48',\n",
              " '6 * 9 = 54',\n",
              " '7 * 1 = 7',\n",
              " '7 * 2 = 14',\n",
              " '7 * 3 = 21',\n",
              " '7 * 4 = 28',\n",
              " '7 * 5 = 35',\n",
              " '7 * 6 = 42',\n",
              " '7 * 7 = 49',\n",
              " '7 * 8 = 56',\n",
              " '7 * 9 = 63',\n",
              " '8 * 1 = 8',\n",
              " '8 * 2 = 16',\n",
              " '8 * 3 = 24',\n",
              " '8 * 4 = 32',\n",
              " '8 * 5 = 40',\n",
              " '8 * 6 = 48',\n",
              " '8 * 7 = 56',\n",
              " '8 * 8 = 64',\n",
              " '8 * 9 = 72',\n",
              " '9 * 1 = 9',\n",
              " '9 * 2 = 18',\n",
              " '9 * 3 = 27',\n",
              " '9 * 4 = 36',\n",
              " '9 * 5 = 45',\n",
              " '9 * 6 = 54',\n",
              " '9 * 7 = 63',\n",
              " '9 * 8 = 72',\n",
              " '9 * 9 = 81']"
            ]
          },
          "metadata": {},
          "execution_count": 146
        }
      ]
    },
    {
      "cell_type": "code",
      "source": [
        "sorted(data) # data 자체가 변하진 않음\n",
        "#data.sort()  # data 값이 변함\n",
        "data"
      ],
      "metadata": {
        "colab": {
          "base_uri": "https://localhost:8080/"
        },
        "id": "B4WQmjES5j5h",
        "outputId": "8a1cfc01-f5f9-490c-84e3-8c1addbadb1d"
      },
      "execution_count": null,
      "outputs": [
        {
          "output_type": "execute_result",
          "data": {
            "text/plain": [
              "[1, 2, 34]"
            ]
          },
          "metadata": {},
          "execution_count": 130
        }
      ]
    },
    {
      "cell_type": "code",
      "source": [
        "data = [176, 156, 155, 165, 166, 169]\n",
        "data.sort().  # 데이터 값이 변함\n",
        "data"
      ],
      "metadata": {
        "colab": {
          "base_uri": "https://localhost:8080/"
        },
        "id": "htdDgErh5_VS",
        "outputId": "f4b088ab-89af-4750-b9bc-8f338410d4d7"
      },
      "execution_count": null,
      "outputs": [
        {
          "output_type": "execute_result",
          "data": {
            "text/plain": [
              "[155, 156, 165, 166, 169, 176]"
            ]
          },
          "metadata": {},
          "execution_count": 131
        }
      ]
    },
    {
      "cell_type": "code",
      "source": [
        "data = [176, 156, 155, 165, 166, 169]\n",
        "sorted(data) # data 값이 변하진 않음\n",
        "data "
      ],
      "metadata": {
        "colab": {
          "base_uri": "https://localhost:8080/"
        },
        "id": "6V10iMDN6II4",
        "outputId": "5b8536cc-bc34-47e1-b9a6-2945a202de65"
      },
      "execution_count": null,
      "outputs": [
        {
          "output_type": "execute_result",
          "data": {
            "text/plain": [
              "[176, 156, 155, 165, 166, 169]"
            ]
          },
          "metadata": {},
          "execution_count": 132
        }
      ]
    },
    {
      "cell_type": "code",
      "source": [
        "data = list(map(int, input().split())). # 10 20 40 30\n",
        "\n",
        "#print(sorted(data))\n",
        "#data.sort()\n",
        "#data\n",
        "if data != sorted(data): \n",
        "  print(sorted(data)). # [10, 20, 30, 40]\n",
        "  print('NO')"
      ],
      "metadata": {
        "colab": {
          "base_uri": "https://localhost:8080/"
        },
        "id": "w6jv85RA2lR0",
        "outputId": "4b7dd40c-3d65-4c5b-e5d2-2b1a75fb1b49"
      },
      "execution_count": null,
      "outputs": [
        {
          "output_type": "stream",
          "name": "stdout",
          "text": [
            "10 20 40 30\n",
            "[10, 20, 30, 40]\n",
            "NO\n"
          ]
        }
      ]
    },
    {
      "cell_type": "code",
      "source": [
        "dir(list)"
      ],
      "metadata": {
        "colab": {
          "base_uri": "https://localhost:8080/"
        },
        "id": "Zm5uQV_t34Qv",
        "outputId": "db5e02d2-71b3-4462-a1eb-729c2511a75c"
      },
      "execution_count": null,
      "outputs": [
        {
          "output_type": "execute_result",
          "data": {
            "text/plain": [
              "['__add__',\n",
              " '__class__',\n",
              " '__contains__',\n",
              " '__delattr__',\n",
              " '__delitem__',\n",
              " '__dir__',\n",
              " '__doc__',\n",
              " '__eq__',\n",
              " '__format__',\n",
              " '__ge__',\n",
              " '__getattribute__',\n",
              " '__getitem__',\n",
              " '__gt__',\n",
              " '__hash__',\n",
              " '__iadd__',\n",
              " '__imul__',\n",
              " '__init__',\n",
              " '__init_subclass__',\n",
              " '__iter__',\n",
              " '__le__',\n",
              " '__len__',\n",
              " '__lt__',\n",
              " '__mul__',\n",
              " '__ne__',\n",
              " '__new__',\n",
              " '__reduce__',\n",
              " '__reduce_ex__',\n",
              " '__repr__',\n",
              " '__reversed__',\n",
              " '__rmul__',\n",
              " '__setattr__',\n",
              " '__setitem__',\n",
              " '__sizeof__',\n",
              " '__str__',\n",
              " '__subclasshook__',\n",
              " 'append',\n",
              " 'clear',\n",
              " 'copy',\n",
              " 'count',\n",
              " 'extend',\n",
              " 'index',\n",
              " 'insert',\n",
              " 'pop',\n",
              " 'remove',\n",
              " 'reverse',\n",
              " 'sort']"
            ]
          },
          "metadata": {},
          "execution_count": 109
        }
      ]
    },
    {
      "cell_type": "markdown",
      "source": [
        "# 문제35 : Factory 함수 사용하기\n",
        "\n",
        "2제곱, 3제곱, 4제곱을 할 수 있는 Factory 함수를 만들려고 합니다. \n",
        "\n",
        "- <pass>에 코드를 작성하여 two함수를 완성하세요.\n",
        "\n",
        "```python\n",
        "def one(n):\n",
        "    def two():\n",
        "        <pass>\n",
        "    return two\n",
        "\n",
        "a = one(2)\n",
        "b = one(3)\n",
        "c = one(4)\n",
        "print(a(10))\n",
        "print(b(10))\n",
        "print(c(10))\n",
        "```"
      ],
      "metadata": {
        "id": "BSiQJ4YeRadq"
      }
    },
    {
      "cell_type": "code",
      "source": [
        "def one(n):\n",
        "    def two(value):\n",
        "        return value**n\n",
        "    return two\n",
        "\n",
        "a = one(2)\n",
        "b = one(3)\n",
        "c = one(4)\n",
        "print(a(10))\n",
        "print(b(10))\n",
        "print(c(10))\n"
      ],
      "metadata": {
        "colab": {
          "base_uri": "https://localhost:8080/"
        },
        "id": "EJA_4XeKRVDl",
        "outputId": "481398cb-428d-4f15-b048-0d0941ff8f63"
      },
      "execution_count": null,
      "outputs": [
        {
          "output_type": "stream",
          "name": "stdout",
          "text": [
            "100\n",
            "1000\n",
            "10000\n"
          ]
        }
      ]
    },
    {
      "cell_type": "code",
      "source": [
        "chaeryun = print\n",
        "chaeryun('hello world')"
      ],
      "metadata": {
        "colab": {
          "base_uri": "https://localhost:8080/"
        },
        "id": "Wh3fIp294EDB",
        "outputId": "0eab9b4b-51a7-4927-bda9-169c1583776f"
      },
      "execution_count": null,
      "outputs": [
        {
          "output_type": "stream",
          "name": "stdout",
          "text": [
            "hello world\n"
          ]
        }
      ]
    },
    {
      "cell_type": "markdown",
      "source": [
        "# 문제36 : 구구단 출력하기\n",
        "\n",
        "1~9까지의 숫자 중 하나를 입력하면 그 단의 구구단 결과를 한 줄에 출력하는 프로그램을 작성하세요.\n",
        "\n",
        ">> 입력\n",
        "\n",
        "```python\n",
        "2\n",
        "```\n",
        "\n",
        ">> 출력\n",
        "\n",
        "```python\n",
        "2 4 6 8 10 12 14 16 18\n",
        "```"
      ],
      "metadata": {
        "id": "ctP1wKQ0SeV1"
      }
    },
    {
      "cell_type": "code",
      "source": [
        "n = int(input())\n",
        "\n",
        "for i in range(1,10):\n",
        "  print(i*n, end = ' ')"
      ],
      "metadata": {
        "colab": {
          "base_uri": "https://localhost:8080/"
        },
        "id": "obVjZmuTSRta",
        "outputId": "200e7348-3fc9-420e-a944-330a700a0242"
      },
      "execution_count": null,
      "outputs": [
        {
          "output_type": "stream",
          "name": "stdout",
          "text": [
            "3\n",
            "3 6 9 12 15 18 21 24 27 "
          ]
        }
      ]
    },
    {
      "cell_type": "code",
      "source": [
        "n = int(input())\n",
        "result = [i*n for i in range(1,9)]\n",
        "print(\" \".join(map(str, result)))\n"
      ],
      "metadata": {
        "colab": {
          "base_uri": "https://localhost:8080/"
        },
        "id": "uGLzLcUsbFAq",
        "outputId": "06451e60-5189-4aba-d91d-14fddb1dc5eb"
      },
      "execution_count": null,
      "outputs": [
        {
          "output_type": "stream",
          "name": "stdout",
          "text": [
            "3\n",
            "3 6 9 12 15 18 21 24\n"
          ]
        }
      ]
    },
    {
      "cell_type": "code",
      "source": [
        "n = int(input())\n",
        "result = ''\n",
        "for i in range(1,10):\n",
        "  result += str(i*n) + ' '\n",
        "print(result)"
      ],
      "metadata": {
        "colab": {
          "base_uri": "https://localhost:8080/"
        },
        "id": "CwYIn6wnSxSU",
        "outputId": "cc17e74d-70e6-4e8c-db18-cbe5a35e2ccd"
      },
      "execution_count": null,
      "outputs": [
        {
          "output_type": "stream",
          "name": "stdout",
          "text": [
            "3\n",
            "3 6 9 12 15 18 21 24 27 \n"
          ]
        }
      ]
    },
    {
      "cell_type": "markdown",
      "source": [
        "# 문제37 : count 사용하기\n",
        "\n",
        "새 학기를 맞아 호준이네 반은 반장 선거를 하기로 했습니다.  \n",
        "\n",
        "그런데 표를 하나씩 개표하는 과정이 너무 번거롭게 느껴진 당신은 \n",
        "**학생들이 뽑은 후보들을 입력받으면 뽑힌 학생의 이름과 받은 표 수를 출력하는 프로그램**을 작성하기로 하였습니다.\n",
        "\n",
        "\n",
        "```python\n",
        "**입력**\n",
        "원범 원범 혜원 혜원 혜원 혜원 유진 유진\n",
        "\n",
        "**출력**\n",
        "혜원(이)가 총 4표로 반장이 되었습니다.\n",
        "```"
      ],
      "metadata": {
        "id": "XAH2zm4afl7D"
      }
    },
    {
      "cell_type": "code",
      "source": [
        "# 원범 원범 혜원 혜원 혜원 혜원 유진 유진 유진 유진 유진 유진\n",
        "\n",
        "data = input().split()\n",
        "data_set = set(data)\n",
        "data_dict = {}\n",
        "for key in data_set:\n",
        "  data_dict[key] = data.count(key)\n",
        "반장 = max(data_dict, key = data_dict.get)\n",
        "투표수 = data.count(반장)\n",
        "print(f'{반장}(이)가 총 {투표수}표로 반장이 되었습니다.')\n",
        "print(f'{max(data_dict, key = data_dict.get)}(이)가 총 {max(data_dict.values())}표로 반장이 되었습니다.')"
      ],
      "metadata": {
        "colab": {
          "base_uri": "https://localhost:8080/"
        },
        "id": "GQ2kn4RHS8MX",
        "outputId": "74ce99a9-c6fc-4191-e812-30d6493ddea9"
      },
      "execution_count": null,
      "outputs": [
        {
          "output_type": "stream",
          "name": "stdout",
          "text": [
            "원범 원범 혜원 혜원 혜원 혜원 유진 유진 유진 유진 유진 유진\n",
            "유진(이)가 총 6표로 반장이 되었습니다.\n",
            "유진(이)가 총 6표로 반장이 되었습니다.\n"
          ]
        }
      ]
    },
    {
      "cell_type": "code",
      "source": [
        "data = [(1,2,9), (4,5,6), (0,7,8), (3,1,1)]\n",
        "max(data) # (4, 5, 6)\n",
        "# 0번째 값 기준으로 가장 큰 4가 들어있는 4,5,6 출력됨"
      ],
      "metadata": {
        "colab": {
          "base_uri": "https://localhost:8080/"
        },
        "id": "SM4Q2bd_cne9",
        "outputId": "f4a36d44-c9e0-4273-c3a3-9189af161881"
      },
      "execution_count": null,
      "outputs": [
        {
          "output_type": "execute_result",
          "data": {
            "text/plain": [
              "(4, 5, 6)"
            ]
          },
          "metadata": {},
          "execution_count": 89
        }
      ]
    },
    {
      "cell_type": "code",
      "source": [
        "# 2번째 값 기준으로는? 9,6,8,1 중 가장 큰 9가 들어있는 (1,2,9)가 출력되어야 함\n",
        "data = [(1,2,9), (4,5,6), (0,7,8), (3,1,1)]\n",
        "max(data, key = lambda x : x[2])"
      ],
      "metadata": {
        "colab": {
          "base_uri": "https://localhost:8080/"
        },
        "id": "wQUizv0yiig5",
        "outputId": "2eec7fa6-24e0-4194-c0e9-53057290afba"
      },
      "execution_count": null,
      "outputs": [
        {
          "output_type": "execute_result",
          "data": {
            "text/plain": [
              "(1, 2, 9)"
            ]
          },
          "metadata": {},
          "execution_count": 93
        }
      ]
    },
    {
      "cell_type": "code",
      "source": [
        "# 함수로 적는다면\n",
        "data = [(1,2,9), (4,5,6), (0,7,8), (3,1,1)]\n",
        "def 함수(x):   # (1,2,9) 가 x 임\n",
        "  return x[2]     # 9, 6, 8, 1 리턴\n",
        "max(data, key=함수)  # 9가 들어있는 (1, 2, 9)"
      ],
      "metadata": {
        "colab": {
          "base_uri": "https://localhost:8080/"
        },
        "id": "lwI-aHuLi829",
        "outputId": "938e443a-dee8-476b-9f03-daacb38752eb"
      },
      "execution_count": null,
      "outputs": [
        {
          "output_type": "execute_result",
          "data": {
            "text/plain": [
              "(1, 2, 9)"
            ]
          },
          "metadata": {},
          "execution_count": 98
        }
      ]
    },
    {
      "cell_type": "code",
      "source": [
        "#예 :\n",
        "arr = [(0,10),(1,14),(5,2),(3,24)]\n",
        "str = max(arr,key = lambda x:x[0]) \n",
        "str1 = max(arr,key = lambda x:x[1]) \n",
        "\n",
        "'''\n",
        "arr리스트의 각 원소가 순서대로 lambda함수의 입력x로 들어가고 x[0]은 각 원소tuple의 \n",
        "첫번째값을 의미하는것이고 x[1]은 각원소tuple의 2번째값을 의미한다.\n",
        "예: 위 arr리스트에서 첫번째값인 (0,10)원소에서 x[0]=0 ,x[1]=10이 된다.\n",
        "결국, 이 예제에서는 'x[1]이 제일 큰 원소를 찾겠다' 라는 의미이고, str에서는 \n",
        "24가 제일 크므로 (3,24)의 원소가 담긴다.\n",
        "'''\n",
        "print(str) # (5, 2)\n",
        "\n",
        "print(str1) # (3, 24)\n",
        "\n",
        "\n"
      ],
      "metadata": {
        "colab": {
          "base_uri": "https://localhost:8080/"
        },
        "id": "K8hXuPT3jaiE",
        "outputId": "045f79ec-6ca5-4c42-f9a2-19cbf108b5b3"
      },
      "execution_count": null,
      "outputs": [
        {
          "output_type": "stream",
          "name": "stdout",
          "text": [
            "(5, 2)\n",
            "(3, 24)\n"
          ]
        }
      ]
    },
    {
      "cell_type": "code",
      "source": [
        "from google.colab import drive\n",
        "drive.mount('/content/drive')"
      ],
      "metadata": {
        "id": "XDxkbG3nuwq7"
      },
      "execution_count": null,
      "outputs": []
    },
    {
      "cell_type": "code",
      "source": [
        "arr = [(0,10),(1,14),(5,2),(3,24)]\n",
        "a = max(arr, key = lambda x : x[0])\n",
        "a"
      ],
      "metadata": {
        "colab": {
          "base_uri": "https://localhost:8080/"
        },
        "id": "BLy4zPpom1uG",
        "outputId": "fea59581-7c28-40d6-f317-70cb6b09c087"
      },
      "execution_count": null,
      "outputs": [
        {
          "output_type": "execute_result",
          "data": {
            "text/plain": [
              "(5, 2)"
            ]
          },
          "metadata": {},
          "execution_count": 114
        }
      ]
    },
    {
      "cell_type": "markdown",
      "source": [
        "# 문제38 : 호준이의 아르바이트\n",
        "\n",
        "호준이는 아르바이트로 영어 학원에서 단어 시험지를 채점하는 일을 하고 있다. \n",
        "\n",
        "호준이가 일하는 학원은 매번 1위부터 3위까지의 학생에게 상으로 사탕을 준다. \n",
        "\n",
        "그런데 오늘은 마침 사탕이 다 떨어져서 호준이가 채점을 하고 점수를 보내면, 당신이 아이들의 숫자만큼 사탕을 사러 가기로 했다.\n",
        "\n",
        "학생들의 점수를 공백으로 구분하여 입력받는다. 1위~ 3위 학생은 여러명일 수 있고 1~3위 학생 중 중복되는 학생까지 포함하여 사탕을 사기로 한다.\n",
        "\n",
        "- 학생 수는 4명 이상입니다.\n",
        "- 숫자 외에 다른 값은 입력되지 않습니다.\n",
        "\n",
        "```\n",
        "점수입력 : 97 86 75 66 55 97 85 97 97 95\n",
        "출력 : 6\n",
        "```"
      ],
      "metadata": {
        "id": "7wbgAPq9wFqU"
      }
    },
    {
      "cell_type": "code",
      "source": [
        "# 점수입력 : 97 86 75 66 55 97 85 97 97 95\n",
        "# 출력 : 6\n",
        "\n",
        "data = list(map(int,input().split()))\n",
        "count = 0\n",
        "sorted(set(data), reverse=True) # 역정렬 [97, 95, 86, 85, 75, 66, 55] # list.reverse()  -> 뒤집기\n",
        "break_point = sorted(set(data), reverse=True)[:3]  # [97, 95, 86]\n",
        "for i in sorted(data):\n",
        "  if i in break_point:\n",
        "    count += 1\n",
        "print(count)\n",
        "print(sorted)"
      ],
      "metadata": {
        "colab": {
          "base_uri": "https://localhost:8080/"
        },
        "id": "lxo1bQIftofX",
        "outputId": "98d62ffc-d188-4dda-9788-e0a708064efe"
      },
      "execution_count": null,
      "outputs": [
        {
          "output_type": "stream",
          "name": "stdout",
          "text": [
            "97 86 75 66 55 97 85 97 97 95\n",
            "6\n",
            "<built-in function sorted>\n"
          ]
        }
      ]
    },
    {
      "cell_type": "code",
      "source": [
        "# 정답 97 97 97 97 \n",
        "data = input().split()\n",
        "data = [int(i) for i in data]\n",
        "\n",
        "count = 0\n",
        "\n",
        "if len(set(data)) <= 3:\n",
        "    count = len(data)\n",
        "else:\n",
        "    break_point = sorted(list(set(data)), reverse=True)[3]\n",
        "    data_sorted = sorted(data, reverse=True)\n",
        "    for i in data_sorted:\n",
        "        if break_point == i:\n",
        "            break\n",
        "        else:\n",
        "            count += 1\n",
        "\n",
        "print(count) "
      ],
      "metadata": {
        "colab": {
          "base_uri": "https://localhost:8080/"
        },
        "id": "5hNFDtIowd_T",
        "outputId": "865786ca-67ab-41ed-8eb3-80eb67eb819a"
      },
      "execution_count": null,
      "outputs": [
        {
          "output_type": "stream",
          "name": "stdout",
          "text": [
            "97 97 97 97 \n",
            "4\n"
          ]
        }
      ]
    },
    {
      "cell_type": "code",
      "source": [
        "# 전부 안돌아도 됨.\n",
        "# 점수입력 : 97 86 75 66 55 97 85 97 97 95\n",
        "# 출력 : 6\n",
        "\n",
        "# data = list(map(int, input().split()))\n",
        "data = [95, 97, 97, 97, 97, 1,0,0,0,0]\n",
        "data.sort(reverse=True)\n",
        "a = sorted(list(set(data)), reverse = True)\n",
        "count = 0\n",
        "for i in data:\n",
        "  if i in a[:3]:\n",
        "    count += 1\n",
        "    print(i)\n",
        "  else : break\n",
        "print(count)"
      ],
      "metadata": {
        "colab": {
          "base_uri": "https://localhost:8080/"
        },
        "id": "R15Ku68fzT9B",
        "outputId": "e009aba0-8f9a-4246-fd64-8d144e67fcc7"
      },
      "execution_count": null,
      "outputs": [
        {
          "output_type": "stream",
          "name": "stdout",
          "text": [
            "97\n",
            "97\n",
            "97\n",
            "97\n",
            "95\n",
            "1\n",
            "6\n"
          ]
        }
      ]
    },
    {
      "cell_type": "markdown",
      "source": [
        "# 문제39 : 오타 수정하기\n",
        "\n",
        "혜원이는 평소 영타가 빠르고 정확한 것을 친구들에게 자랑하고 다녔습니다. \n",
        "\n",
        "반 친구들이 혜원이의 타자 속도가 빠르다는 것을 모두 알게 되자 혜원이는 모두의 앞에서 타자 실력을 보여주게 됩니다. \n",
        "\n",
        "그런데 막상 보여주려니 긴장이 되서 문장의 모든 e를 q로, n을 b로 잘못 친 것을 발견했습니다. \n",
        "\n",
        "혜원이는 프로그램을 돌려 재빠르게 모든 q를 e로, b를 n으로 바꾸는 프로그램을 작성하려고 합니다.\n",
        "\n",
        "**문장이 입력되면 모든 q를 e로, b를 n으로 바꾸는 프로그램을 작성해 주세요.**\n",
        "\n",
        "- 완성하려는 문장 안에 q나 b가 들어가지 않는다고 가정합니다.\n",
        "\n",
        "```python\n",
        "**입출력**\n",
        "\n",
        "입력 : querty\n",
        "출력 : euerty\n",
        "\n",
        "입력 : hqllo my bamq is hyqwob\n",
        "출력 : hello my bame is hyewob\n",
        "```"
      ],
      "metadata": {
        "id": "mNkA0ptvA89v"
      }
    },
    {
      "cell_type": "code",
      "source": [
        "# 정답\n",
        "data = input()\n",
        "\n",
        "print(data.replace('q', 'e').replace('b', 'n'))."
      ],
      "metadata": {
        "id": "VQQnXIJNDnId"
      },
      "execution_count": null,
      "outputs": []
    },
    {
      "cell_type": "code",
      "source": [
        "'querty'.replace('q','e').replace('b','n')"
      ],
      "metadata": {
        "colab": {
          "base_uri": "https://localhost:8080/",
          "height": 35
        },
        "id": "KTdd7Ymv5Zbn",
        "outputId": "a557f914-fd1e-45e6-900c-8420fde51b71"
      },
      "execution_count": null,
      "outputs": [
        {
          "output_type": "execute_result",
          "data": {
            "text/plain": [
              "'euerty'"
            ],
            "application/vnd.google.colaboratory.intrinsic+json": {
              "type": "string"
            }
          },
          "metadata": {},
          "execution_count": 174
        }
      ]
    },
    {
      "cell_type": "code",
      "source": [
        "data = input()\n",
        "print(data.replace('q','e').replace('b','n'))"
      ],
      "metadata": {
        "colab": {
          "base_uri": "https://localhost:8080/"
        },
        "id": "EqHwPj1M5doc",
        "outputId": "f1825ef2-759f-4e27-b7bb-7f644db8d9ec"
      },
      "execution_count": null,
      "outputs": [
        {
          "output_type": "stream",
          "name": "stdout",
          "text": [
            "hqllo my bamq is hyqwob\n",
            "hello my name is hyewon\n"
          ]
        }
      ]
    },
    {
      "cell_type": "code",
      "source": [
        "# 정규표현식\n",
        "import re\n",
        "data = input()\n",
        "\n",
        "data = re.sub('q', 'e', data)\n",
        "print(re.sub('b', 'n', data))"
      ],
      "metadata": {
        "colab": {
          "base_uri": "https://localhost:8080/"
        },
        "id": "VZgU82n_BbGs",
        "outputId": "72fd7963-53f7-4321-9772-ff423be47c14"
      },
      "execution_count": null,
      "outputs": [
        {
          "output_type": "stream",
          "name": "stdout",
          "text": [
            " hqllo my bamq is hyqwob\n",
            " hello my name is hyewon\n"
          ]
        }
      ]
    },
    {
      "cell_type": "code",
      "source": [
        "import re\n",
        "#data = input()\n",
        "\n",
        "print(re.sub('[0-9]+', '!', '123abc123')) # 0-9까지의 문자열 발견하면 느낌표\n",
        "print(re.sub('[a-z]+', '!', '123abc123')) \n",
        "print(re.sub('[a-z]+', '!', '123abc12aaa3')) \n",
        "print(re.sub('[0-9]', '!', '123abc123')) # 0-9 숫자 하나당 느낌표\n"
      ],
      "metadata": {
        "colab": {
          "base_uri": "https://localhost:8080/"
        },
        "id": "S-rtmpZvB4Hx",
        "outputId": "744f697d-023f-4a7a-a37c-c3a1a10fb83b"
      },
      "execution_count": null,
      "outputs": [
        {
          "output_type": "stream",
          "name": "stdout",
          "text": [
            "!abc!\n",
            "123!123\n",
            "123!12!3\n",
            "!!!abc!!!\n"
          ]
        }
      ]
    },
    {
      "cell_type": "markdown",
      "source": [
        "# 문제40 : 놀이동산에 가자\n",
        "\n",
        "테마파크에 온 원범이와 친구들은 놀이기구를 타려고 합니다. \n",
        "\n",
        "모든 놀이기구는 한번에 타는 인원수에는 제한이 없지만 제한 무게를 넘으면 무조건 다음 기구를 타야 합니다. \n",
        "\n",
        "**원범이와 친구들이 총 몇 명 탈 수 있는지 알 수 있는 프로그램을 작성해 주세요.**\n",
        "\n",
        "첫번째 줄에서 제한 무게가 주어지고 두번째 줄에서는 함께한 친구들의 수 n이 주어집니다. \n",
        "\n",
        "그 다음 차례대로 탑승할 친구들의 몸무게가 주어집니다. 몸무게는 무작위로 주어집니다.\n",
        "\n",
        "- 단, 놀이기구는 선착순으로만 탈 수 있습니다.\n",
        "- 두 명 이상의 인원이 항상 탑승합니다.\n",
        "```python\n",
        "입력\n",
        "50\n",
        "5\n",
        "20\n",
        "20\n",
        "20\n",
        "20\n",
        "20\n",
        "출력\n",
        "2\n",
        "```"
      ],
      "metadata": {
        "id": "7-mJpp-PDrz0"
      }
    },
    {
      "cell_type": "code",
      "source": [
        "# 내가 푼 것\n",
        "limit = float(input())\n",
        "num = int(input())\n",
        "weight = []\n",
        "sum_weight = 0\n",
        "result = 0\n",
        "\n",
        "for i in range(num):\n",
        "  weight.append(float(input()))\n",
        "  sum_weight += weight[i]\n",
        "  if limit >= sum_weight:\n",
        "    result = i+1\n",
        "    \n",
        "print(result)\n"
      ],
      "metadata": {
        "colab": {
          "base_uri": "https://localhost:8080/"
        },
        "id": "1smOAc_Ap8ry",
        "outputId": "b32292a3-d2f3-42f3-cb7e-a96dc3c5efc2"
      },
      "execution_count": null,
      "outputs": [
        {
          "output_type": "stream",
          "name": "stdout",
          "text": [
            "30\n",
            "3\n",
            "10\n",
            "10\n",
            "10\n",
            "3\n"
          ]
        }
      ]
    },
    {
      "cell_type": "code",
      "source": [
        "# 기존코드\n",
        "total = 0\n",
        "count = 0\n",
        "limit = int(input('제한무게는 얼마인가요? : '))\n",
        "n = int(input('몇명이 탈 수 있나요? : '))\n",
        " \n",
        "for i in range(n):\n",
        "    total += int(input('몸무게를 입력해주세요 : '))\n",
        "    if total <= limit:\n",
        "        count += 1\n",
        "\n",
        "        \n",
        "print(count)\n",
        "\n",
        "# 기존 코드 2\n",
        "\n",
        "제한무게 = int(input())\n",
        "친구수 = int(input())\n",
        "친구몸무게 = []\n",
        "for i in range(친구수):\n",
        "    친구몸무게.append(int(input()))\n",
        "\n",
        "전체몸무게 = 0\n",
        "for i in range(len(친구몸무게)):\n",
        "    전체몸무게 += 친구몸무게[i]\n",
        "    print(전체몸무게, 제한무게)\n",
        "    if 전체몸무게 > 제한무게:\n",
        "        print(i)\n",
        "        break\n",
        "\n",
        "# 새로 작성된 코드\n",
        "제한무게 = float(input())\n",
        "친구수 = int(input())\n",
        "친구몸무게 = []\n",
        "전체몸무게 = 0\n",
        "제한수 = 0\n",
        "비교 = True\n",
        "\n",
        "for i in range(친구수):\n",
        "    친구몸무게.append(float(input()))\n",
        "    전체몸무게 += 친구몸무게[i]\n",
        "    if 전체몸무게 > 제한무게:\n",
        "        if 비교:\n",
        "            비교 = False\n",
        "            제한수 = i\n",
        "if 제한수 == 0 and 친구몸무게[0] <= 제한무게:\n",
        "    print(len(친구몸무게))\n",
        "else:\n",
        "    print(제한수)"
      ],
      "metadata": {
        "id": "9NjPqyVPp8nR"
      },
      "execution_count": null,
      "outputs": []
    },
    {
      "cell_type": "markdown",
      "source": [
        "# 문제41 : 소수판별\n",
        "\n",
        "숫자가 주어지면 **소수인지 아닌지 판별하는 프로그램**을 작성해주세요.\n",
        "\n",
        "소수이면 YES로, 소수가 아니면 NO로 출력해주세요.\n",
        "\n",
        "- 소수 : 1과 자기 자신만으로 나누어떨어지는 1보다 큰 양의 정수\n",
        "- 음의 소수는 고려하지 않습니다."
      ],
      "metadata": {
        "id": "8vjHSX6MvsYW"
      }
    },
    {
      "cell_type": "code",
      "source": [
        "import time\n",
        "n = int(input())\n",
        "start = time.time()\n",
        "if n <= 1:\n",
        "  print('소수가 아닙니다')\n",
        "elif n == 2:\n",
        "  print('소수입니다')\n",
        "else:\n",
        "  for i in range(2,n):\n",
        "    if n % i == 0:\n",
        "      print('소수가 아닙니다')\n",
        "      break\n",
        "  else :\n",
        "    print('소수입니다')\n",
        "\n",
        "print(\"time :\", time.time() - start)"
      ],
      "metadata": {
        "colab": {
          "base_uri": "https://localhost:8080/"
        },
        "id": "HtYrZESRvsJW",
        "outputId": "f2dcfb22-76c7-414a-d834-067c0dfd27cd"
      },
      "execution_count": null,
      "outputs": [
        {
          "output_type": "stream",
          "name": "stdout",
          "text": [
            "502\n",
            "소수가 아닙니다\n",
            "time : 0.00020647048950195312\n"
          ]
        }
      ]
    },
    {
      "cell_type": "code",
      "source": [
        "%%timeit\n",
        "#n = int(input())\n",
        "n = 1223\n",
        "if n <= 1:\n",
        "  print('소수가 아닙니다')\n",
        "elif n == 2:\n",
        "  print('소수입니다')\n",
        "else:\n",
        "  for i in range(2,n):\n",
        "    if n % i == 0:\n",
        "      print('소수가 아닙니다')\n",
        "      break\n",
        "  else :\n",
        "    print('소수입니다')\n",
        "\n"
      ],
      "metadata": {
        "colab": {
          "base_uri": "https://localhost:8080/"
        },
        "id": "mIyIlzvR6YWm",
        "outputId": "abc44e85-cfdb-442f-cb2f-f5f83f4fc032"
      },
      "execution_count": null,
      "outputs": [
        {
          "output_type": "stream",
          "name": "stdout",
          "text": [
            "\u001b[1;30;43m스트리밍 출력 내용이 길어서 마지막 5000줄이 삭제되었습니다.\u001b[0m\n",
            "소수입니다\n",
            "소수입니다\n",
            "소수입니다\n",
            "소수입니다\n",
            "소수입니다\n",
            "소수입니다\n",
            "소수입니다\n",
            "소수입니다\n",
            "소수입니다\n",
            "소수입니다\n",
            "소수입니다\n",
            "소수입니다\n",
            "소수입니다\n",
            "소수입니다\n",
            "소수입니다\n",
            "소수입니다\n",
            "소수입니다\n",
            "소수입니다\n",
            "소수입니다\n",
            "소수입니다\n",
            "소수입니다\n",
            "소수입니다\n",
            "소수입니다\n",
            "소수입니다\n",
            "소수입니다\n",
            "소수입니다\n",
            "소수입니다\n",
            "소수입니다\n",
            "소수입니다\n",
            "소수입니다\n",
            "소수입니다\n",
            "소수입니다\n",
            "소수입니다\n",
            "소수입니다\n",
            "소수입니다\n",
            "소수입니다\n",
            "소수입니다\n",
            "소수입니다\n",
            "소수입니다\n",
            "소수입니다\n",
            "소수입니다\n",
            "소수입니다\n",
            "소수입니다\n",
            "소수입니다\n",
            "소수입니다\n",
            "소수입니다\n",
            "소수입니다\n",
            "소수입니다\n",
            "소수입니다\n",
            "소수입니다\n",
            "소수입니다\n",
            "소수입니다\n",
            "소수입니다\n",
            "소수입니다\n",
            "소수입니다\n",
            "소수입니다\n",
            "소수입니다\n",
            "소수입니다\n",
            "소수입니다\n",
            "소수입니다\n",
            "소수입니다\n",
            "소수입니다\n",
            "소수입니다\n",
            "소수입니다\n",
            "소수입니다\n",
            "소수입니다\n",
            "소수입니다\n",
            "소수입니다\n",
            "소수입니다\n",
            "소수입니다\n",
            "소수입니다\n",
            "소수입니다\n",
            "소수입니다\n",
            "소수입니다\n",
            "소수입니다\n",
            "소수입니다\n",
            "소수입니다\n",
            "소수입니다\n",
            "소수입니다\n",
            "소수입니다\n",
            "소수입니다\n",
            "소수입니다\n",
            "소수입니다\n",
            "소수입니다\n",
            "소수입니다\n",
            "소수입니다\n",
            "소수입니다\n",
            "소수입니다\n",
            "소수입니다\n",
            "소수입니다\n",
            "소수입니다\n",
            "소수입니다\n",
            "소수입니다\n",
            "소수입니다\n",
            "소수입니다\n",
            "소수입니다\n",
            "소수입니다\n",
            "소수입니다\n",
            "소수입니다\n",
            "소수입니다\n",
            "소수입니다\n",
            "소수입니다\n",
            "소수입니다\n",
            "소수입니다\n",
            "소수입니다\n",
            "소수입니다\n",
            "소수입니다\n",
            "소수입니다\n",
            "소수입니다\n",
            "소수입니다\n",
            "소수입니다\n",
            "소수입니다\n",
            "소수입니다\n",
            "소수입니다\n",
            "소수입니다\n",
            "소수입니다\n",
            "소수입니다\n",
            "소수입니다\n",
            "소수입니다\n",
            "소수입니다\n",
            "소수입니다\n",
            "소수입니다\n",
            "소수입니다\n",
            "소수입니다\n",
            "소수입니다\n",
            "소수입니다\n",
            "소수입니다\n",
            "소수입니다\n",
            "소수입니다\n",
            "소수입니다\n",
            "소수입니다\n",
            "소수입니다\n",
            "소수입니다\n",
            "소수입니다\n",
            "소수입니다\n",
            "소수입니다\n",
            "소수입니다\n",
            "소수입니다\n",
            "소수입니다\n",
            "소수입니다\n",
            "소수입니다\n",
            "소수입니다\n",
            "소수입니다\n",
            "소수입니다\n",
            "소수입니다\n",
            "소수입니다\n",
            "소수입니다\n",
            "소수입니다\n",
            "소수입니다\n",
            "소수입니다\n",
            "소수입니다\n",
            "소수입니다\n",
            "소수입니다\n",
            "소수입니다\n",
            "소수입니다\n",
            "소수입니다\n",
            "소수입니다\n",
            "소수입니다\n",
            "소수입니다\n",
            "소수입니다\n",
            "소수입니다\n",
            "소수입니다\n",
            "소수입니다\n",
            "소수입니다\n",
            "소수입니다\n",
            "소수입니다\n",
            "소수입니다\n",
            "소수입니다\n",
            "소수입니다\n",
            "소수입니다\n",
            "소수입니다\n",
            "소수입니다\n",
            "소수입니다\n",
            "소수입니다\n",
            "소수입니다\n",
            "소수입니다\n",
            "소수입니다\n",
            "소수입니다\n",
            "소수입니다\n",
            "소수입니다\n",
            "소수입니다\n",
            "소수입니다\n",
            "소수입니다\n",
            "소수입니다\n",
            "소수입니다\n",
            "소수입니다\n",
            "소수입니다\n",
            "소수입니다\n",
            "소수입니다\n",
            "소수입니다\n",
            "소수입니다\n",
            "소수입니다\n",
            "소수입니다\n",
            "소수입니다\n",
            "소수입니다\n",
            "소수입니다\n",
            "소수입니다\n",
            "소수입니다\n",
            "소수입니다\n",
            "소수입니다\n",
            "소수입니다\n",
            "소수입니다\n",
            "소수입니다\n",
            "소수입니다\n",
            "소수입니다\n",
            "소수입니다\n",
            "소수입니다\n",
            "소수입니다\n",
            "소수입니다\n",
            "소수입니다\n",
            "소수입니다\n",
            "소수입니다\n",
            "소수입니다\n",
            "소수입니다\n",
            "소수입니다\n",
            "소수입니다\n",
            "소수입니다\n",
            "소수입니다\n",
            "소수입니다\n",
            "소수입니다\n",
            "소수입니다\n",
            "소수입니다\n",
            "소수입니다\n",
            "소수입니다\n",
            "소수입니다\n",
            "소수입니다\n",
            "소수입니다\n",
            "소수입니다\n",
            "소수입니다\n",
            "소수입니다\n",
            "소수입니다\n",
            "소수입니다\n",
            "소수입니다\n",
            "소수입니다\n",
            "소수입니다\n",
            "소수입니다\n",
            "소수입니다\n",
            "소수입니다\n",
            "소수입니다\n",
            "소수입니다\n",
            "소수입니다\n",
            "소수입니다\n",
            "소수입니다\n",
            "소수입니다\n",
            "소수입니다\n",
            "소수입니다\n",
            "소수입니다\n",
            "소수입니다\n",
            "소수입니다\n",
            "소수입니다\n",
            "소수입니다\n",
            "소수입니다\n",
            "소수입니다\n",
            "소수입니다\n",
            "소수입니다\n",
            "소수입니다\n",
            "소수입니다\n",
            "소수입니다\n",
            "소수입니다\n",
            "소수입니다\n",
            "소수입니다\n",
            "소수입니다\n",
            "소수입니다\n",
            "소수입니다\n",
            "소수입니다\n",
            "소수입니다\n",
            "소수입니다\n",
            "소수입니다\n",
            "소수입니다\n",
            "소수입니다\n",
            "소수입니다\n",
            "소수입니다\n",
            "소수입니다\n",
            "소수입니다\n",
            "소수입니다\n",
            "소수입니다\n",
            "소수입니다\n",
            "소수입니다\n",
            "소수입니다\n",
            "소수입니다\n",
            "소수입니다\n",
            "소수입니다\n",
            "소수입니다\n",
            "소수입니다\n",
            "소수입니다\n",
            "소수입니다\n",
            "소수입니다\n",
            "소수입니다\n",
            "소수입니다\n",
            "소수입니다\n",
            "소수입니다\n",
            "소수입니다\n",
            "소수입니다\n",
            "소수입니다\n",
            "소수입니다\n",
            "소수입니다\n",
            "소수입니다\n",
            "소수입니다\n",
            "소수입니다\n",
            "소수입니다\n",
            "소수입니다\n",
            "소수입니다\n",
            "소수입니다\n",
            "소수입니다\n",
            "소수입니다\n",
            "소수입니다\n",
            "소수입니다\n",
            "소수입니다\n",
            "소수입니다\n",
            "소수입니다\n",
            "소수입니다\n",
            "소수입니다\n",
            "소수입니다\n",
            "소수입니다\n",
            "소수입니다\n",
            "소수입니다\n",
            "소수입니다\n",
            "소수입니다\n",
            "소수입니다\n",
            "소수입니다\n",
            "소수입니다\n",
            "소수입니다\n",
            "소수입니다\n",
            "소수입니다\n",
            "소수입니다\n",
            "소수입니다\n",
            "소수입니다\n",
            "소수입니다\n",
            "소수입니다\n",
            "소수입니다\n",
            "소수입니다\n",
            "소수입니다\n",
            "소수입니다\n",
            "소수입니다\n",
            "소수입니다\n",
            "소수입니다\n",
            "소수입니다\n",
            "소수입니다\n",
            "소수입니다\n",
            "소수입니다\n",
            "소수입니다\n",
            "소수입니다\n",
            "소수입니다\n",
            "소수입니다\n",
            "소수입니다\n",
            "소수입니다\n",
            "소수입니다\n",
            "소수입니다\n",
            "소수입니다\n",
            "소수입니다\n",
            "소수입니다\n",
            "소수입니다\n",
            "소수입니다\n",
            "소수입니다\n",
            "소수입니다\n",
            "소수입니다\n",
            "소수입니다\n",
            "소수입니다\n",
            "소수입니다\n",
            "소수입니다\n",
            "소수입니다\n",
            "소수입니다\n",
            "소수입니다\n",
            "소수입니다\n",
            "소수입니다\n",
            "소수입니다\n",
            "소수입니다\n",
            "소수입니다\n",
            "소수입니다\n",
            "소수입니다\n",
            "소수입니다\n",
            "소수입니다\n",
            "소수입니다\n",
            "소수입니다\n",
            "소수입니다\n",
            "소수입니다\n",
            "소수입니다\n",
            "소수입니다\n",
            "소수입니다\n",
            "소수입니다\n",
            "소수입니다\n",
            "소수입니다\n",
            "소수입니다\n",
            "소수입니다\n",
            "소수입니다\n",
            "소수입니다\n",
            "소수입니다\n",
            "소수입니다\n",
            "소수입니다\n",
            "소수입니다\n",
            "소수입니다\n",
            "소수입니다\n",
            "소수입니다\n",
            "소수입니다\n",
            "소수입니다\n",
            "소수입니다\n",
            "소수입니다\n",
            "소수입니다\n",
            "소수입니다\n",
            "소수입니다\n",
            "소수입니다\n",
            "소수입니다\n",
            "소수입니다\n",
            "소수입니다\n",
            "소수입니다\n",
            "소수입니다\n",
            "소수입니다\n",
            "소수입니다\n",
            "소수입니다\n",
            "소수입니다\n",
            "소수입니다\n",
            "소수입니다\n",
            "소수입니다\n",
            "소수입니다\n",
            "소수입니다\n",
            "소수입니다\n",
            "소수입니다\n",
            "소수입니다\n",
            "소수입니다\n",
            "소수입니다\n",
            "소수입니다\n",
            "소수입니다\n",
            "소수입니다\n",
            "소수입니다\n",
            "소수입니다\n",
            "소수입니다\n",
            "소수입니다\n",
            "소수입니다\n",
            "소수입니다\n",
            "소수입니다\n",
            "소수입니다\n",
            "소수입니다\n",
            "소수입니다\n",
            "소수입니다\n",
            "소수입니다\n",
            "소수입니다\n",
            "소수입니다\n",
            "소수입니다\n",
            "소수입니다\n",
            "소수입니다\n",
            "소수입니다\n",
            "소수입니다\n",
            "소수입니다\n",
            "소수입니다\n",
            "소수입니다\n",
            "소수입니다\n",
            "소수입니다\n",
            "소수입니다\n",
            "소수입니다\n",
            "소수입니다\n",
            "소수입니다\n",
            "소수입니다\n",
            "소수입니다\n",
            "소수입니다\n",
            "소수입니다\n",
            "소수입니다\n",
            "소수입니다\n",
            "소수입니다\n",
            "소수입니다\n",
            "소수입니다\n",
            "소수입니다\n",
            "소수입니다\n",
            "소수입니다\n",
            "소수입니다\n",
            "소수입니다\n",
            "소수입니다\n",
            "소수입니다\n",
            "소수입니다\n",
            "소수입니다\n",
            "소수입니다\n",
            "소수입니다\n",
            "소수입니다\n",
            "소수입니다\n",
            "소수입니다\n",
            "소수입니다\n",
            "소수입니다\n",
            "소수입니다\n",
            "소수입니다\n",
            "소수입니다\n",
            "소수입니다\n",
            "소수입니다\n",
            "소수입니다\n",
            "소수입니다\n",
            "소수입니다\n",
            "소수입니다\n",
            "소수입니다\n",
            "소수입니다\n",
            "소수입니다\n",
            "소수입니다\n",
            "소수입니다\n",
            "소수입니다\n",
            "소수입니다\n",
            "소수입니다\n",
            "소수입니다\n",
            "소수입니다\n",
            "소수입니다\n",
            "소수입니다\n",
            "소수입니다\n",
            "소수입니다\n",
            "소수입니다\n",
            "소수입니다\n",
            "소수입니다\n",
            "소수입니다\n",
            "소수입니다\n",
            "소수입니다\n",
            "소수입니다\n",
            "소수입니다\n",
            "소수입니다\n",
            "소수입니다\n",
            "소수입니다\n",
            "소수입니다\n",
            "소수입니다\n",
            "소수입니다\n",
            "소수입니다\n",
            "소수입니다\n",
            "소수입니다\n",
            "소수입니다\n",
            "소수입니다\n",
            "소수입니다\n",
            "소수입니다\n",
            "소수입니다\n",
            "소수입니다\n",
            "소수입니다\n",
            "소수입니다\n",
            "소수입니다\n",
            "소수입니다\n",
            "소수입니다\n",
            "소수입니다\n",
            "소수입니다\n",
            "소수입니다\n",
            "소수입니다\n",
            "소수입니다\n",
            "소수입니다\n",
            "소수입니다\n",
            "소수입니다\n",
            "소수입니다\n",
            "소수입니다\n",
            "소수입니다\n",
            "소수입니다\n",
            "소수입니다\n",
            "소수입니다\n",
            "소수입니다\n",
            "소수입니다\n",
            "소수입니다\n",
            "소수입니다\n",
            "소수입니다\n",
            "소수입니다\n",
            "소수입니다\n",
            "소수입니다\n",
            "소수입니다\n",
            "소수입니다\n",
            "소수입니다\n",
            "소수입니다\n",
            "소수입니다\n",
            "소수입니다\n",
            "소수입니다\n",
            "소수입니다\n",
            "소수입니다\n",
            "소수입니다\n",
            "소수입니다\n",
            "소수입니다\n",
            "소수입니다\n",
            "소수입니다\n",
            "소수입니다\n",
            "소수입니다\n",
            "소수입니다\n",
            "소수입니다\n",
            "소수입니다\n",
            "소수입니다\n",
            "소수입니다\n",
            "소수입니다\n",
            "소수입니다\n",
            "소수입니다\n",
            "소수입니다\n",
            "소수입니다\n",
            "소수입니다\n",
            "소수입니다\n",
            "소수입니다\n",
            "소수입니다\n",
            "소수입니다\n",
            "소수입니다\n",
            "소수입니다\n",
            "소수입니다\n",
            "소수입니다\n",
            "소수입니다\n",
            "소수입니다\n",
            "소수입니다\n",
            "소수입니다\n",
            "소수입니다\n",
            "소수입니다\n",
            "소수입니다\n",
            "소수입니다\n",
            "소수입니다\n",
            "소수입니다\n",
            "소수입니다\n",
            "소수입니다\n",
            "소수입니다\n",
            "소수입니다\n",
            "소수입니다\n",
            "소수입니다\n",
            "소수입니다\n",
            "소수입니다\n",
            "소수입니다\n",
            "소수입니다\n",
            "소수입니다\n",
            "소수입니다\n",
            "소수입니다\n",
            "소수입니다\n",
            "소수입니다\n",
            "소수입니다\n",
            "소수입니다\n",
            "소수입니다\n",
            "소수입니다\n",
            "소수입니다\n",
            "소수입니다\n",
            "소수입니다\n",
            "소수입니다\n",
            "소수입니다\n",
            "소수입니다\n",
            "소수입니다\n",
            "소수입니다\n",
            "소수입니다\n",
            "소수입니다\n",
            "소수입니다\n",
            "소수입니다\n",
            "소수입니다\n",
            "소수입니다\n",
            "소수입니다\n",
            "소수입니다\n",
            "소수입니다\n",
            "소수입니다\n",
            "소수입니다\n",
            "소수입니다\n",
            "소수입니다\n",
            "소수입니다\n",
            "소수입니다\n",
            "소수입니다\n",
            "소수입니다\n",
            "소수입니다\n",
            "소수입니다\n",
            "소수입니다\n",
            "소수입니다\n",
            "소수입니다\n",
            "소수입니다\n",
            "소수입니다\n",
            "소수입니다\n",
            "소수입니다\n",
            "소수입니다\n",
            "소수입니다\n",
            "소수입니다\n",
            "소수입니다\n",
            "소수입니다\n",
            "소수입니다\n",
            "소수입니다\n",
            "소수입니다\n",
            "소수입니다\n",
            "소수입니다\n",
            "소수입니다\n",
            "소수입니다\n",
            "소수입니다\n",
            "소수입니다\n",
            "소수입니다\n",
            "소수입니다\n",
            "소수입니다\n",
            "소수입니다\n",
            "소수입니다\n",
            "소수입니다\n",
            "소수입니다\n",
            "소수입니다\n",
            "소수입니다\n",
            "소수입니다\n",
            "소수입니다\n",
            "소수입니다\n",
            "소수입니다\n",
            "소수입니다\n",
            "소수입니다\n",
            "소수입니다\n",
            "소수입니다\n",
            "소수입니다\n",
            "소수입니다\n",
            "소수입니다\n",
            "소수입니다\n",
            "소수입니다\n",
            "소수입니다\n",
            "소수입니다\n",
            "소수입니다\n",
            "소수입니다\n",
            "소수입니다\n",
            "소수입니다\n",
            "소수입니다\n",
            "소수입니다\n",
            "소수입니다\n",
            "소수입니다\n",
            "소수입니다\n",
            "소수입니다\n",
            "소수입니다\n",
            "소수입니다\n",
            "소수입니다\n",
            "소수입니다\n",
            "소수입니다\n",
            "소수입니다\n",
            "소수입니다\n",
            "소수입니다\n",
            "소수입니다\n",
            "소수입니다\n",
            "소수입니다\n",
            "소수입니다\n",
            "소수입니다\n",
            "소수입니다\n",
            "소수입니다\n",
            "소수입니다\n",
            "소수입니다\n",
            "소수입니다\n",
            "소수입니다\n",
            "소수입니다\n",
            "소수입니다\n",
            "소수입니다\n",
            "소수입니다\n",
            "소수입니다\n",
            "소수입니다\n",
            "소수입니다\n",
            "소수입니다\n",
            "소수입니다\n",
            "소수입니다\n",
            "소수입니다\n",
            "소수입니다\n",
            "소수입니다\n",
            "소수입니다\n",
            "소수입니다\n",
            "소수입니다\n",
            "소수입니다\n",
            "소수입니다\n",
            "소수입니다\n",
            "소수입니다\n",
            "소수입니다\n",
            "소수입니다\n",
            "소수입니다\n",
            "소수입니다\n",
            "소수입니다\n",
            "소수입니다\n",
            "소수입니다\n",
            "소수입니다\n",
            "소수입니다\n",
            "소수입니다\n",
            "소수입니다\n",
            "소수입니다\n",
            "소수입니다\n",
            "소수입니다\n",
            "소수입니다\n",
            "소수입니다\n",
            "소수입니다\n",
            "소수입니다\n",
            "소수입니다\n",
            "소수입니다\n",
            "소수입니다\n",
            "소수입니다\n",
            "소수입니다\n",
            "소수입니다\n",
            "소수입니다\n",
            "소수입니다\n",
            "소수입니다\n",
            "소수입니다\n",
            "소수입니다\n",
            "소수입니다\n",
            "소수입니다\n",
            "소수입니다\n",
            "소수입니다\n",
            "소수입니다\n",
            "소수입니다\n",
            "소수입니다\n",
            "소수입니다\n",
            "소수입니다\n",
            "소수입니다\n",
            "소수입니다\n",
            "소수입니다\n",
            "소수입니다\n",
            "소수입니다\n",
            "소수입니다\n",
            "소수입니다\n",
            "소수입니다\n",
            "소수입니다\n",
            "소수입니다\n",
            "소수입니다\n",
            "소수입니다\n",
            "소수입니다\n",
            "소수입니다\n",
            "소수입니다\n",
            "소수입니다\n",
            "소수입니다\n",
            "소수입니다\n",
            "소수입니다\n",
            "소수입니다\n",
            "소수입니다\n",
            "소수입니다\n",
            "소수입니다\n",
            "소수입니다\n",
            "소수입니다\n",
            "소수입니다\n",
            "소수입니다\n",
            "소수입니다\n",
            "소수입니다\n",
            "소수입니다\n",
            "소수입니다\n",
            "소수입니다\n",
            "소수입니다\n",
            "소수입니다\n",
            "소수입니다\n",
            "소수입니다\n",
            "소수입니다\n",
            "소수입니다\n",
            "소수입니다\n",
            "소수입니다\n",
            "소수입니다\n",
            "소수입니다\n",
            "소수입니다\n",
            "소수입니다\n",
            "소수입니다\n",
            "소수입니다\n",
            "소수입니다\n",
            "소수입니다\n",
            "소수입니다\n",
            "소수입니다\n",
            "소수입니다\n",
            "소수입니다\n",
            "소수입니다\n",
            "소수입니다\n",
            "소수입니다\n",
            "소수입니다\n",
            "소수입니다\n",
            "소수입니다\n",
            "소수입니다\n",
            "소수입니다\n",
            "소수입니다\n",
            "소수입니다\n",
            "소수입니다\n",
            "소수입니다\n",
            "소수입니다\n",
            "소수입니다\n",
            "소수입니다\n",
            "소수입니다\n",
            "소수입니다\n",
            "소수입니다\n",
            "소수입니다\n",
            "소수입니다\n",
            "소수입니다\n",
            "소수입니다\n",
            "소수입니다\n",
            "소수입니다\n",
            "소수입니다\n",
            "소수입니다\n",
            "소수입니다\n",
            "소수입니다\n",
            "소수입니다\n",
            "소수입니다\n",
            "소수입니다\n",
            "소수입니다\n",
            "소수입니다\n",
            "소수입니다\n",
            "소수입니다\n",
            "소수입니다\n",
            "소수입니다\n",
            "소수입니다\n",
            "소수입니다\n",
            "소수입니다\n",
            "소수입니다\n",
            "소수입니다\n",
            "소수입니다\n",
            "소수입니다\n",
            "소수입니다\n",
            "소수입니다\n",
            "소수입니다\n",
            "소수입니다\n",
            "소수입니다\n",
            "소수입니다\n",
            "소수입니다\n",
            "소수입니다\n",
            "소수입니다\n",
            "소수입니다\n",
            "소수입니다\n",
            "소수입니다\n",
            "소수입니다\n",
            "소수입니다\n",
            "소수입니다\n",
            "소수입니다\n",
            "소수입니다\n",
            "소수입니다\n",
            "소수입니다\n",
            "소수입니다\n",
            "소수입니다\n",
            "소수입니다\n",
            "소수입니다\n",
            "소수입니다\n",
            "소수입니다\n",
            "소수입니다\n",
            "소수입니다\n",
            "소수입니다\n",
            "소수입니다\n",
            "소수입니다\n",
            "소수입니다\n",
            "소수입니다\n",
            "소수입니다\n",
            "소수입니다\n",
            "소수입니다\n",
            "소수입니다\n",
            "소수입니다\n",
            "소수입니다\n",
            "소수입니다\n",
            "소수입니다\n",
            "소수입니다\n",
            "소수입니다\n",
            "소수입니다\n",
            "소수입니다\n",
            "소수입니다\n",
            "소수입니다\n",
            "소수입니다\n",
            "소수입니다\n",
            "소수입니다\n",
            "소수입니다\n",
            "소수입니다\n",
            "소수입니다\n",
            "소수입니다\n",
            "소수입니다\n",
            "소수입니다\n",
            "소수입니다\n",
            "소수입니다\n",
            "소수입니다\n",
            "소수입니다\n",
            "소수입니다\n",
            "소수입니다\n",
            "소수입니다\n",
            "소수입니다\n",
            "소수입니다\n",
            "소수입니다\n",
            "소수입니다\n",
            "소수입니다\n",
            "소수입니다\n",
            "소수입니다\n",
            "소수입니다\n",
            "소수입니다\n",
            "소수입니다\n",
            "소수입니다\n",
            "소수입니다\n",
            "소수입니다\n",
            "소수입니다\n",
            "소수입니다\n",
            "소수입니다\n",
            "소수입니다\n",
            "소수입니다\n",
            "소수입니다\n",
            "소수입니다\n",
            "소수입니다\n",
            "소수입니다\n",
            "소수입니다\n",
            "소수입니다\n",
            "소수입니다\n",
            "소수입니다\n",
            "소수입니다\n",
            "소수입니다\n",
            "소수입니다\n",
            "소수입니다\n",
            "소수입니다\n",
            "소수입니다\n",
            "소수입니다\n",
            "소수입니다\n",
            "소수입니다\n",
            "소수입니다\n",
            "소수입니다\n",
            "소수입니다\n",
            "소수입니다\n",
            "소수입니다\n",
            "소수입니다\n",
            "소수입니다\n",
            "소수입니다\n",
            "소수입니다\n",
            "소수입니다\n",
            "소수입니다\n",
            "소수입니다\n",
            "소수입니다\n",
            "소수입니다\n",
            "소수입니다\n",
            "소수입니다\n",
            "소수입니다\n",
            "소수입니다\n",
            "소수입니다\n",
            "소수입니다\n",
            "소수입니다\n",
            "소수입니다\n",
            "소수입니다\n",
            "소수입니다\n",
            "소수입니다\n",
            "소수입니다\n",
            "소수입니다\n",
            "소수입니다\n",
            "소수입니다\n",
            "소수입니다\n",
            "소수입니다\n",
            "소수입니다\n",
            "소수입니다\n",
            "소수입니다\n",
            "소수입니다\n",
            "소수입니다\n",
            "소수입니다\n",
            "소수입니다\n",
            "소수입니다\n",
            "소수입니다\n",
            "소수입니다\n",
            "소수입니다\n",
            "소수입니다\n",
            "소수입니다\n",
            "소수입니다\n",
            "소수입니다\n",
            "소수입니다\n",
            "소수입니다\n",
            "소수입니다\n",
            "소수입니다\n",
            "소수입니다\n",
            "소수입니다\n",
            "소수입니다\n",
            "소수입니다\n",
            "소수입니다\n",
            "소수입니다\n",
            "소수입니다\n",
            "소수입니다\n",
            "소수입니다\n",
            "소수입니다\n",
            "소수입니다\n",
            "소수입니다\n",
            "소수입니다\n",
            "소수입니다\n",
            "소수입니다\n",
            "소수입니다\n",
            "소수입니다\n",
            "소수입니다\n",
            "소수입니다\n",
            "소수입니다\n",
            "소수입니다\n",
            "소수입니다\n",
            "소수입니다\n",
            "소수입니다\n",
            "소수입니다\n",
            "소수입니다\n",
            "소수입니다\n",
            "소수입니다\n",
            "소수입니다\n",
            "소수입니다\n",
            "소수입니다\n",
            "소수입니다\n",
            "소수입니다\n",
            "소수입니다\n",
            "소수입니다\n",
            "소수입니다\n",
            "소수입니다\n",
            "소수입니다\n",
            "소수입니다\n",
            "소수입니다\n",
            "소수입니다\n",
            "소수입니다\n",
            "소수입니다\n",
            "소수입니다\n",
            "소수입니다\n",
            "소수입니다\n",
            "소수입니다\n",
            "소수입니다\n",
            "소수입니다\n",
            "소수입니다\n",
            "소수입니다\n",
            "소수입니다\n",
            "소수입니다\n",
            "소수입니다\n",
            "소수입니다\n",
            "소수입니다\n",
            "소수입니다\n",
            "소수입니다\n",
            "소수입니다\n",
            "소수입니다\n",
            "소수입니다\n",
            "소수입니다\n",
            "소수입니다\n",
            "소수입니다\n",
            "소수입니다\n",
            "소수입니다\n",
            "소수입니다\n",
            "소수입니다\n",
            "소수입니다\n",
            "소수입니다\n",
            "소수입니다\n",
            "소수입니다\n",
            "소수입니다\n",
            "소수입니다\n",
            "소수입니다\n",
            "소수입니다\n",
            "소수입니다\n",
            "소수입니다\n",
            "소수입니다\n",
            "소수입니다\n",
            "소수입니다\n",
            "소수입니다\n",
            "소수입니다\n",
            "소수입니다\n",
            "소수입니다\n",
            "소수입니다\n",
            "소수입니다\n",
            "소수입니다\n",
            "소수입니다\n",
            "소수입니다\n",
            "소수입니다\n",
            "소수입니다\n",
            "소수입니다\n",
            "소수입니다\n",
            "소수입니다\n",
            "소수입니다\n",
            "소수입니다\n",
            "소수입니다\n",
            "소수입니다\n",
            "소수입니다\n",
            "소수입니다\n",
            "소수입니다\n",
            "소수입니다\n",
            "소수입니다\n",
            "소수입니다\n",
            "소수입니다\n",
            "소수입니다\n",
            "소수입니다\n",
            "소수입니다\n",
            "소수입니다\n",
            "소수입니다\n",
            "소수입니다\n",
            "소수입니다\n",
            "소수입니다\n",
            "소수입니다\n",
            "소수입니다\n",
            "소수입니다\n",
            "소수입니다\n",
            "소수입니다\n",
            "소수입니다\n",
            "소수입니다\n",
            "소수입니다\n",
            "소수입니다\n",
            "소수입니다\n",
            "소수입니다\n",
            "소수입니다\n",
            "소수입니다\n",
            "소수입니다\n",
            "소수입니다\n",
            "소수입니다\n",
            "소수입니다\n",
            "소수입니다\n",
            "소수입니다\n",
            "소수입니다\n",
            "소수입니다\n",
            "소수입니다\n",
            "소수입니다\n",
            "소수입니다\n",
            "소수입니다\n",
            "소수입니다\n",
            "소수입니다\n",
            "소수입니다\n",
            "소수입니다\n",
            "소수입니다\n",
            "소수입니다\n",
            "소수입니다\n",
            "소수입니다\n",
            "소수입니다\n",
            "소수입니다\n",
            "소수입니다\n",
            "소수입니다\n",
            "소수입니다\n",
            "소수입니다\n",
            "소수입니다\n",
            "소수입니다\n",
            "소수입니다\n",
            "소수입니다\n",
            "소수입니다\n",
            "소수입니다\n",
            "소수입니다\n",
            "소수입니다\n",
            "소수입니다\n",
            "소수입니다\n",
            "소수입니다\n",
            "소수입니다\n",
            "소수입니다\n",
            "소수입니다\n",
            "소수입니다\n",
            "소수입니다\n",
            "소수입니다\n",
            "소수입니다\n",
            "소수입니다\n",
            "소수입니다\n",
            "소수입니다\n",
            "소수입니다\n",
            "소수입니다\n",
            "소수입니다\n",
            "소수입니다\n",
            "소수입니다\n",
            "소수입니다\n",
            "소수입니다\n",
            "소수입니다\n",
            "소수입니다\n",
            "소수입니다\n",
            "소수입니다\n",
            "소수입니다\n",
            "소수입니다\n",
            "소수입니다\n",
            "소수입니다\n",
            "소수입니다\n",
            "소수입니다\n",
            "소수입니다\n",
            "소수입니다\n",
            "소수입니다\n",
            "소수입니다\n",
            "소수입니다\n",
            "소수입니다\n",
            "소수입니다\n",
            "소수입니다\n",
            "소수입니다\n",
            "소수입니다\n",
            "소수입니다\n",
            "소수입니다\n",
            "소수입니다\n",
            "소수입니다\n",
            "소수입니다\n",
            "소수입니다\n",
            "소수입니다\n",
            "소수입니다\n",
            "소수입니다\n",
            "소수입니다\n",
            "소수입니다\n",
            "소수입니다\n",
            "소수입니다\n",
            "소수입니다\n",
            "소수입니다\n",
            "소수입니다\n",
            "소수입니다\n",
            "소수입니다\n",
            "소수입니다\n",
            "소수입니다\n",
            "소수입니다\n",
            "소수입니다\n",
            "소수입니다\n",
            "소수입니다\n",
            "소수입니다\n",
            "소수입니다\n",
            "소수입니다\n",
            "소수입니다\n",
            "소수입니다\n",
            "소수입니다\n",
            "소수입니다\n",
            "소수입니다\n",
            "소수입니다\n",
            "소수입니다\n",
            "소수입니다\n",
            "소수입니다\n",
            "소수입니다\n",
            "소수입니다\n",
            "소수입니다\n",
            "소수입니다\n",
            "소수입니다\n",
            "소수입니다\n",
            "소수입니다\n",
            "소수입니다\n",
            "소수입니다\n",
            "소수입니다\n",
            "소수입니다\n",
            "소수입니다\n",
            "소수입니다\n",
            "소수입니다\n",
            "소수입니다\n",
            "소수입니다\n",
            "소수입니다\n",
            "소수입니다\n",
            "소수입니다\n",
            "소수입니다\n",
            "소수입니다\n",
            "소수입니다\n",
            "소수입니다\n",
            "소수입니다\n",
            "소수입니다\n",
            "소수입니다\n",
            "소수입니다\n",
            "소수입니다\n",
            "소수입니다\n",
            "소수입니다\n",
            "소수입니다\n",
            "소수입니다\n",
            "소수입니다\n",
            "소수입니다\n",
            "소수입니다\n",
            "소수입니다\n",
            "소수입니다\n",
            "소수입니다\n",
            "소수입니다\n",
            "소수입니다\n",
            "소수입니다\n",
            "소수입니다\n",
            "소수입니다\n",
            "소수입니다\n",
            "소수입니다\n",
            "소수입니다\n",
            "소수입니다\n",
            "소수입니다\n",
            "소수입니다\n",
            "소수입니다\n",
            "소수입니다\n",
            "소수입니다\n",
            "소수입니다\n",
            "소수입니다\n",
            "소수입니다\n",
            "소수입니다\n",
            "소수입니다\n",
            "소수입니다\n",
            "소수입니다\n",
            "소수입니다\n",
            "소수입니다\n",
            "소수입니다\n",
            "소수입니다\n",
            "소수입니다\n",
            "소수입니다\n",
            "소수입니다\n",
            "소수입니다\n",
            "소수입니다\n",
            "소수입니다\n",
            "소수입니다\n",
            "소수입니다\n",
            "소수입니다\n",
            "소수입니다\n",
            "소수입니다\n",
            "소수입니다\n",
            "소수입니다\n",
            "소수입니다\n",
            "소수입니다\n",
            "소수입니다\n",
            "소수입니다\n",
            "소수입니다\n",
            "소수입니다\n",
            "소수입니다\n",
            "소수입니다\n",
            "소수입니다\n",
            "소수입니다\n",
            "소수입니다\n",
            "소수입니다\n",
            "소수입니다\n",
            "소수입니다\n",
            "소수입니다\n",
            "소수입니다\n",
            "소수입니다\n",
            "소수입니다\n",
            "소수입니다\n",
            "소수입니다\n",
            "소수입니다\n",
            "소수입니다\n",
            "소수입니다\n",
            "소수입니다\n",
            "소수입니다\n",
            "소수입니다\n",
            "소수입니다\n",
            "소수입니다\n",
            "소수입니다\n",
            "소수입니다\n",
            "소수입니다\n",
            "소수입니다\n",
            "소수입니다\n",
            "소수입니다\n",
            "소수입니다\n",
            "소수입니다\n",
            "소수입니다\n",
            "소수입니다\n",
            "소수입니다\n",
            "소수입니다\n",
            "소수입니다\n",
            "소수입니다\n",
            "소수입니다\n",
            "소수입니다\n",
            "소수입니다\n",
            "소수입니다\n",
            "소수입니다\n",
            "소수입니다\n",
            "소수입니다\n",
            "소수입니다\n",
            "소수입니다\n",
            "소수입니다\n",
            "소수입니다\n",
            "소수입니다\n",
            "소수입니다\n",
            "소수입니다\n",
            "소수입니다\n",
            "소수입니다\n",
            "소수입니다\n",
            "소수입니다\n",
            "소수입니다\n",
            "소수입니다\n",
            "소수입니다\n",
            "소수입니다\n",
            "소수입니다\n",
            "소수입니다\n",
            "소수입니다\n",
            "소수입니다\n",
            "소수입니다\n",
            "소수입니다\n",
            "소수입니다\n",
            "소수입니다\n",
            "소수입니다\n",
            "소수입니다\n",
            "소수입니다\n",
            "소수입니다\n",
            "소수입니다\n",
            "소수입니다\n",
            "소수입니다\n",
            "소수입니다\n",
            "소수입니다\n",
            "소수입니다\n",
            "소수입니다\n",
            "소수입니다\n",
            "소수입니다\n",
            "소수입니다\n",
            "소수입니다\n",
            "소수입니다\n",
            "소수입니다\n",
            "소수입니다\n",
            "소수입니다\n",
            "소수입니다\n",
            "소수입니다\n",
            "소수입니다\n",
            "소수입니다\n",
            "소수입니다\n",
            "소수입니다\n",
            "소수입니다\n",
            "소수입니다\n",
            "소수입니다\n",
            "소수입니다\n",
            "소수입니다\n",
            "소수입니다\n",
            "소수입니다\n",
            "소수입니다\n",
            "소수입니다\n",
            "소수입니다\n",
            "소수입니다\n",
            "소수입니다\n",
            "소수입니다\n",
            "소수입니다\n",
            "소수입니다\n",
            "소수입니다\n",
            "소수입니다\n",
            "소수입니다\n",
            "소수입니다\n",
            "소수입니다\n",
            "소수입니다\n",
            "소수입니다\n",
            "소수입니다\n",
            "소수입니다\n",
            "소수입니다\n",
            "소수입니다\n",
            "소수입니다\n",
            "소수입니다\n",
            "소수입니다\n",
            "소수입니다\n",
            "소수입니다\n",
            "소수입니다\n",
            "소수입니다\n",
            "소수입니다\n",
            "소수입니다\n",
            "소수입니다\n",
            "소수입니다\n",
            "소수입니다\n",
            "소수입니다\n",
            "소수입니다\n",
            "소수입니다\n",
            "소수입니다\n",
            "소수입니다\n",
            "소수입니다\n",
            "소수입니다\n",
            "소수입니다\n",
            "소수입니다\n",
            "소수입니다\n",
            "소수입니다\n",
            "소수입니다\n",
            "소수입니다\n",
            "소수입니다\n",
            "소수입니다\n",
            "소수입니다\n",
            "소수입니다\n",
            "소수입니다\n",
            "소수입니다\n",
            "소수입니다\n",
            "소수입니다\n",
            "소수입니다\n",
            "소수입니다\n",
            "소수입니다\n",
            "소수입니다\n",
            "소수입니다\n",
            "소수입니다\n",
            "소수입니다\n",
            "소수입니다\n",
            "소수입니다\n",
            "소수입니다\n",
            "소수입니다\n",
            "소수입니다\n",
            "소수입니다\n",
            "소수입니다\n",
            "소수입니다\n",
            "소수입니다\n",
            "소수입니다\n",
            "소수입니다\n",
            "소수입니다\n",
            "소수입니다\n",
            "소수입니다\n",
            "소수입니다\n",
            "소수입니다\n",
            "소수입니다\n",
            "소수입니다\n",
            "소수입니다\n",
            "소수입니다\n",
            "소수입니다\n",
            "소수입니다\n",
            "소수입니다\n",
            "소수입니다\n",
            "소수입니다\n",
            "소수입니다\n",
            "소수입니다\n",
            "소수입니다\n",
            "소수입니다\n",
            "소수입니다\n",
            "소수입니다\n",
            "소수입니다\n",
            "소수입니다\n",
            "소수입니다\n",
            "소수입니다\n",
            "소수입니다\n",
            "소수입니다\n",
            "소수입니다\n",
            "소수입니다\n",
            "소수입니다\n",
            "소수입니다\n",
            "소수입니다\n",
            "소수입니다\n",
            "소수입니다\n",
            "소수입니다\n",
            "소수입니다\n",
            "소수입니다\n",
            "소수입니다\n",
            "소수입니다\n",
            "소수입니다\n",
            "소수입니다\n",
            "소수입니다\n",
            "소수입니다\n",
            "소수입니다\n",
            "소수입니다\n",
            "소수입니다\n",
            "소수입니다\n",
            "소수입니다\n",
            "소수입니다\n",
            "소수입니다\n",
            "소수입니다\n",
            "소수입니다\n",
            "소수입니다\n",
            "소수입니다\n",
            "소수입니다\n",
            "소수입니다\n",
            "소수입니다\n",
            "소수입니다\n",
            "소수입니다\n",
            "소수입니다\n",
            "소수입니다\n",
            "소수입니다\n",
            "소수입니다\n",
            "소수입니다\n",
            "소수입니다\n",
            "소수입니다\n",
            "소수입니다\n",
            "소수입니다\n",
            "소수입니다\n",
            "소수입니다\n",
            "소수입니다\n",
            "소수입니다\n",
            "소수입니다\n",
            "소수입니다\n",
            "소수입니다\n",
            "소수입니다\n",
            "소수입니다\n",
            "소수입니다\n",
            "소수입니다\n",
            "소수입니다\n",
            "소수입니다\n",
            "소수입니다\n",
            "소수입니다\n",
            "소수입니다\n",
            "소수입니다\n",
            "소수입니다\n",
            "소수입니다\n",
            "소수입니다\n",
            "소수입니다\n",
            "소수입니다\n",
            "소수입니다\n",
            "소수입니다\n",
            "소수입니다\n",
            "소수입니다\n",
            "소수입니다\n",
            "소수입니다\n",
            "소수입니다\n",
            "소수입니다\n",
            "소수입니다\n",
            "소수입니다\n",
            "소수입니다\n",
            "소수입니다\n",
            "소수입니다\n",
            "소수입니다\n",
            "소수입니다\n",
            "소수입니다\n",
            "소수입니다\n",
            "소수입니다\n",
            "소수입니다\n",
            "소수입니다\n",
            "소수입니다\n",
            "소수입니다\n",
            "소수입니다\n",
            "소수입니다\n",
            "소수입니다\n",
            "소수입니다\n",
            "소수입니다\n",
            "소수입니다\n",
            "소수입니다\n",
            "소수입니다\n",
            "소수입니다\n",
            "소수입니다\n",
            "소수입니다\n",
            "소수입니다\n",
            "소수입니다\n",
            "소수입니다\n",
            "소수입니다\n",
            "소수입니다\n",
            "소수입니다\n",
            "소수입니다\n",
            "소수입니다\n",
            "소수입니다\n",
            "소수입니다\n",
            "소수입니다\n",
            "소수입니다\n",
            "소수입니다\n",
            "소수입니다\n",
            "소수입니다\n",
            "소수입니다\n",
            "소수입니다\n",
            "소수입니다\n",
            "소수입니다\n",
            "소수입니다\n",
            "소수입니다\n",
            "소수입니다\n",
            "소수입니다\n",
            "소수입니다\n",
            "소수입니다\n",
            "소수입니다\n",
            "소수입니다\n",
            "소수입니다\n",
            "소수입니다\n",
            "소수입니다\n",
            "소수입니다\n",
            "소수입니다\n",
            "소수입니다\n",
            "소수입니다\n",
            "소수입니다\n",
            "소수입니다\n",
            "소수입니다\n",
            "소수입니다\n",
            "소수입니다\n",
            "소수입니다\n",
            "소수입니다\n",
            "소수입니다\n",
            "소수입니다\n",
            "소수입니다\n",
            "소수입니다\n",
            "소수입니다\n",
            "소수입니다\n",
            "소수입니다\n",
            "소수입니다\n",
            "소수입니다\n",
            "소수입니다\n",
            "소수입니다\n",
            "소수입니다\n",
            "소수입니다\n",
            "소수입니다\n",
            "소수입니다\n",
            "소수입니다\n",
            "소수입니다\n",
            "소수입니다\n",
            "소수입니다\n",
            "소수입니다\n",
            "소수입니다\n",
            "소수입니다\n",
            "소수입니다\n",
            "소수입니다\n",
            "소수입니다\n",
            "소수입니다\n",
            "소수입니다\n",
            "소수입니다\n",
            "소수입니다\n",
            "소수입니다\n",
            "소수입니다\n",
            "소수입니다\n",
            "소수입니다\n",
            "소수입니다\n",
            "소수입니다\n",
            "소수입니다\n",
            "소수입니다\n",
            "소수입니다\n",
            "소수입니다\n",
            "소수입니다\n",
            "소수입니다\n",
            "소수입니다\n",
            "소수입니다\n",
            "소수입니다\n",
            "소수입니다\n",
            "소수입니다\n",
            "소수입니다\n",
            "소수입니다\n",
            "소수입니다\n",
            "소수입니다\n",
            "소수입니다\n",
            "소수입니다\n",
            "소수입니다\n",
            "소수입니다\n",
            "소수입니다\n",
            "소수입니다\n",
            "소수입니다\n",
            "소수입니다\n",
            "소수입니다\n",
            "소수입니다\n",
            "소수입니다\n",
            "소수입니다\n",
            "소수입니다\n",
            "소수입니다\n",
            "소수입니다\n",
            "소수입니다\n",
            "소수입니다\n",
            "소수입니다\n",
            "소수입니다\n",
            "소수입니다\n",
            "소수입니다\n",
            "소수입니다\n",
            "소수입니다\n",
            "소수입니다\n",
            "소수입니다\n",
            "소수입니다\n",
            "소수입니다\n",
            "소수입니다\n",
            "소수입니다\n",
            "소수입니다\n",
            "소수입니다\n",
            "소수입니다\n",
            "소수입니다\n",
            "소수입니다\n",
            "소수입니다\n",
            "소수입니다\n",
            "소수입니다\n",
            "소수입니다\n",
            "소수입니다\n",
            "소수입니다\n",
            "소수입니다\n",
            "소수입니다\n",
            "소수입니다\n",
            "소수입니다\n",
            "소수입니다\n",
            "소수입니다\n",
            "소수입니다\n",
            "소수입니다\n",
            "소수입니다\n",
            "소수입니다\n",
            "소수입니다\n",
            "소수입니다\n",
            "소수입니다\n",
            "소수입니다\n",
            "소수입니다\n",
            "소수입니다\n",
            "소수입니다\n",
            "소수입니다\n",
            "소수입니다\n",
            "소수입니다\n",
            "소수입니다\n",
            "소수입니다\n",
            "소수입니다\n",
            "소수입니다\n",
            "소수입니다\n",
            "소수입니다\n",
            "소수입니다\n",
            "소수입니다\n",
            "소수입니다\n",
            "소수입니다\n",
            "소수입니다\n",
            "소수입니다\n",
            "소수입니다\n",
            "소수입니다\n",
            "소수입니다\n",
            "소수입니다\n",
            "소수입니다\n",
            "소수입니다\n",
            "소수입니다\n",
            "소수입니다\n",
            "소수입니다\n",
            "소수입니다\n",
            "소수입니다\n",
            "소수입니다\n",
            "소수입니다\n",
            "소수입니다\n",
            "소수입니다\n",
            "소수입니다\n",
            "소수입니다\n",
            "소수입니다\n",
            "소수입니다\n",
            "소수입니다\n",
            "소수입니다\n",
            "소수입니다\n",
            "소수입니다\n",
            "소수입니다\n",
            "소수입니다\n",
            "소수입니다\n",
            "소수입니다\n",
            "소수입니다\n",
            "소수입니다\n",
            "소수입니다\n",
            "소수입니다\n",
            "소수입니다\n",
            "소수입니다\n",
            "소수입니다\n",
            "소수입니다\n",
            "소수입니다\n",
            "소수입니다\n",
            "소수입니다\n",
            "소수입니다\n",
            "소수입니다\n",
            "소수입니다\n",
            "소수입니다\n",
            "소수입니다\n",
            "소수입니다\n",
            "소수입니다\n",
            "소수입니다\n",
            "소수입니다\n",
            "소수입니다\n",
            "소수입니다\n",
            "소수입니다\n",
            "소수입니다\n",
            "소수입니다\n",
            "소수입니다\n",
            "소수입니다\n",
            "소수입니다\n",
            "소수입니다\n",
            "소수입니다\n",
            "소수입니다\n",
            "소수입니다\n",
            "소수입니다\n",
            "소수입니다\n",
            "소수입니다\n",
            "소수입니다\n",
            "소수입니다\n",
            "소수입니다\n",
            "소수입니다\n",
            "소수입니다\n",
            "소수입니다\n",
            "소수입니다\n",
            "소수입니다\n",
            "소수입니다\n",
            "소수입니다\n",
            "소수입니다\n",
            "소수입니다\n",
            "소수입니다\n",
            "소수입니다\n",
            "소수입니다\n",
            "소수입니다\n",
            "소수입니다\n",
            "소수입니다\n",
            "소수입니다\n",
            "소수입니다\n",
            "소수입니다\n",
            "소수입니다\n",
            "소수입니다\n",
            "소수입니다\n",
            "소수입니다\n",
            "소수입니다\n",
            "소수입니다\n",
            "소수입니다\n",
            "소수입니다\n",
            "소수입니다\n",
            "소수입니다\n",
            "소수입니다\n",
            "소수입니다\n",
            "소수입니다\n",
            "소수입니다\n",
            "소수입니다\n",
            "소수입니다\n",
            "소수입니다\n",
            "소수입니다\n",
            "소수입니다\n",
            "소수입니다\n",
            "소수입니다\n",
            "소수입니다\n",
            "소수입니다\n",
            "소수입니다\n",
            "소수입니다\n",
            "소수입니다\n",
            "소수입니다\n",
            "소수입니다\n",
            "소수입니다\n",
            "소수입니다\n",
            "소수입니다\n",
            "소수입니다\n",
            "소수입니다\n",
            "소수입니다\n",
            "소수입니다\n",
            "소수입니다\n",
            "소수입니다\n",
            "소수입니다\n",
            "소수입니다\n",
            "소수입니다\n",
            "소수입니다\n",
            "소수입니다\n",
            "소수입니다\n",
            "소수입니다\n",
            "소수입니다\n",
            "소수입니다\n",
            "소수입니다\n",
            "소수입니다\n",
            "소수입니다\n",
            "소수입니다\n",
            "소수입니다\n",
            "소수입니다\n",
            "소수입니다\n",
            "소수입니다\n",
            "소수입니다\n",
            "소수입니다\n",
            "소수입니다\n",
            "소수입니다\n",
            "소수입니다\n",
            "소수입니다\n",
            "소수입니다\n",
            "소수입니다\n",
            "소수입니다\n",
            "소수입니다\n",
            "소수입니다\n",
            "소수입니다\n",
            "소수입니다\n",
            "소수입니다\n",
            "소수입니다\n",
            "소수입니다\n",
            "소수입니다\n",
            "소수입니다\n",
            "소수입니다\n",
            "소수입니다\n",
            "소수입니다\n",
            "소수입니다\n",
            "소수입니다\n",
            "소수입니다\n",
            "소수입니다\n",
            "소수입니다\n",
            "소수입니다\n",
            "소수입니다\n",
            "소수입니다\n",
            "소수입니다\n",
            "소수입니다\n",
            "소수입니다\n",
            "소수입니다\n",
            "소수입니다\n",
            "소수입니다\n",
            "소수입니다\n",
            "소수입니다\n",
            "소수입니다\n",
            "소수입니다\n",
            "소수입니다\n",
            "소수입니다\n",
            "소수입니다\n",
            "소수입니다\n",
            "소수입니다\n",
            "소수입니다\n",
            "소수입니다\n",
            "소수입니다\n",
            "소수입니다\n",
            "소수입니다\n",
            "소수입니다\n",
            "소수입니다\n",
            "소수입니다\n",
            "소수입니다\n",
            "소수입니다\n",
            "소수입니다\n",
            "소수입니다\n",
            "소수입니다\n",
            "소수입니다\n",
            "소수입니다\n",
            "소수입니다\n",
            "소수입니다\n",
            "소수입니다\n",
            "소수입니다\n",
            "소수입니다\n",
            "소수입니다\n",
            "소수입니다\n",
            "소수입니다\n",
            "소수입니다\n",
            "소수입니다\n",
            "소수입니다\n",
            "소수입니다\n",
            "소수입니다\n",
            "소수입니다\n",
            "소수입니다\n",
            "소수입니다\n",
            "소수입니다\n",
            "소수입니다\n",
            "소수입니다\n",
            "소수입니다\n",
            "소수입니다\n",
            "소수입니다\n",
            "소수입니다\n",
            "소수입니다\n",
            "소수입니다\n",
            "소수입니다\n",
            "소수입니다\n",
            "소수입니다\n",
            "소수입니다\n",
            "소수입니다\n",
            "소수입니다\n",
            "소수입니다\n",
            "소수입니다\n",
            "소수입니다\n",
            "소수입니다\n",
            "소수입니다\n",
            "소수입니다\n",
            "소수입니다\n",
            "소수입니다\n",
            "소수입니다\n",
            "소수입니다\n",
            "소수입니다\n",
            "소수입니다\n",
            "소수입니다\n",
            "소수입니다\n",
            "소수입니다\n",
            "소수입니다\n",
            "소수입니다\n",
            "소수입니다\n",
            "소수입니다\n",
            "소수입니다\n",
            "소수입니다\n",
            "소수입니다\n",
            "소수입니다\n",
            "소수입니다\n",
            "소수입니다\n",
            "소수입니다\n",
            "소수입니다\n",
            "소수입니다\n",
            "소수입니다\n",
            "소수입니다\n",
            "소수입니다\n",
            "소수입니다\n",
            "소수입니다\n",
            "소수입니다\n",
            "소수입니다\n",
            "소수입니다\n",
            "소수입니다\n",
            "소수입니다\n",
            "소수입니다\n",
            "소수입니다\n",
            "소수입니다\n",
            "소수입니다\n",
            "소수입니다\n",
            "소수입니다\n",
            "소수입니다\n",
            "소수입니다\n",
            "소수입니다\n",
            "소수입니다\n",
            "소수입니다\n",
            "소수입니다\n",
            "소수입니다\n",
            "소수입니다\n",
            "소수입니다\n",
            "소수입니다\n",
            "소수입니다\n",
            "소수입니다\n",
            "소수입니다\n",
            "소수입니다\n",
            "소수입니다\n",
            "소수입니다\n",
            "소수입니다\n",
            "소수입니다\n",
            "소수입니다\n",
            "소수입니다\n",
            "소수입니다\n",
            "소수입니다\n",
            "소수입니다\n",
            "소수입니다\n",
            "소수입니다\n",
            "소수입니다\n",
            "소수입니다\n",
            "소수입니다\n",
            "소수입니다\n",
            "소수입니다\n",
            "소수입니다\n",
            "소수입니다\n",
            "소수입니다\n",
            "소수입니다\n",
            "소수입니다\n",
            "소수입니다\n",
            "소수입니다\n",
            "소수입니다\n",
            "소수입니다\n",
            "소수입니다\n",
            "소수입니다\n",
            "소수입니다\n",
            "소수입니다\n",
            "소수입니다\n",
            "소수입니다\n",
            "소수입니다\n",
            "소수입니다\n",
            "소수입니다\n",
            "소수입니다\n",
            "소수입니다\n",
            "소수입니다\n",
            "소수입니다\n",
            "소수입니다\n",
            "소수입니다\n",
            "소수입니다\n",
            "소수입니다\n",
            "소수입니다\n",
            "소수입니다\n",
            "소수입니다\n",
            "소수입니다\n",
            "소수입니다\n",
            "소수입니다\n",
            "소수입니다\n",
            "소수입니다\n",
            "소수입니다\n",
            "소수입니다\n",
            "소수입니다\n",
            "소수입니다\n",
            "소수입니다\n",
            "소수입니다\n",
            "소수입니다\n",
            "소수입니다\n",
            "소수입니다\n",
            "소수입니다\n",
            "소수입니다\n",
            "소수입니다\n",
            "소수입니다\n",
            "소수입니다\n",
            "소수입니다\n",
            "소수입니다\n",
            "소수입니다\n",
            "소수입니다\n",
            "소수입니다\n",
            "소수입니다\n",
            "소수입니다\n",
            "소수입니다\n",
            "소수입니다\n",
            "소수입니다\n",
            "소수입니다\n",
            "소수입니다\n",
            "소수입니다\n",
            "소수입니다\n",
            "소수입니다\n",
            "소수입니다\n",
            "소수입니다\n",
            "소수입니다\n",
            "소수입니다\n",
            "소수입니다\n",
            "소수입니다\n",
            "소수입니다\n",
            "소수입니다\n",
            "소수입니다\n",
            "소수입니다\n",
            "소수입니다\n",
            "소수입니다\n",
            "소수입니다\n",
            "소수입니다\n",
            "소수입니다\n",
            "소수입니다\n",
            "소수입니다\n",
            "소수입니다\n",
            "소수입니다\n",
            "소수입니다\n",
            "소수입니다\n",
            "소수입니다\n",
            "소수입니다\n",
            "소수입니다\n",
            "소수입니다\n",
            "소수입니다\n",
            "소수입니다\n",
            "소수입니다\n",
            "소수입니다\n",
            "소수입니다\n",
            "소수입니다\n",
            "소수입니다\n",
            "소수입니다\n",
            "소수입니다\n",
            "소수입니다\n",
            "소수입니다\n",
            "소수입니다\n",
            "소수입니다\n",
            "소수입니다\n",
            "소수입니다\n",
            "소수입니다\n",
            "소수입니다\n",
            "소수입니다\n",
            "소수입니다\n",
            "소수입니다\n",
            "소수입니다\n",
            "소수입니다\n",
            "소수입니다\n",
            "소수입니다\n",
            "소수입니다\n",
            "소수입니다\n",
            "소수입니다\n",
            "소수입니다\n",
            "소수입니다\n",
            "소수입니다\n",
            "소수입니다\n",
            "소수입니다\n",
            "소수입니다\n",
            "소수입니다\n",
            "소수입니다\n",
            "소수입니다\n",
            "소수입니다\n",
            "소수입니다\n",
            "소수입니다\n",
            "소수입니다\n",
            "소수입니다\n",
            "소수입니다\n",
            "소수입니다\n",
            "소수입니다\n",
            "소수입니다\n",
            "소수입니다\n",
            "소수입니다\n",
            "소수입니다\n",
            "소수입니다\n",
            "소수입니다\n",
            "소수입니다\n",
            "소수입니다\n",
            "소수입니다\n",
            "소수입니다\n",
            "소수입니다\n",
            "소수입니다\n",
            "소수입니다\n",
            "소수입니다\n",
            "소수입니다\n",
            "소수입니다\n",
            "소수입니다\n",
            "소수입니다\n",
            "소수입니다\n",
            "소수입니다\n",
            "소수입니다\n",
            "소수입니다\n",
            "소수입니다\n",
            "소수입니다\n",
            "소수입니다\n",
            "소수입니다\n",
            "소수입니다\n",
            "소수입니다\n",
            "소수입니다\n",
            "소수입니다\n",
            "소수입니다\n",
            "소수입니다\n",
            "소수입니다\n",
            "소수입니다\n",
            "소수입니다\n",
            "소수입니다\n",
            "소수입니다\n",
            "소수입니다\n",
            "소수입니다\n",
            "소수입니다\n",
            "소수입니다\n",
            "소수입니다\n",
            "소수입니다\n",
            "소수입니다\n",
            "소수입니다\n",
            "소수입니다\n",
            "소수입니다\n",
            "소수입니다\n",
            "소수입니다\n",
            "소수입니다\n",
            "소수입니다\n",
            "소수입니다\n",
            "소수입니다\n",
            "소수입니다\n",
            "소수입니다\n",
            "소수입니다\n",
            "소수입니다\n",
            "소수입니다\n",
            "소수입니다\n",
            "소수입니다\n",
            "소수입니다\n",
            "소수입니다\n",
            "소수입니다\n",
            "소수입니다\n",
            "소수입니다\n",
            "소수입니다\n",
            "소수입니다\n",
            "소수입니다\n",
            "소수입니다\n",
            "소수입니다\n",
            "소수입니다\n",
            "소수입니다\n",
            "소수입니다\n",
            "소수입니다\n",
            "소수입니다\n",
            "소수입니다\n",
            "소수입니다\n",
            "소수입니다\n",
            "소수입니다\n",
            "소수입니다\n",
            "소수입니다\n",
            "소수입니다\n",
            "소수입니다\n",
            "소수입니다\n",
            "소수입니다\n",
            "소수입니다\n",
            "소수입니다\n",
            "소수입니다\n",
            "소수입니다\n",
            "소수입니다\n",
            "소수입니다\n",
            "소수입니다\n",
            "소수입니다\n",
            "소수입니다\n",
            "소수입니다\n",
            "소수입니다\n",
            "소수입니다\n",
            "소수입니다\n",
            "소수입니다\n",
            "소수입니다\n",
            "소수입니다\n",
            "소수입니다\n",
            "소수입니다\n",
            "소수입니다\n",
            "소수입니다\n",
            "소수입니다\n",
            "소수입니다\n",
            "소수입니다\n",
            "소수입니다\n",
            "소수입니다\n",
            "소수입니다\n",
            "소수입니다\n",
            "소수입니다\n",
            "소수입니다\n",
            "소수입니다\n",
            "소수입니다\n",
            "소수입니다\n",
            "소수입니다\n",
            "소수입니다\n",
            "소수입니다\n",
            "소수입니다\n",
            "소수입니다\n",
            "소수입니다\n",
            "소수입니다\n",
            "소수입니다\n",
            "소수입니다\n",
            "소수입니다\n",
            "소수입니다\n",
            "소수입니다\n",
            "소수입니다\n",
            "소수입니다\n",
            "소수입니다\n",
            "소수입니다\n",
            "소수입니다\n",
            "소수입니다\n",
            "소수입니다\n",
            "소수입니다\n",
            "소수입니다\n",
            "소수입니다\n",
            "소수입니다\n",
            "소수입니다\n",
            "소수입니다\n",
            "소수입니다\n",
            "소수입니다\n",
            "소수입니다\n",
            "소수입니다\n",
            "소수입니다\n",
            "소수입니다\n",
            "소수입니다\n",
            "소수입니다\n",
            "소수입니다\n",
            "소수입니다\n",
            "소수입니다\n",
            "소수입니다\n",
            "소수입니다\n",
            "소수입니다\n",
            "소수입니다\n",
            "소수입니다\n",
            "소수입니다\n",
            "소수입니다\n",
            "소수입니다\n",
            "소수입니다\n",
            "소수입니다\n",
            "소수입니다\n",
            "소수입니다\n",
            "소수입니다\n",
            "소수입니다\n",
            "소수입니다\n",
            "소수입니다\n",
            "소수입니다\n",
            "소수입니다\n",
            "소수입니다\n",
            "소수입니다\n",
            "소수입니다\n",
            "소수입니다\n",
            "소수입니다\n",
            "소수입니다\n",
            "소수입니다\n",
            "소수입니다\n",
            "소수입니다\n",
            "소수입니다\n",
            "소수입니다\n",
            "소수입니다\n",
            "소수입니다\n",
            "소수입니다\n",
            "소수입니다\n",
            "소수입니다\n",
            "소수입니다\n",
            "소수입니다\n",
            "소수입니다\n",
            "소수입니다\n",
            "소수입니다\n",
            "소수입니다\n",
            "소수입니다\n",
            "소수입니다\n",
            "소수입니다\n",
            "소수입니다\n",
            "소수입니다\n",
            "소수입니다\n",
            "소수입니다\n",
            "소수입니다\n",
            "소수입니다\n",
            "소수입니다\n",
            "소수입니다\n",
            "소수입니다\n",
            "소수입니다\n",
            "소수입니다\n",
            "소수입니다\n",
            "소수입니다\n",
            "소수입니다\n",
            "소수입니다\n",
            "소수입니다\n",
            "소수입니다\n",
            "소수입니다\n",
            "소수입니다\n",
            "소수입니다\n",
            "소수입니다\n",
            "소수입니다\n",
            "소수입니다\n",
            "소수입니다\n",
            "소수입니다\n",
            "소수입니다\n",
            "소수입니다\n",
            "소수입니다\n",
            "소수입니다\n",
            "소수입니다\n",
            "소수입니다\n",
            "소수입니다\n",
            "소수입니다\n",
            "소수입니다\n",
            "소수입니다\n",
            "소수입니다\n",
            "소수입니다\n",
            "소수입니다\n",
            "소수입니다\n",
            "소수입니다\n",
            "소수입니다\n",
            "소수입니다\n",
            "소수입니다\n",
            "소수입니다\n",
            "소수입니다\n",
            "소수입니다\n",
            "소수입니다\n",
            "소수입니다\n",
            "소수입니다\n",
            "소수입니다\n",
            "소수입니다\n",
            "소수입니다\n",
            "소수입니다\n",
            "소수입니다\n",
            "소수입니다\n",
            "소수입니다\n",
            "소수입니다\n",
            "소수입니다\n",
            "소수입니다\n",
            "소수입니다\n",
            "소수입니다\n",
            "소수입니다\n",
            "소수입니다\n",
            "소수입니다\n",
            "소수입니다\n",
            "소수입니다\n",
            "소수입니다\n",
            "소수입니다\n",
            "소수입니다\n",
            "소수입니다\n",
            "소수입니다\n",
            "소수입니다\n",
            "소수입니다\n",
            "소수입니다\n",
            "소수입니다\n",
            "소수입니다\n",
            "소수입니다\n",
            "소수입니다\n",
            "소수입니다\n",
            "소수입니다\n",
            "소수입니다\n",
            "소수입니다\n",
            "소수입니다\n",
            "소수입니다\n",
            "소수입니다\n",
            "소수입니다\n",
            "소수입니다\n",
            "소수입니다\n",
            "소수입니다\n",
            "소수입니다\n",
            "소수입니다\n",
            "소수입니다\n",
            "소수입니다\n",
            "소수입니다\n",
            "소수입니다\n",
            "소수입니다\n",
            "소수입니다\n",
            "소수입니다\n",
            "소수입니다\n",
            "소수입니다\n",
            "소수입니다\n",
            "소수입니다\n",
            "소수입니다\n",
            "소수입니다\n",
            "소수입니다\n",
            "소수입니다\n",
            "소수입니다\n",
            "소수입니다\n",
            "소수입니다\n",
            "소수입니다\n",
            "소수입니다\n",
            "소수입니다\n",
            "소수입니다\n",
            "소수입니다\n",
            "소수입니다\n",
            "소수입니다\n",
            "소수입니다\n",
            "소수입니다\n",
            "소수입니다\n",
            "소수입니다\n",
            "소수입니다\n",
            "소수입니다\n",
            "소수입니다\n",
            "소수입니다\n",
            "소수입니다\n",
            "소수입니다\n",
            "소수입니다\n",
            "소수입니다\n",
            "소수입니다\n",
            "소수입니다\n",
            "소수입니다\n",
            "소수입니다\n",
            "소수입니다\n",
            "소수입니다\n",
            "소수입니다\n",
            "소수입니다\n",
            "소수입니다\n",
            "소수입니다\n",
            "소수입니다\n",
            "소수입니다\n",
            "소수입니다\n",
            "소수입니다\n",
            "소수입니다\n",
            "소수입니다\n",
            "소수입니다\n",
            "소수입니다\n",
            "소수입니다\n",
            "소수입니다\n",
            "소수입니다\n",
            "소수입니다\n",
            "소수입니다\n",
            "소수입니다\n",
            "소수입니다\n",
            "소수입니다\n",
            "소수입니다\n",
            "소수입니다\n",
            "소수입니다\n",
            "소수입니다\n",
            "소수입니다\n",
            "소수입니다\n",
            "소수입니다\n",
            "소수입니다\n",
            "소수입니다\n",
            "소수입니다\n",
            "소수입니다\n",
            "소수입니다\n",
            "소수입니다\n",
            "소수입니다\n",
            "소수입니다\n",
            "소수입니다\n",
            "소수입니다\n",
            "소수입니다\n",
            "소수입니다\n",
            "소수입니다\n",
            "소수입니다\n",
            "소수입니다\n",
            "소수입니다\n",
            "소수입니다\n",
            "소수입니다\n",
            "소수입니다\n",
            "소수입니다\n",
            "소수입니다\n",
            "소수입니다\n",
            "소수입니다\n",
            "소수입니다\n",
            "소수입니다\n",
            "소수입니다\n",
            "소수입니다\n",
            "소수입니다\n",
            "소수입니다\n",
            "소수입니다\n",
            "소수입니다\n",
            "소수입니다\n",
            "소수입니다\n",
            "소수입니다\n",
            "소수입니다\n",
            "소수입니다\n",
            "소수입니다\n",
            "소수입니다\n",
            "소수입니다\n",
            "소수입니다\n",
            "소수입니다\n",
            "소수입니다\n",
            "소수입니다\n",
            "소수입니다\n",
            "소수입니다\n",
            "소수입니다\n",
            "소수입니다\n",
            "소수입니다\n",
            "소수입니다\n",
            "소수입니다\n",
            "소수입니다\n",
            "소수입니다\n",
            "소수입니다\n",
            "소수입니다\n",
            "소수입니다\n",
            "소수입니다\n",
            "소수입니다\n",
            "소수입니다\n",
            "소수입니다\n",
            "소수입니다\n",
            "소수입니다\n",
            "소수입니다\n",
            "소수입니다\n",
            "소수입니다\n",
            "소수입니다\n",
            "소수입니다\n",
            "소수입니다\n",
            "소수입니다\n",
            "소수입니다\n",
            "소수입니다\n",
            "소수입니다\n",
            "소수입니다\n",
            "소수입니다\n",
            "소수입니다\n",
            "소수입니다\n",
            "소수입니다\n",
            "소수입니다\n",
            "소수입니다\n",
            "소수입니다\n",
            "소수입니다\n",
            "소수입니다\n",
            "소수입니다\n",
            "소수입니다\n",
            "소수입니다\n",
            "소수입니다\n",
            "소수입니다\n",
            "소수입니다\n",
            "소수입니다\n",
            "소수입니다\n",
            "소수입니다\n",
            "소수입니다\n",
            "소수입니다\n",
            "소수입니다\n",
            "소수입니다\n",
            "소수입니다\n",
            "소수입니다\n",
            "소수입니다\n",
            "소수입니다\n",
            "소수입니다\n",
            "소수입니다\n",
            "소수입니다\n",
            "소수입니다\n",
            "소수입니다\n",
            "소수입니다\n",
            "소수입니다\n",
            "소수입니다\n",
            "소수입니다\n",
            "소수입니다\n",
            "소수입니다\n",
            "소수입니다\n",
            "소수입니다\n",
            "소수입니다\n",
            "소수입니다\n",
            "소수입니다\n",
            "소수입니다\n",
            "소수입니다\n",
            "소수입니다\n",
            "소수입니다\n",
            "소수입니다\n",
            "소수입니다\n",
            "소수입니다\n",
            "소수입니다\n",
            "소수입니다\n",
            "소수입니다\n",
            "소수입니다\n",
            "소수입니다\n",
            "소수입니다\n",
            "소수입니다\n",
            "소수입니다\n",
            "소수입니다\n",
            "소수입니다\n",
            "소수입니다\n",
            "소수입니다\n",
            "소수입니다\n",
            "소수입니다\n",
            "소수입니다\n",
            "소수입니다\n",
            "소수입니다\n",
            "소수입니다\n",
            "소수입니다\n",
            "소수입니다\n",
            "소수입니다\n",
            "소수입니다\n",
            "소수입니다\n",
            "소수입니다\n",
            "소수입니다\n",
            "소수입니다\n",
            "소수입니다\n",
            "소수입니다\n",
            "소수입니다\n",
            "소수입니다\n",
            "소수입니다\n",
            "소수입니다\n",
            "소수입니다\n",
            "소수입니다\n",
            "소수입니다\n",
            "소수입니다\n",
            "소수입니다\n",
            "소수입니다\n",
            "소수입니다\n",
            "소수입니다\n",
            "소수입니다\n",
            "소수입니다\n",
            "소수입니다\n",
            "소수입니다\n",
            "소수입니다\n",
            "소수입니다\n",
            "소수입니다\n",
            "소수입니다\n",
            "소수입니다\n",
            "소수입니다\n",
            "소수입니다\n",
            "소수입니다\n",
            "소수입니다\n",
            "소수입니다\n",
            "소수입니다\n",
            "소수입니다\n",
            "소수입니다\n",
            "소수입니다\n",
            "소수입니다\n",
            "소수입니다\n",
            "소수입니다\n",
            "소수입니다\n",
            "소수입니다\n",
            "소수입니다\n",
            "소수입니다\n",
            "소수입니다\n",
            "소수입니다\n",
            "소수입니다\n",
            "소수입니다\n",
            "소수입니다\n",
            "소수입니다\n",
            "소수입니다\n",
            "소수입니다\n",
            "소수입니다\n",
            "소수입니다\n",
            "소수입니다\n",
            "소수입니다\n",
            "소수입니다\n",
            "소수입니다\n",
            "소수입니다\n",
            "소수입니다\n",
            "소수입니다\n",
            "소수입니다\n",
            "소수입니다\n",
            "소수입니다\n",
            "소수입니다\n",
            "소수입니다\n",
            "소수입니다\n",
            "소수입니다\n",
            "소수입니다\n",
            "소수입니다\n",
            "소수입니다\n",
            "소수입니다\n",
            "소수입니다\n",
            "소수입니다\n",
            "소수입니다\n",
            "소수입니다\n",
            "소수입니다\n",
            "소수입니다\n",
            "소수입니다\n",
            "소수입니다\n",
            "소수입니다\n",
            "소수입니다\n",
            "소수입니다\n",
            "소수입니다\n",
            "소수입니다\n",
            "소수입니다\n",
            "소수입니다\n",
            "소수입니다\n",
            "소수입니다\n",
            "소수입니다\n",
            "소수입니다\n",
            "소수입니다\n",
            "소수입니다\n",
            "소수입니다\n",
            "소수입니다\n",
            "소수입니다\n",
            "소수입니다\n",
            "소수입니다\n",
            "소수입니다\n",
            "소수입니다\n",
            "소수입니다\n",
            "소수입니다\n",
            "소수입니다\n",
            "소수입니다\n",
            "소수입니다\n",
            "소수입니다\n",
            "소수입니다\n",
            "소수입니다\n",
            "소수입니다\n",
            "소수입니다\n",
            "소수입니다\n",
            "소수입니다\n",
            "소수입니다\n",
            "소수입니다\n",
            "소수입니다\n",
            "소수입니다\n",
            "소수입니다\n",
            "소수입니다\n",
            "소수입니다\n",
            "소수입니다\n",
            "소수입니다\n",
            "소수입니다\n",
            "소수입니다\n",
            "소수입니다\n",
            "소수입니다\n",
            "소수입니다\n",
            "소수입니다\n",
            "소수입니다\n",
            "소수입니다\n",
            "소수입니다\n",
            "소수입니다\n",
            "소수입니다\n",
            "소수입니다\n",
            "소수입니다\n",
            "소수입니다\n",
            "소수입니다\n",
            "소수입니다\n",
            "소수입니다\n",
            "소수입니다\n",
            "소수입니다\n",
            "소수입니다\n",
            "소수입니다\n",
            "소수입니다\n",
            "소수입니다\n",
            "소수입니다\n",
            "소수입니다\n",
            "소수입니다\n",
            "소수입니다\n",
            "소수입니다\n",
            "소수입니다\n",
            "소수입니다\n",
            "소수입니다\n",
            "소수입니다\n",
            "소수입니다\n",
            "소수입니다\n",
            "소수입니다\n",
            "소수입니다\n",
            "소수입니다\n",
            "소수입니다\n",
            "소수입니다\n",
            "소수입니다\n",
            "소수입니다\n",
            "소수입니다\n",
            "소수입니다\n",
            "소수입니다\n",
            "소수입니다\n",
            "소수입니다\n",
            "소수입니다\n",
            "소수입니다\n",
            "소수입니다\n",
            "소수입니다\n",
            "소수입니다\n",
            "소수입니다\n",
            "소수입니다\n",
            "소수입니다\n",
            "소수입니다\n",
            "소수입니다\n",
            "소수입니다\n",
            "소수입니다\n",
            "소수입니다\n",
            "소수입니다\n",
            "소수입니다\n",
            "소수입니다\n",
            "소수입니다\n",
            "소수입니다\n",
            "소수입니다\n",
            "소수입니다\n",
            "소수입니다\n",
            "소수입니다\n",
            "소수입니다\n",
            "소수입니다\n",
            "소수입니다\n",
            "소수입니다\n",
            "소수입니다\n",
            "소수입니다\n",
            "소수입니다\n",
            "소수입니다\n",
            "소수입니다\n",
            "소수입니다\n",
            "소수입니다\n",
            "소수입니다\n",
            "소수입니다\n",
            "소수입니다\n",
            "소수입니다\n",
            "소수입니다\n",
            "소수입니다\n",
            "소수입니다\n",
            "소수입니다\n",
            "소수입니다\n",
            "소수입니다\n",
            "소수입니다\n",
            "소수입니다\n",
            "소수입니다\n",
            "소수입니다\n",
            "소수입니다\n",
            "소수입니다\n",
            "소수입니다\n",
            "소수입니다\n",
            "소수입니다\n",
            "소수입니다\n",
            "소수입니다\n",
            "소수입니다\n",
            "소수입니다\n",
            "소수입니다\n",
            "소수입니다\n",
            "소수입니다\n",
            "소수입니다\n",
            "소수입니다\n",
            "소수입니다\n",
            "소수입니다\n",
            "소수입니다\n",
            "소수입니다\n",
            "소수입니다\n",
            "소수입니다\n",
            "소수입니다\n",
            "소수입니다\n",
            "소수입니다\n",
            "소수입니다\n",
            "소수입니다\n",
            "소수입니다\n",
            "소수입니다\n",
            "소수입니다\n",
            "소수입니다\n",
            "소수입니다\n",
            "소수입니다\n",
            "소수입니다\n",
            "소수입니다\n",
            "소수입니다\n",
            "소수입니다\n",
            "소수입니다\n",
            "소수입니다\n",
            "소수입니다\n",
            "소수입니다\n",
            "소수입니다\n",
            "소수입니다\n",
            "소수입니다\n",
            "소수입니다\n",
            "소수입니다\n",
            "소수입니다\n",
            "소수입니다\n",
            "소수입니다\n",
            "소수입니다\n",
            "소수입니다\n",
            "소수입니다\n",
            "소수입니다\n",
            "소수입니다\n",
            "소수입니다\n",
            "소수입니다\n",
            "소수입니다\n",
            "소수입니다\n",
            "소수입니다\n",
            "소수입니다\n",
            "소수입니다\n",
            "소수입니다\n",
            "소수입니다\n",
            "소수입니다\n",
            "소수입니다\n",
            "소수입니다\n",
            "소수입니다\n",
            "소수입니다\n",
            "소수입니다\n",
            "소수입니다\n",
            "소수입니다\n",
            "소수입니다\n",
            "소수입니다\n",
            "소수입니다\n",
            "소수입니다\n",
            "소수입니다\n",
            "소수입니다\n",
            "소수입니다\n",
            "소수입니다\n",
            "소수입니다\n",
            "소수입니다\n",
            "소수입니다\n",
            "소수입니다\n",
            "소수입니다\n",
            "소수입니다\n",
            "소수입니다\n",
            "소수입니다\n",
            "소수입니다\n",
            "소수입니다\n",
            "소수입니다\n",
            "소수입니다\n",
            "소수입니다\n",
            "소수입니다\n",
            "소수입니다\n",
            "소수입니다\n",
            "소수입니다\n",
            "소수입니다\n",
            "소수입니다\n",
            "소수입니다\n",
            "소수입니다\n",
            "소수입니다\n",
            "소수입니다\n",
            "소수입니다\n",
            "소수입니다\n",
            "소수입니다\n",
            "소수입니다\n",
            "소수입니다\n",
            "소수입니다\n",
            "소수입니다\n",
            "소수입니다\n",
            "소수입니다\n",
            "소수입니다\n",
            "소수입니다\n",
            "소수입니다\n",
            "소수입니다\n",
            "소수입니다\n",
            "소수입니다\n",
            "소수입니다\n",
            "소수입니다\n",
            "소수입니다\n",
            "소수입니다\n",
            "소수입니다\n",
            "소수입니다\n",
            "소수입니다\n",
            "소수입니다\n",
            "소수입니다\n",
            "소수입니다\n",
            "소수입니다\n",
            "소수입니다\n",
            "소수입니다\n",
            "소수입니다\n",
            "소수입니다\n",
            "소수입니다\n",
            "소수입니다\n",
            "소수입니다\n",
            "소수입니다\n",
            "소수입니다\n",
            "소수입니다\n",
            "소수입니다\n",
            "소수입니다\n",
            "소수입니다\n",
            "소수입니다\n",
            "소수입니다\n",
            "소수입니다\n",
            "소수입니다\n",
            "소수입니다\n",
            "소수입니다\n",
            "소수입니다\n",
            "소수입니다\n",
            "소수입니다\n",
            "소수입니다\n",
            "소수입니다\n",
            "소수입니다\n",
            "소수입니다\n",
            "소수입니다\n",
            "소수입니다\n",
            "소수입니다\n",
            "소수입니다\n",
            "소수입니다\n",
            "소수입니다\n",
            "소수입니다\n",
            "소수입니다\n",
            "소수입니다\n",
            "소수입니다\n",
            "소수입니다\n",
            "소수입니다\n",
            "소수입니다\n",
            "소수입니다\n",
            "소수입니다\n",
            "소수입니다\n",
            "소수입니다\n",
            "소수입니다\n",
            "소수입니다\n",
            "소수입니다\n",
            "소수입니다\n",
            "소수입니다\n",
            "소수입니다\n",
            "소수입니다\n",
            "소수입니다\n",
            "소수입니다\n",
            "소수입니다\n",
            "소수입니다\n",
            "소수입니다\n",
            "소수입니다\n",
            "소수입니다\n",
            "소수입니다\n",
            "소수입니다\n",
            "소수입니다\n",
            "소수입니다\n",
            "소수입니다\n",
            "소수입니다\n",
            "소수입니다\n",
            "소수입니다\n",
            "소수입니다\n",
            "소수입니다\n",
            "소수입니다\n",
            "소수입니다\n",
            "소수입니다\n",
            "소수입니다\n",
            "소수입니다\n",
            "소수입니다\n",
            "소수입니다\n",
            "소수입니다\n",
            "소수입니다\n",
            "소수입니다\n",
            "소수입니다\n",
            "소수입니다\n",
            "소수입니다\n",
            "소수입니다\n",
            "소수입니다\n",
            "소수입니다\n",
            "소수입니다\n",
            "소수입니다\n",
            "소수입니다\n",
            "소수입니다\n",
            "소수입니다\n",
            "소수입니다\n",
            "소수입니다\n",
            "소수입니다\n",
            "소수입니다\n",
            "소수입니다\n",
            "소수입니다\n",
            "소수입니다\n",
            "소수입니다\n",
            "소수입니다\n",
            "소수입니다\n",
            "소수입니다\n",
            "소수입니다\n",
            "소수입니다\n",
            "소수입니다\n",
            "소수입니다\n",
            "소수입니다\n",
            "소수입니다\n",
            "소수입니다\n",
            "소수입니다\n",
            "소수입니다\n",
            "소수입니다\n",
            "소수입니다\n",
            "소수입니다\n",
            "소수입니다\n",
            "소수입니다\n",
            "소수입니다\n",
            "소수입니다\n",
            "소수입니다\n",
            "소수입니다\n",
            "소수입니다\n",
            "소수입니다\n",
            "소수입니다\n",
            "소수입니다\n",
            "소수입니다\n",
            "소수입니다\n",
            "소수입니다\n",
            "소수입니다\n",
            "소수입니다\n",
            "소수입니다\n",
            "소수입니다\n",
            "소수입니다\n",
            "소수입니다\n",
            "소수입니다\n",
            "소수입니다\n",
            "소수입니다\n",
            "소수입니다\n",
            "소수입니다\n",
            "소수입니다\n",
            "소수입니다\n",
            "소수입니다\n",
            "소수입니다\n",
            "소수입니다\n",
            "소수입니다\n",
            "소수입니다\n",
            "소수입니다\n",
            "소수입니다\n",
            "소수입니다\n",
            "소수입니다\n",
            "소수입니다\n",
            "소수입니다\n",
            "소수입니다\n",
            "소수입니다\n",
            "소수입니다\n",
            "소수입니다\n",
            "소수입니다\n",
            "소수입니다\n",
            "소수입니다\n",
            "소수입니다\n",
            "소수입니다\n",
            "소수입니다\n",
            "소수입니다\n",
            "소수입니다\n",
            "소수입니다\n",
            "소수입니다\n",
            "소수입니다\n",
            "소수입니다\n",
            "소수입니다\n",
            "소수입니다\n",
            "소수입니다\n",
            "소수입니다\n",
            "소수입니다\n",
            "소수입니다\n",
            "소수입니다\n",
            "소수입니다\n",
            "소수입니다\n",
            "소수입니다\n",
            "소수입니다\n",
            "소수입니다\n",
            "소수입니다\n",
            "소수입니다\n",
            "소수입니다\n",
            "소수입니다\n",
            "소수입니다\n",
            "소수입니다\n",
            "소수입니다\n",
            "소수입니다\n",
            "소수입니다\n",
            "소수입니다\n",
            "소수입니다\n",
            "소수입니다\n",
            "소수입니다\n",
            "소수입니다\n",
            "소수입니다\n",
            "소수입니다\n",
            "소수입니다\n",
            "소수입니다\n",
            "소수입니다\n",
            "소수입니다\n",
            "소수입니다\n",
            "소수입니다\n",
            "소수입니다\n",
            "소수입니다\n",
            "소수입니다\n",
            "소수입니다\n",
            "소수입니다\n",
            "소수입니다\n",
            "소수입니다\n",
            "소수입니다\n",
            "소수입니다\n",
            "소수입니다\n",
            "소수입니다\n",
            "소수입니다\n",
            "소수입니다\n",
            "소수입니다\n",
            "소수입니다\n",
            "소수입니다\n",
            "소수입니다\n",
            "소수입니다\n",
            "소수입니다\n",
            "소수입니다\n",
            "소수입니다\n",
            "소수입니다\n",
            "소수입니다\n",
            "소수입니다\n",
            "소수입니다\n",
            "소수입니다\n",
            "소수입니다\n",
            "소수입니다\n",
            "소수입니다\n",
            "소수입니다\n",
            "소수입니다\n",
            "소수입니다\n",
            "소수입니다\n",
            "소수입니다\n",
            "소수입니다\n",
            "소수입니다\n",
            "소수입니다\n",
            "소수입니다\n",
            "소수입니다\n",
            "소수입니다\n",
            "소수입니다\n",
            "소수입니다\n",
            "소수입니다\n",
            "소수입니다\n",
            "소수입니다\n",
            "소수입니다\n",
            "소수입니다\n",
            "소수입니다\n",
            "소수입니다\n",
            "소수입니다\n",
            "소수입니다\n",
            "소수입니다\n",
            "소수입니다\n",
            "소수입니다\n",
            "소수입니다\n",
            "소수입니다\n",
            "소수입니다\n",
            "소수입니다\n",
            "소수입니다\n",
            "소수입니다\n",
            "소수입니다\n",
            "소수입니다\n",
            "소수입니다\n",
            "소수입니다\n",
            "소수입니다\n",
            "소수입니다\n",
            "소수입니다\n",
            "소수입니다\n",
            "소수입니다\n",
            "소수입니다\n",
            "소수입니다\n",
            "소수입니다\n",
            "소수입니다\n",
            "소수입니다\n",
            "소수입니다\n",
            "소수입니다\n",
            "소수입니다\n",
            "소수입니다\n",
            "소수입니다\n",
            "소수입니다\n",
            "소수입니다\n",
            "소수입니다\n",
            "소수입니다\n",
            "소수입니다\n",
            "소수입니다\n",
            "소수입니다\n",
            "소수입니다\n",
            "소수입니다\n",
            "소수입니다\n",
            "소수입니다\n",
            "소수입니다\n",
            "소수입니다\n",
            "소수입니다\n",
            "소수입니다\n",
            "소수입니다\n",
            "소수입니다\n",
            "소수입니다\n",
            "소수입니다\n",
            "소수입니다\n",
            "소수입니다\n",
            "소수입니다\n",
            "소수입니다\n",
            "소수입니다\n",
            "소수입니다\n",
            "소수입니다\n",
            "소수입니다\n",
            "소수입니다\n",
            "소수입니다\n",
            "소수입니다\n",
            "소수입니다\n",
            "소수입니다\n",
            "소수입니다\n",
            "소수입니다\n",
            "소수입니다\n",
            "소수입니다\n",
            "소수입니다\n",
            "소수입니다\n",
            "소수입니다\n",
            "소수입니다\n",
            "소수입니다\n",
            "소수입니다\n",
            "소수입니다\n",
            "소수입니다\n",
            "소수입니다\n",
            "소수입니다\n",
            "소수입니다\n",
            "소수입니다\n",
            "소수입니다\n",
            "소수입니다\n",
            "소수입니다\n",
            "소수입니다\n",
            "소수입니다\n",
            "소수입니다\n",
            "소수입니다\n",
            "소수입니다\n",
            "소수입니다\n",
            "소수입니다\n",
            "소수입니다\n",
            "소수입니다\n",
            "소수입니다\n",
            "소수입니다\n",
            "소수입니다\n",
            "소수입니다\n",
            "소수입니다\n",
            "소수입니다\n",
            "소수입니다\n",
            "소수입니다\n",
            "소수입니다\n",
            "소수입니다\n",
            "소수입니다\n",
            "소수입니다\n",
            "소수입니다\n",
            "소수입니다\n",
            "소수입니다\n",
            "소수입니다\n",
            "소수입니다\n",
            "소수입니다\n",
            "소수입니다\n",
            "소수입니다\n",
            "소수입니다\n",
            "소수입니다\n",
            "소수입니다\n",
            "소수입니다\n",
            "소수입니다\n",
            "소수입니다\n",
            "소수입니다\n",
            "소수입니다\n",
            "소수입니다\n",
            "소수입니다\n",
            "소수입니다\n",
            "소수입니다\n",
            "소수입니다\n",
            "소수입니다\n",
            "소수입니다\n",
            "소수입니다\n",
            "소수입니다\n",
            "소수입니다\n",
            "소수입니다\n",
            "소수입니다\n",
            "소수입니다\n",
            "소수입니다\n",
            "소수입니다\n",
            "소수입니다\n",
            "소수입니다\n",
            "소수입니다\n",
            "소수입니다\n",
            "소수입니다\n",
            "소수입니다\n",
            "소수입니다\n",
            "소수입니다\n",
            "소수입니다\n",
            "소수입니다\n",
            "소수입니다\n",
            "소수입니다\n",
            "소수입니다\n",
            "소수입니다\n",
            "소수입니다\n",
            "소수입니다\n",
            "소수입니다\n",
            "소수입니다\n",
            "소수입니다\n",
            "소수입니다\n",
            "소수입니다\n",
            "소수입니다\n",
            "소수입니다\n",
            "소수입니다\n",
            "소수입니다\n",
            "소수입니다\n",
            "소수입니다\n",
            "소수입니다\n",
            "소수입니다\n",
            "소수입니다\n",
            "소수입니다\n",
            "소수입니다\n",
            "소수입니다\n",
            "소수입니다\n",
            "소수입니다\n",
            "소수입니다\n",
            "소수입니다\n",
            "소수입니다\n",
            "소수입니다\n",
            "소수입니다\n",
            "소수입니다\n",
            "소수입니다\n",
            "소수입니다\n",
            "소수입니다\n",
            "소수입니다\n",
            "소수입니다\n",
            "소수입니다\n",
            "소수입니다\n",
            "소수입니다\n",
            "소수입니다\n",
            "소수입니다\n",
            "소수입니다\n",
            "소수입니다\n",
            "소수입니다\n",
            "소수입니다\n",
            "소수입니다\n",
            "소수입니다\n",
            "소수입니다\n",
            "소수입니다\n",
            "소수입니다\n",
            "소수입니다\n",
            "소수입니다\n",
            "소수입니다\n",
            "소수입니다\n",
            "소수입니다\n",
            "소수입니다\n",
            "소수입니다\n",
            "소수입니다\n",
            "소수입니다\n",
            "소수입니다\n",
            "소수입니다\n",
            "소수입니다\n",
            "소수입니다\n",
            "소수입니다\n",
            "소수입니다\n",
            "소수입니다\n",
            "소수입니다\n",
            "소수입니다\n",
            "소수입니다\n",
            "소수입니다\n",
            "소수입니다\n",
            "소수입니다\n",
            "소수입니다\n",
            "소수입니다\n",
            "소수입니다\n",
            "소수입니다\n",
            "소수입니다\n",
            "소수입니다\n",
            "소수입니다\n",
            "소수입니다\n",
            "소수입니다\n",
            "소수입니다\n",
            "소수입니다\n",
            "소수입니다\n",
            "소수입니다\n",
            "소수입니다\n",
            "소수입니다\n",
            "소수입니다\n",
            "소수입니다\n",
            "소수입니다\n",
            "소수입니다\n",
            "소수입니다\n",
            "소수입니다\n",
            "소수입니다\n",
            "소수입니다\n",
            "소수입니다\n",
            "소수입니다\n",
            "소수입니다\n",
            "소수입니다\n",
            "소수입니다\n",
            "소수입니다\n",
            "소수입니다\n",
            "소수입니다\n",
            "소수입니다\n",
            "소수입니다\n",
            "소수입니다\n",
            "소수입니다\n",
            "소수입니다\n",
            "소수입니다\n",
            "소수입니다\n",
            "소수입니다\n",
            "소수입니다\n",
            "소수입니다\n",
            "소수입니다\n",
            "소수입니다\n",
            "소수입니다\n",
            "소수입니다\n",
            "소수입니다\n",
            "소수입니다\n",
            "소수입니다\n",
            "소수입니다\n",
            "소수입니다\n",
            "소수입니다\n",
            "소수입니다\n",
            "소수입니다\n",
            "소수입니다\n",
            "소수입니다\n",
            "소수입니다\n",
            "소수입니다\n",
            "소수입니다\n",
            "소수입니다\n",
            "소수입니다\n",
            "소수입니다\n",
            "소수입니다\n",
            "소수입니다\n",
            "소수입니다\n",
            "소수입니다\n",
            "소수입니다\n",
            "소수입니다\n",
            "소수입니다\n",
            "소수입니다\n",
            "소수입니다\n",
            "소수입니다\n",
            "소수입니다\n",
            "소수입니다\n",
            "소수입니다\n",
            "소수입니다\n",
            "소수입니다\n",
            "소수입니다\n",
            "소수입니다\n",
            "소수입니다\n",
            "소수입니다\n",
            "소수입니다\n",
            "소수입니다\n",
            "소수입니다\n",
            "소수입니다\n",
            "소수입니다\n",
            "소수입니다\n",
            "소수입니다\n",
            "소수입니다\n",
            "소수입니다\n",
            "소수입니다\n",
            "소수입니다\n",
            "소수입니다\n",
            "소수입니다\n",
            "소수입니다\n",
            "소수입니다\n",
            "소수입니다\n",
            "소수입니다\n",
            "소수입니다\n",
            "소수입니다\n",
            "소수입니다\n",
            "소수입니다\n",
            "소수입니다\n",
            "소수입니다\n",
            "소수입니다\n",
            "소수입니다\n",
            "소수입니다\n",
            "소수입니다\n",
            "소수입니다\n",
            "소수입니다\n",
            "소수입니다\n",
            "소수입니다\n",
            "소수입니다\n",
            "소수입니다\n",
            "소수입니다\n",
            "소수입니다\n",
            "소수입니다\n",
            "소수입니다\n",
            "소수입니다\n",
            "소수입니다\n",
            "소수입니다\n",
            "소수입니다\n",
            "소수입니다\n",
            "소수입니다\n",
            "소수입니다\n",
            "소수입니다\n",
            "소수입니다\n",
            "소수입니다\n",
            "소수입니다\n",
            "소수입니다\n",
            "소수입니다\n",
            "소수입니다\n",
            "소수입니다\n",
            "소수입니다\n",
            "소수입니다\n",
            "소수입니다\n",
            "소수입니다\n",
            "소수입니다\n",
            "소수입니다\n",
            "소수입니다\n",
            "소수입니다\n",
            "소수입니다\n",
            "소수입니다\n",
            "소수입니다\n",
            "소수입니다\n",
            "소수입니다\n",
            "소수입니다\n",
            "소수입니다\n",
            "소수입니다\n",
            "소수입니다\n",
            "소수입니다\n",
            "소수입니다\n",
            "소수입니다\n",
            "소수입니다\n",
            "소수입니다\n",
            "소수입니다\n",
            "소수입니다\n",
            "소수입니다\n",
            "소수입니다\n",
            "소수입니다\n",
            "소수입니다\n",
            "소수입니다\n",
            "소수입니다\n",
            "소수입니다\n",
            "소수입니다\n",
            "소수입니다\n",
            "소수입니다\n",
            "소수입니다\n",
            "소수입니다\n",
            "소수입니다\n",
            "소수입니다\n",
            "소수입니다\n",
            "소수입니다\n",
            "소수입니다\n",
            "소수입니다\n",
            "소수입니다\n",
            "소수입니다\n",
            "소수입니다\n",
            "소수입니다\n",
            "소수입니다\n",
            "소수입니다\n",
            "소수입니다\n",
            "소수입니다\n",
            "소수입니다\n",
            "소수입니다\n",
            "소수입니다\n",
            "소수입니다\n",
            "소수입니다\n",
            "소수입니다\n",
            "소수입니다\n",
            "소수입니다\n",
            "소수입니다\n",
            "소수입니다\n",
            "소수입니다\n",
            "소수입니다\n",
            "소수입니다\n",
            "소수입니다\n",
            "소수입니다\n",
            "소수입니다\n",
            "소수입니다\n",
            "소수입니다\n",
            "소수입니다\n",
            "소수입니다\n",
            "소수입니다\n",
            "소수입니다\n",
            "소수입니다\n",
            "소수입니다\n",
            "소수입니다\n",
            "소수입니다\n",
            "소수입니다\n",
            "소수입니다\n",
            "소수입니다\n",
            "소수입니다\n",
            "소수입니다\n",
            "소수입니다\n",
            "소수입니다\n",
            "소수입니다\n",
            "소수입니다\n",
            "소수입니다\n",
            "소수입니다\n",
            "소수입니다\n",
            "소수입니다\n",
            "소수입니다\n",
            "소수입니다\n",
            "소수입니다\n",
            "소수입니다\n",
            "소수입니다\n",
            "소수입니다\n",
            "소수입니다\n",
            "소수입니다\n",
            "소수입니다\n",
            "소수입니다\n",
            "소수입니다\n",
            "소수입니다\n",
            "소수입니다\n",
            "소수입니다\n",
            "소수입니다\n",
            "소수입니다\n",
            "소수입니다\n",
            "소수입니다\n",
            "소수입니다\n",
            "소수입니다\n",
            "소수입니다\n",
            "소수입니다\n",
            "소수입니다\n",
            "소수입니다\n",
            "소수입니다\n",
            "소수입니다\n",
            "소수입니다\n",
            "소수입니다\n",
            "소수입니다\n",
            "소수입니다\n",
            "소수입니다\n",
            "소수입니다\n",
            "소수입니다\n",
            "소수입니다\n",
            "소수입니다\n",
            "소수입니다\n",
            "소수입니다\n",
            "소수입니다\n",
            "소수입니다\n",
            "소수입니다\n",
            "소수입니다\n",
            "소수입니다\n",
            "소수입니다\n",
            "소수입니다\n",
            "소수입니다\n",
            "소수입니다\n",
            "소수입니다\n",
            "소수입니다\n",
            "소수입니다\n",
            "소수입니다\n",
            "소수입니다\n",
            "소수입니다\n",
            "소수입니다\n",
            "소수입니다\n",
            "소수입니다\n",
            "소수입니다\n",
            "소수입니다\n",
            "소수입니다\n",
            "소수입니다\n",
            "소수입니다\n",
            "소수입니다\n",
            "소수입니다\n",
            "소수입니다\n",
            "소수입니다\n",
            "소수입니다\n",
            "소수입니다\n",
            "소수입니다\n",
            "소수입니다\n",
            "소수입니다\n",
            "소수입니다\n",
            "소수입니다\n",
            "소수입니다\n",
            "소수입니다\n",
            "소수입니다\n",
            "소수입니다\n",
            "소수입니다\n",
            "소수입니다\n",
            "소수입니다\n",
            "소수입니다\n",
            "소수입니다\n",
            "소수입니다\n",
            "소수입니다\n",
            "소수입니다\n",
            "소수입니다\n",
            "소수입니다\n",
            "소수입니다\n",
            "소수입니다\n",
            "소수입니다\n",
            "소수입니다\n",
            "소수입니다\n",
            "소수입니다\n",
            "소수입니다\n",
            "소수입니다\n",
            "소수입니다\n",
            "소수입니다\n",
            "소수입니다\n",
            "소수입니다\n",
            "소수입니다\n",
            "소수입니다\n",
            "소수입니다\n",
            "소수입니다\n",
            "소수입니다\n",
            "소수입니다\n",
            "소수입니다\n",
            "소수입니다\n",
            "소수입니다\n",
            "소수입니다\n",
            "소수입니다\n",
            "소수입니다\n",
            "소수입니다\n",
            "소수입니다\n",
            "소수입니다\n",
            "소수입니다\n",
            "소수입니다\n",
            "소수입니다\n",
            "소수입니다\n",
            "소수입니다\n",
            "소수입니다\n",
            "소수입니다\n",
            "소수입니다\n",
            "소수입니다\n",
            "소수입니다\n",
            "소수입니다\n",
            "소수입니다\n",
            "소수입니다\n",
            "소수입니다\n",
            "소수입니다\n",
            "소수입니다\n",
            "소수입니다\n",
            "소수입니다\n",
            "소수입니다\n",
            "소수입니다\n",
            "소수입니다\n",
            "소수입니다\n",
            "소수입니다\n",
            "소수입니다\n",
            "소수입니다\n",
            "소수입니다\n",
            "소수입니다\n",
            "소수입니다\n",
            "소수입니다\n",
            "소수입니다\n",
            "소수입니다\n",
            "소수입니다\n",
            "소수입니다\n",
            "소수입니다\n",
            "소수입니다\n",
            "소수입니다\n",
            "소수입니다\n",
            "소수입니다\n",
            "소수입니다\n",
            "소수입니다\n",
            "소수입니다\n",
            "소수입니다\n",
            "소수입니다\n",
            "소수입니다\n",
            "소수입니다\n",
            "소수입니다\n",
            "소수입니다\n",
            "소수입니다\n",
            "소수입니다\n",
            "소수입니다\n",
            "소수입니다\n",
            "소수입니다\n",
            "소수입니다\n",
            "소수입니다\n",
            "소수입니다\n",
            "소수입니다\n",
            "소수입니다\n",
            "소수입니다\n",
            "소수입니다\n",
            "소수입니다\n",
            "소수입니다\n",
            "소수입니다\n",
            "소수입니다\n",
            "소수입니다\n",
            "소수입니다\n",
            "소수입니다\n",
            "소수입니다\n",
            "소수입니다\n",
            "소수입니다\n",
            "소수입니다\n",
            "소수입니다\n",
            "소수입니다\n",
            "소수입니다\n",
            "소수입니다\n",
            "소수입니다\n",
            "소수입니다\n",
            "소수입니다\n",
            "소수입니다\n",
            "소수입니다\n",
            "소수입니다\n",
            "소수입니다\n",
            "소수입니다\n",
            "소수입니다\n",
            "소수입니다\n",
            "소수입니다\n",
            "소수입니다\n",
            "소수입니다\n",
            "소수입니다\n",
            "소수입니다\n",
            "소수입니다\n",
            "소수입니다\n",
            "소수입니다\n",
            "소수입니다\n",
            "소수입니다\n",
            "소수입니다\n",
            "소수입니다\n",
            "소수입니다\n",
            "소수입니다\n",
            "소수입니다\n",
            "소수입니다\n",
            "소수입니다\n",
            "소수입니다\n",
            "소수입니다\n",
            "소수입니다\n",
            "소수입니다\n",
            "소수입니다\n",
            "소수입니다\n",
            "소수입니다\n",
            "소수입니다\n",
            "소수입니다\n",
            "소수입니다\n",
            "소수입니다\n",
            "소수입니다\n",
            "소수입니다\n",
            "소수입니다\n",
            "소수입니다\n",
            "소수입니다\n",
            "소수입니다\n",
            "소수입니다\n",
            "소수입니다\n",
            "소수입니다\n",
            "소수입니다\n",
            "소수입니다\n",
            "소수입니다\n",
            "소수입니다\n",
            "소수입니다\n",
            "소수입니다\n",
            "소수입니다\n",
            "소수입니다\n",
            "소수입니다\n",
            "소수입니다\n",
            "소수입니다\n",
            "소수입니다\n",
            "소수입니다\n",
            "소수입니다\n",
            "소수입니다\n",
            "소수입니다\n",
            "소수입니다\n",
            "소수입니다\n",
            "소수입니다\n",
            "소수입니다\n",
            "소수입니다\n",
            "소수입니다\n",
            "소수입니다\n",
            "소수입니다\n",
            "소수입니다\n",
            "소수입니다\n",
            "소수입니다\n",
            "소수입니다\n",
            "소수입니다\n",
            "소수입니다\n",
            "소수입니다\n",
            "소수입니다\n",
            "소수입니다\n",
            "소수입니다\n",
            "소수입니다\n",
            "소수입니다\n",
            "소수입니다\n",
            "소수입니다\n",
            "소수입니다\n",
            "소수입니다\n",
            "소수입니다\n",
            "소수입니다\n",
            "소수입니다\n",
            "소수입니다\n",
            "소수입니다\n",
            "소수입니다\n",
            "소수입니다\n",
            "소수입니다\n",
            "소수입니다\n",
            "소수입니다\n",
            "소수입니다\n",
            "소수입니다\n",
            "소수입니다\n",
            "소수입니다\n",
            "소수입니다\n",
            "소수입니다\n",
            "소수입니다\n",
            "소수입니다\n",
            "소수입니다\n",
            "소수입니다\n",
            "소수입니다\n",
            "소수입니다\n",
            "소수입니다\n",
            "소수입니다\n",
            "소수입니다\n",
            "소수입니다\n",
            "소수입니다\n",
            "소수입니다\n",
            "소수입니다\n",
            "소수입니다\n",
            "소수입니다\n",
            "소수입니다\n",
            "소수입니다\n",
            "소수입니다\n",
            "소수입니다\n",
            "소수입니다\n",
            "소수입니다\n",
            "소수입니다\n",
            "소수입니다\n",
            "소수입니다\n",
            "소수입니다\n",
            "소수입니다\n",
            "소수입니다\n",
            "소수입니다\n",
            "소수입니다\n",
            "소수입니다\n",
            "소수입니다\n",
            "소수입니다\n",
            "소수입니다\n",
            "소수입니다\n",
            "소수입니다\n",
            "소수입니다\n",
            "소수입니다\n",
            "소수입니다\n",
            "소수입니다\n",
            "소수입니다\n",
            "소수입니다\n",
            "소수입니다\n",
            "소수입니다\n",
            "소수입니다\n",
            "소수입니다\n",
            "소수입니다\n",
            "소수입니다\n",
            "소수입니다\n",
            "소수입니다\n",
            "소수입니다\n",
            "소수입니다\n",
            "소수입니다\n",
            "소수입니다\n",
            "소수입니다\n",
            "소수입니다\n",
            "소수입니다\n",
            "소수입니다\n",
            "소수입니다\n",
            "소수입니다\n",
            "소수입니다\n",
            "소수입니다\n",
            "소수입니다\n",
            "소수입니다\n",
            "소수입니다\n",
            "소수입니다\n",
            "소수입니다\n",
            "소수입니다\n",
            "소수입니다\n",
            "소수입니다\n",
            "소수입니다\n",
            "소수입니다\n",
            "소수입니다\n",
            "소수입니다\n",
            "소수입니다\n",
            "소수입니다\n",
            "소수입니다\n",
            "소수입니다\n",
            "소수입니다\n",
            "소수입니다\n",
            "소수입니다\n",
            "소수입니다\n",
            "소수입니다\n",
            "소수입니다\n",
            "소수입니다\n",
            "소수입니다\n",
            "소수입니다\n",
            "소수입니다\n",
            "소수입니다\n",
            "소수입니다\n",
            "소수입니다\n",
            "소수입니다\n",
            "소수입니다\n",
            "소수입니다\n",
            "소수입니다\n",
            "소수입니다\n",
            "소수입니다\n",
            "소수입니다\n",
            "소수입니다\n",
            "소수입니다\n",
            "소수입니다\n",
            "소수입니다\n",
            "소수입니다\n",
            "소수입니다\n",
            "소수입니다\n",
            "소수입니다\n",
            "소수입니다\n",
            "소수입니다\n",
            "소수입니다\n",
            "소수입니다\n",
            "소수입니다\n",
            "소수입니다\n",
            "소수입니다\n",
            "소수입니다\n",
            "소수입니다\n",
            "소수입니다\n",
            "소수입니다\n",
            "소수입니다\n",
            "소수입니다\n",
            "소수입니다\n",
            "소수입니다\n",
            "소수입니다\n",
            "소수입니다\n",
            "소수입니다\n",
            "소수입니다\n",
            "소수입니다\n",
            "소수입니다\n",
            "소수입니다\n",
            "소수입니다\n",
            "소수입니다\n",
            "소수입니다\n",
            "소수입니다\n",
            "소수입니다\n",
            "소수입니다\n",
            "소수입니다\n",
            "소수입니다\n",
            "소수입니다\n",
            "소수입니다\n",
            "소수입니다\n",
            "소수입니다\n",
            "소수입니다\n",
            "소수입니다\n",
            "소수입니다\n",
            "소수입니다\n",
            "소수입니다\n",
            "소수입니다\n",
            "소수입니다\n",
            "소수입니다\n",
            "소수입니다\n",
            "소수입니다\n",
            "소수입니다\n",
            "소수입니다\n",
            "소수입니다\n",
            "소수입니다\n",
            "소수입니다\n",
            "소수입니다\n",
            "소수입니다\n",
            "소수입니다\n",
            "소수입니다\n",
            "소수입니다\n",
            "소수입니다\n",
            "소수입니다\n",
            "소수입니다\n",
            "소수입니다\n",
            "소수입니다\n",
            "소수입니다\n",
            "소수입니다\n",
            "소수입니다\n",
            "소수입니다\n",
            "소수입니다\n",
            "소수입니다\n",
            "소수입니다\n",
            "소수입니다\n",
            "소수입니다\n",
            "소수입니다\n",
            "소수입니다\n",
            "소수입니다\n",
            "소수입니다\n",
            "소수입니다\n",
            "소수입니다\n",
            "소수입니다\n",
            "소수입니다\n",
            "소수입니다\n",
            "소수입니다\n",
            "소수입니다\n",
            "소수입니다\n",
            "소수입니다\n",
            "소수입니다\n",
            "소수입니다\n",
            "소수입니다\n",
            "소수입니다\n",
            "소수입니다\n",
            "소수입니다\n",
            "소수입니다\n",
            "소수입니다\n",
            "소수입니다\n",
            "소수입니다\n",
            "소수입니다\n",
            "소수입니다\n",
            "소수입니다\n",
            "소수입니다\n",
            "소수입니다\n",
            "소수입니다\n",
            "소수입니다\n",
            "소수입니다\n",
            "소수입니다\n",
            "소수입니다\n",
            "소수입니다\n",
            "소수입니다\n",
            "소수입니다\n",
            "소수입니다\n",
            "소수입니다\n",
            "소수입니다\n",
            "소수입니다\n",
            "소수입니다\n",
            "소수입니다\n",
            "소수입니다\n",
            "소수입니다\n",
            "소수입니다\n",
            "소수입니다\n",
            "소수입니다\n",
            "소수입니다\n",
            "소수입니다\n",
            "소수입니다\n",
            "소수입니다\n",
            "소수입니다\n",
            "소수입니다\n",
            "소수입니다\n",
            "소수입니다\n",
            "소수입니다\n",
            "소수입니다\n",
            "소수입니다\n",
            "소수입니다\n",
            "소수입니다\n",
            "소수입니다\n",
            "소수입니다\n",
            "소수입니다\n",
            "소수입니다\n",
            "소수입니다\n",
            "소수입니다\n",
            "소수입니다\n",
            "소수입니다\n",
            "소수입니다\n",
            "소수입니다\n",
            "소수입니다\n",
            "소수입니다\n",
            "소수입니다\n",
            "소수입니다\n",
            "소수입니다\n",
            "소수입니다\n",
            "소수입니다\n",
            "소수입니다\n",
            "소수입니다\n",
            "소수입니다\n",
            "소수입니다\n",
            "소수입니다\n",
            "소수입니다\n",
            "소수입니다\n",
            "소수입니다\n",
            "소수입니다\n",
            "소수입니다\n",
            "소수입니다\n",
            "소수입니다\n",
            "소수입니다\n",
            "소수입니다\n",
            "소수입니다\n",
            "소수입니다\n",
            "소수입니다\n",
            "소수입니다\n",
            "소수입니다\n",
            "소수입니다\n",
            "소수입니다\n",
            "소수입니다\n",
            "소수입니다\n",
            "소수입니다\n",
            "소수입니다\n",
            "소수입니다\n",
            "소수입니다\n",
            "소수입니다\n",
            "소수입니다\n",
            "소수입니다\n",
            "소수입니다\n",
            "소수입니다\n",
            "소수입니다\n",
            "소수입니다\n",
            "소수입니다\n",
            "소수입니다\n",
            "소수입니다\n",
            "소수입니다\n",
            "소수입니다\n",
            "소수입니다\n",
            "소수입니다\n",
            "소수입니다\n",
            "소수입니다\n",
            "소수입니다\n",
            "소수입니다\n",
            "소수입니다\n",
            "소수입니다\n",
            "소수입니다\n",
            "소수입니다\n",
            "소수입니다\n",
            "소수입니다\n",
            "소수입니다\n",
            "소수입니다\n",
            "소수입니다\n",
            "소수입니다\n",
            "소수입니다\n",
            "소수입니다\n",
            "소수입니다\n",
            "소수입니다\n",
            "소수입니다\n",
            "소수입니다\n",
            "소수입니다\n",
            "소수입니다\n",
            "소수입니다\n",
            "소수입니다\n",
            "소수입니다\n",
            "소수입니다\n",
            "소수입니다\n",
            "소수입니다\n",
            "소수입니다\n",
            "소수입니다\n",
            "소수입니다\n",
            "소수입니다\n",
            "소수입니다\n",
            "소수입니다\n",
            "소수입니다\n",
            "소수입니다\n",
            "소수입니다\n",
            "소수입니다\n",
            "소수입니다\n",
            "소수입니다\n",
            "소수입니다\n",
            "소수입니다\n",
            "소수입니다\n",
            "소수입니다\n",
            "소수입니다\n",
            "소수입니다\n",
            "소수입니다\n",
            "소수입니다\n",
            "소수입니다\n",
            "소수입니다\n",
            "소수입니다\n",
            "소수입니다\n",
            "소수입니다\n",
            "소수입니다\n",
            "소수입니다\n",
            "소수입니다\n",
            "소수입니다\n",
            "소수입니다\n",
            "소수입니다\n",
            "소수입니다\n",
            "소수입니다\n",
            "소수입니다\n",
            "소수입니다\n",
            "소수입니다\n",
            "소수입니다\n",
            "소수입니다\n",
            "소수입니다\n",
            "소수입니다\n",
            "소수입니다\n",
            "소수입니다\n",
            "소수입니다\n",
            "소수입니다\n",
            "소수입니다\n",
            "소수입니다\n",
            "소수입니다\n",
            "소수입니다\n",
            "소수입니다\n",
            "소수입니다\n",
            "소수입니다\n",
            "소수입니다\n",
            "소수입니다\n",
            "소수입니다\n",
            "소수입니다\n",
            "소수입니다\n",
            "소수입니다\n",
            "소수입니다\n",
            "소수입니다\n",
            "소수입니다\n",
            "소수입니다\n",
            "소수입니다\n",
            "소수입니다\n",
            "소수입니다\n",
            "소수입니다\n",
            "소수입니다\n",
            "소수입니다\n",
            "소수입니다\n",
            "소수입니다\n",
            "소수입니다\n",
            "소수입니다\n",
            "소수입니다\n",
            "소수입니다\n",
            "소수입니다\n",
            "소수입니다\n",
            "소수입니다\n",
            "소수입니다\n",
            "소수입니다\n",
            "소수입니다\n",
            "소수입니다\n",
            "소수입니다\n",
            "소수입니다\n",
            "소수입니다\n",
            "소수입니다\n",
            "소수입니다\n",
            "소수입니다\n",
            "소수입니다\n",
            "소수입니다\n",
            "소수입니다\n",
            "소수입니다\n",
            "소수입니다\n",
            "소수입니다\n",
            "소수입니다\n",
            "소수입니다\n",
            "소수입니다\n",
            "소수입니다\n",
            "소수입니다\n",
            "소수입니다\n",
            "소수입니다\n",
            "소수입니다\n",
            "소수입니다\n",
            "소수입니다\n",
            "소수입니다\n",
            "소수입니다\n",
            "소수입니다\n",
            "소수입니다\n",
            "소수입니다\n",
            "소수입니다\n",
            "소수입니다\n",
            "소수입니다\n",
            "소수입니다\n",
            "소수입니다\n",
            "소수입니다\n",
            "소수입니다\n",
            "소수입니다\n",
            "소수입니다\n",
            "소수입니다\n",
            "소수입니다\n",
            "소수입니다\n",
            "소수입니다\n",
            "소수입니다\n",
            "소수입니다\n",
            "소수입니다\n",
            "소수입니다\n",
            "소수입니다\n",
            "소수입니다\n",
            "소수입니다\n",
            "소수입니다\n",
            "소수입니다\n",
            "소수입니다\n",
            "소수입니다\n",
            "소수입니다\n",
            "소수입니다\n",
            "소수입니다\n",
            "소수입니다\n",
            "소수입니다\n",
            "소수입니다\n",
            "소수입니다\n",
            "소수입니다\n",
            "소수입니다\n",
            "소수입니다\n",
            "소수입니다\n",
            "소수입니다\n",
            "소수입니다\n",
            "소수입니다\n",
            "소수입니다\n",
            "소수입니다\n",
            "소수입니다\n",
            "소수입니다\n",
            "소수입니다\n",
            "소수입니다\n",
            "소수입니다\n",
            "소수입니다\n",
            "소수입니다\n",
            "소수입니다\n",
            "소수입니다\n",
            "소수입니다\n",
            "소수입니다\n",
            "소수입니다\n",
            "소수입니다\n",
            "소수입니다\n",
            "소수입니다\n",
            "소수입니다\n",
            "소수입니다\n",
            "소수입니다\n",
            "소수입니다\n",
            "소수입니다\n",
            "소수입니다\n",
            "소수입니다\n",
            "소수입니다\n",
            "소수입니다\n",
            "소수입니다\n",
            "소수입니다\n",
            "소수입니다\n",
            "소수입니다\n",
            "소수입니다\n",
            "소수입니다\n",
            "소수입니다\n",
            "소수입니다\n",
            "소수입니다\n",
            "소수입니다\n",
            "소수입니다\n",
            "소수입니다\n",
            "소수입니다\n",
            "소수입니다\n",
            "소수입니다\n",
            "소수입니다\n",
            "소수입니다\n",
            "소수입니다\n",
            "소수입니다\n",
            "소수입니다\n",
            "소수입니다\n",
            "소수입니다\n",
            "소수입니다\n",
            "소수입니다\n",
            "소수입니다\n",
            "소수입니다\n",
            "소수입니다\n",
            "소수입니다\n",
            "소수입니다\n",
            "소수입니다\n",
            "소수입니다\n",
            "소수입니다\n",
            "소수입니다\n",
            "소수입니다\n",
            "소수입니다\n",
            "소수입니다\n",
            "소수입니다\n",
            "소수입니다\n",
            "소수입니다\n",
            "소수입니다\n",
            "소수입니다\n",
            "소수입니다\n",
            "소수입니다\n",
            "소수입니다\n",
            "소수입니다\n",
            "소수입니다\n",
            "소수입니다\n",
            "소수입니다\n",
            "소수입니다\n",
            "소수입니다\n",
            "소수입니다\n",
            "소수입니다\n",
            "소수입니다\n",
            "소수입니다\n",
            "소수입니다\n",
            "소수입니다\n",
            "소수입니다\n",
            "소수입니다\n",
            "소수입니다\n",
            "소수입니다\n",
            "소수입니다\n",
            "소수입니다\n",
            "소수입니다\n",
            "소수입니다\n",
            "소수입니다\n",
            "소수입니다\n",
            "소수입니다\n",
            "소수입니다\n",
            "소수입니다\n",
            "소수입니다\n",
            "소수입니다\n",
            "소수입니다\n",
            "소수입니다\n",
            "소수입니다\n",
            "소수입니다\n",
            "소수입니다\n",
            "소수입니다\n",
            "소수입니다\n",
            "소수입니다\n",
            "소수입니다\n",
            "소수입니다\n",
            "소수입니다\n",
            "소수입니다\n",
            "소수입니다\n",
            "소수입니다\n",
            "소수입니다\n",
            "소수입니다\n",
            "소수입니다\n",
            "소수입니다\n",
            "소수입니다\n",
            "소수입니다\n",
            "소수입니다\n",
            "소수입니다\n",
            "소수입니다\n",
            "소수입니다\n",
            "소수입니다\n",
            "소수입니다\n",
            "소수입니다\n",
            "소수입니다\n",
            "소수입니다\n",
            "소수입니다\n",
            "소수입니다\n",
            "소수입니다\n",
            "소수입니다\n",
            "소수입니다\n",
            "소수입니다\n",
            "소수입니다\n",
            "소수입니다\n",
            "소수입니다\n",
            "소수입니다\n",
            "소수입니다\n",
            "소수입니다\n",
            "소수입니다\n",
            "소수입니다\n",
            "소수입니다\n",
            "소수입니다\n",
            "소수입니다\n",
            "소수입니다\n",
            "소수입니다\n",
            "소수입니다\n",
            "소수입니다\n",
            "소수입니다\n",
            "소수입니다\n",
            "소수입니다\n",
            "소수입니다\n",
            "소수입니다\n",
            "소수입니다\n",
            "소수입니다\n",
            "소수입니다\n",
            "소수입니다\n",
            "소수입니다\n",
            "소수입니다\n",
            "소수입니다\n",
            "소수입니다\n",
            "소수입니다\n",
            "소수입니다\n",
            "소수입니다\n",
            "소수입니다\n",
            "소수입니다\n",
            "소수입니다\n",
            "소수입니다\n",
            "소수입니다\n",
            "소수입니다\n",
            "소수입니다\n",
            "소수입니다\n",
            "소수입니다\n",
            "소수입니다\n",
            "소수입니다\n",
            "소수입니다\n",
            "소수입니다\n",
            "소수입니다\n",
            "소수입니다\n",
            "소수입니다\n",
            "소수입니다\n",
            "소수입니다\n",
            "소수입니다\n",
            "소수입니다\n",
            "소수입니다\n",
            "소수입니다\n",
            "소수입니다\n",
            "소수입니다\n",
            "소수입니다\n",
            "소수입니다\n",
            "소수입니다\n",
            "소수입니다\n",
            "소수입니다\n",
            "소수입니다\n",
            "소수입니다\n",
            "소수입니다\n",
            "소수입니다\n",
            "소수입니다\n",
            "소수입니다\n",
            "소수입니다\n",
            "소수입니다\n",
            "소수입니다\n",
            "소수입니다\n",
            "소수입니다\n",
            "소수입니다\n",
            "소수입니다\n",
            "소수입니다\n",
            "소수입니다\n",
            "소수입니다\n",
            "소수입니다\n",
            "소수입니다\n",
            "소수입니다\n",
            "소수입니다\n",
            "소수입니다\n",
            "소수입니다\n",
            "소수입니다\n",
            "소수입니다\n",
            "소수입니다\n",
            "소수입니다\n",
            "소수입니다\n",
            "소수입니다\n",
            "소수입니다\n",
            "소수입니다\n",
            "소수입니다\n",
            "소수입니다\n",
            "소수입니다\n",
            "소수입니다\n",
            "소수입니다\n",
            "소수입니다\n",
            "소수입니다\n",
            "소수입니다\n",
            "소수입니다\n",
            "소수입니다\n",
            "소수입니다\n",
            "소수입니다\n",
            "소수입니다\n",
            "소수입니다\n",
            "소수입니다\n",
            "소수입니다\n",
            "소수입니다\n",
            "소수입니다\n",
            "소수입니다\n",
            "소수입니다\n",
            "소수입니다\n",
            "소수입니다\n",
            "소수입니다\n",
            "소수입니다\n",
            "소수입니다\n",
            "소수입니다\n",
            "소수입니다\n",
            "소수입니다\n",
            "소수입니다\n",
            "소수입니다\n",
            "소수입니다\n",
            "소수입니다\n",
            "소수입니다\n",
            "소수입니다\n",
            "소수입니다\n",
            "소수입니다\n",
            "소수입니다\n",
            "소수입니다\n",
            "소수입니다\n",
            "소수입니다\n",
            "소수입니다\n",
            "소수입니다\n",
            "소수입니다\n",
            "소수입니다\n",
            "소수입니다\n",
            "소수입니다\n",
            "소수입니다\n",
            "소수입니다\n",
            "소수입니다\n",
            "소수입니다\n",
            "소수입니다\n",
            "소수입니다\n",
            "소수입니다\n",
            "소수입니다\n",
            "소수입니다\n",
            "소수입니다\n",
            "소수입니다\n",
            "소수입니다\n",
            "소수입니다\n",
            "소수입니다\n",
            "소수입니다\n",
            "소수입니다\n",
            "소수입니다\n",
            "소수입니다\n",
            "소수입니다\n",
            "소수입니다\n",
            "소수입니다\n",
            "소수입니다\n",
            "소수입니다\n",
            "소수입니다\n",
            "소수입니다\n",
            "소수입니다\n",
            "소수입니다\n",
            "소수입니다\n",
            "소수입니다\n",
            "소수입니다\n",
            "소수입니다\n",
            "소수입니다\n",
            "소수입니다\n",
            "소수입니다\n",
            "소수입니다\n",
            "소수입니다\n",
            "소수입니다\n",
            "소수입니다\n",
            "소수입니다\n",
            "소수입니다\n",
            "소수입니다\n",
            "소수입니다\n",
            "소수입니다\n",
            "소수입니다\n",
            "소수입니다\n",
            "소수입니다\n",
            "소수입니다\n",
            "소수입니다\n",
            "소수입니다\n",
            "소수입니다\n",
            "소수입니다\n",
            "소수입니다\n",
            "소수입니다\n",
            "소수입니다\n",
            "소수입니다\n",
            "소수입니다\n",
            "소수입니다\n",
            "소수입니다\n",
            "소수입니다\n",
            "소수입니다\n",
            "소수입니다\n",
            "소수입니다\n",
            "소수입니다\n",
            "소수입니다\n",
            "소수입니다\n",
            "소수입니다\n",
            "소수입니다\n",
            "소수입니다\n",
            "소수입니다\n",
            "소수입니다\n",
            "소수입니다\n",
            "소수입니다\n",
            "소수입니다\n",
            "소수입니다\n",
            "소수입니다\n",
            "소수입니다\n",
            "소수입니다\n",
            "소수입니다\n",
            "소수입니다\n",
            "소수입니다\n",
            "소수입니다\n",
            "소수입니다\n",
            "소수입니다\n",
            "소수입니다\n",
            "소수입니다\n",
            "소수입니다\n",
            "소수입니다\n",
            "소수입니다\n",
            "소수입니다\n",
            "소수입니다\n",
            "소수입니다\n",
            "소수입니다\n",
            "소수입니다\n",
            "소수입니다\n",
            "소수입니다\n",
            "소수입니다\n",
            "소수입니다\n",
            "소수입니다\n",
            "소수입니다\n",
            "소수입니다\n",
            "소수입니다\n",
            "소수입니다\n",
            "소수입니다\n",
            "소수입니다\n",
            "소수입니다\n",
            "소수입니다\n",
            "소수입니다\n",
            "소수입니다\n",
            "소수입니다\n",
            "소수입니다\n",
            "소수입니다\n",
            "소수입니다\n",
            "소수입니다\n",
            "소수입니다\n",
            "소수입니다\n",
            "소수입니다\n",
            "소수입니다\n",
            "소수입니다\n",
            "소수입니다\n",
            "소수입니다\n",
            "소수입니다\n",
            "소수입니다\n",
            "소수입니다\n",
            "소수입니다\n",
            "소수입니다\n",
            "소수입니다\n",
            "소수입니다\n",
            "소수입니다\n",
            "소수입니다\n",
            "소수입니다\n",
            "소수입니다\n",
            "소수입니다\n",
            "소수입니다\n",
            "소수입니다\n",
            "소수입니다\n",
            "소수입니다\n",
            "소수입니다\n",
            "소수입니다\n",
            "소수입니다\n",
            "소수입니다\n",
            "소수입니다\n",
            "소수입니다\n",
            "소수입니다\n",
            "소수입니다\n",
            "소수입니다\n",
            "소수입니다\n",
            "소수입니다\n",
            "소수입니다\n",
            "소수입니다\n",
            "소수입니다\n",
            "소수입니다\n",
            "소수입니다\n",
            "소수입니다\n",
            "소수입니다\n",
            "소수입니다\n",
            "소수입니다\n",
            "소수입니다\n",
            "소수입니다\n",
            "소수입니다\n",
            "소수입니다\n",
            "소수입니다\n",
            "소수입니다\n",
            "소수입니다\n",
            "소수입니다\n",
            "소수입니다\n",
            "소수입니다\n",
            "소수입니다\n",
            "소수입니다\n",
            "소수입니다\n",
            "소수입니다\n",
            "소수입니다\n",
            "소수입니다\n",
            "소수입니다\n",
            "소수입니다\n",
            "소수입니다\n",
            "소수입니다\n",
            "소수입니다\n",
            "소수입니다\n",
            "소수입니다\n",
            "소수입니다\n",
            "소수입니다\n",
            "소수입니다\n",
            "소수입니다\n",
            "소수입니다\n",
            "소수입니다\n",
            "소수입니다\n",
            "소수입니다\n",
            "소수입니다\n",
            "소수입니다\n",
            "소수입니다\n",
            "소수입니다\n",
            "소수입니다\n",
            "소수입니다\n",
            "소수입니다\n",
            "소수입니다\n",
            "소수입니다\n",
            "소수입니다\n",
            "소수입니다\n",
            "소수입니다\n",
            "소수입니다\n",
            "소수입니다\n",
            "소수입니다\n",
            "소수입니다\n",
            "소수입니다\n",
            "소수입니다\n",
            "소수입니다\n",
            "소수입니다\n",
            "소수입니다\n",
            "소수입니다\n",
            "소수입니다\n",
            "소수입니다\n",
            "소수입니다\n",
            "소수입니다\n",
            "소수입니다\n",
            "소수입니다\n",
            "소수입니다\n",
            "소수입니다\n",
            "소수입니다\n",
            "소수입니다\n",
            "소수입니다\n",
            "소수입니다\n",
            "소수입니다\n",
            "소수입니다\n",
            "소수입니다\n",
            "소수입니다\n",
            "소수입니다\n",
            "소수입니다\n",
            "소수입니다\n",
            "소수입니다\n",
            "소수입니다\n",
            "소수입니다\n",
            "소수입니다\n",
            "소수입니다\n",
            "소수입니다\n",
            "소수입니다\n",
            "The slowest run took 21.76 times longer than the fastest. This could mean that an intermediate result is being cached.\n",
            "1000 loops, best of 5: 203 µs per loop\n"
          ]
        }
      ]
    },
    {
      "cell_type": "code",
      "source": [
        "def prime_list(n):\n",
        "    # 에라토스테네스의 체 초기화: n개 요소에 True 설정(소수로 간주)\n",
        "    sieve = [True] * n\n",
        "\n",
        "    # n의 최대 약수가 sqrt(n) 이하이므로 i=sqrt(n)까지 검사\n",
        "    m = int(n ** 0.5)\n",
        "    for i in range(2, m + 1):\n",
        "        if sieve[i] == True:           # i가 소수인 경우\n",
        "            for j in range(i+i, n, i): # i이후 i의 배수들을 False 판정\n",
        "                sieve[j] = False\n",
        "\n",
        "    # 소수 목록 산출\n",
        "    return [i for i in range(2, n) if sieve[i] == True]\n",
        "print(prime_list(20))\n",
        "[2, 3, 5, 7, 11, 13, 17, 19]\n",
        "\n",
        "max(prime_list(1000000))\n",
        "999983"
      ],
      "metadata": {
        "colab": {
          "base_uri": "https://localhost:8080/"
        },
        "id": "wIBnwKQE-0dw",
        "outputId": "fa22b84e-9c85-4d71-d181-b37d34c732b8"
      },
      "execution_count": null,
      "outputs": [
        {
          "output_type": "stream",
          "name": "stdout",
          "text": [
            "[2, 3, 5, 7, 11, 13, 17, 19]\n"
          ]
        },
        {
          "output_type": "execute_result",
          "data": {
            "text/plain": [
              "999983"
            ]
          },
          "metadata": {},
          "execution_count": 74
        }
      ]
    },
    {
      "cell_type": "code",
      "source": [
        "x = int(input())\n",
        "\n",
        "for i in range(3, x):\n",
        "  if x<=1:\n",
        "    print('소수가 아닙니다')\n",
        "    break\n",
        "  elif x == 2: \n",
        "    print('소수입니다')\n",
        "    break\n",
        "  elif x % i == 0: \n",
        "    print('소수가 아닙니다')\n",
        "    break\n",
        "else :\n",
        "  print('소수입니다')"
      ],
      "metadata": {
        "colab": {
          "base_uri": "https://localhost:8080/"
        },
        "id": "NJnA4JnWLYer",
        "outputId": "3c6e9c98-9cd1-4dd7-bcc1-c48df7f97eeb"
      },
      "execution_count": null,
      "outputs": [
        {
          "output_type": "stream",
          "name": "stdout",
          "text": [
            "502\n",
            "소수가 아닙니다\n"
          ]
        }
      ]
    },
    {
      "cell_type": "code",
      "source": [
        "def chech_prime(n):\n",
        "    if n <= 1:\n",
        "        return \"NO\"\n",
        "    i = 2\n",
        "    소수 = True\n",
        "    while (i**2) < n:\n",
        "        if n % i == 0:\n",
        "            소수 = False\n",
        "            break\n",
        "        i += 1\n",
        "    if 소수:\n",
        "        return \"YES\"\n",
        "    else:\n",
        "        return \"NO\"\n",
        "\n",
        "print(chech_prime(1223))"
      ],
      "metadata": {
        "colab": {
          "base_uri": "https://localhost:8080/"
        },
        "id": "bInhTHI6NiTt",
        "outputId": "04e26b8e-adfd-4508-b986-7e490ca6b665"
      },
      "execution_count": null,
      "outputs": [
        {
          "output_type": "stream",
          "name": "stdout",
          "text": [
            "YES\n"
          ]
        }
      ]
    },
    {
      "cell_type": "markdown",
      "source": [
        "# 문제42 : 요일 구하기(datetime 모듈 사용)\n",
        "\n",
        "2020년 1월 1일은 수요일입니다. 2020년 a월 b일은 무슨 요일일까요?\n",
        "\n",
        "두 수 a, b를 입력받아 2020년 a월 b일이 무슨 요일인지 리턴하는 함수, solution을 완성하세요.\n",
        "\n",
        "요일의 이름은 일요일부터 토요일까지 각각 SUN, MON, TUE, WED, THU, FRI, SAT 입니다.\n",
        "\n",
        "예를 들어 a = 5, b = 24라면 5월 24일은 일요일이므로 문자열 \"SUN\"를 반환하세요.\n",
        "\n",
        "**제한 조건**\n",
        "\n",
        "- 2020년은 윤년입니다.\n",
        "- 2020년 a월 b일은 실제로 있는 날입니다. \n",
        "(13월 26일이나 2월 45일 같은 날짜는 주어지지 않습니다.)\n",
        "- datetime 모듈을 사용하세요."
      ],
      "metadata": {
        "id": "xrJviqspVYxV"
      }
    },
    {
      "cell_type": "code",
      "source": [
        "m = int(input())\n",
        "d = int(input())\n",
        "\n",
        "\n",
        "def findDay(a, b):\n",
        "  day = [\"MON\", \"TUE\", \"WED\", \"THU\", \"FRI\", \"SAT\",\"SUN\"]\n",
        "  return day[datetime.date(2022, a, b).weekday()]\n",
        "print(findDay(m,d))"
      ],
      "metadata": {
        "colab": {
          "base_uri": "https://localhost:8080/"
        },
        "id": "vIWUkX2DFVpL",
        "outputId": "d31d9070-7e99-4e72-cdc6-27ea8e7c9661"
      },
      "execution_count": 51,
      "outputs": [
        {
          "output_type": "stream",
          "name": "stdout",
          "text": [
            "7\n",
            "18\n",
            "MON\n"
          ]
        }
      ]
    },
    {
      "cell_type": "markdown",
      "source": [
        "그 외"
      ],
      "metadata": {
        "id": "TckBoPMbFWVy"
      }
    },
    {
      "cell_type": "code",
      "source": [
        "import datetime\n",
        "\n",
        "date = datetime.datetime.today()\n",
        "\n",
        "date"
      ],
      "metadata": {
        "colab": {
          "base_uri": "https://localhost:8080/"
        },
        "id": "AYCe2IFCVKAC",
        "outputId": "7f66453f-a5f2-4699-ed06-ccb25acc6f6a"
      },
      "execution_count": 20,
      "outputs": [
        {
          "output_type": "execute_result",
          "data": {
            "text/plain": [
              "datetime.datetime(2022, 7, 18, 2, 3, 19, 633715)"
            ]
          },
          "metadata": {},
          "execution_count": 20
        }
      ]
    },
    {
      "cell_type": "code",
      "source": [
        " date.year"
      ],
      "metadata": {
        "colab": {
          "base_uri": "https://localhost:8080/"
        },
        "id": "smIej14zC6nV",
        "outputId": "ba66ea3f-18a9-4958-e543-41aa4e8e2749"
      },
      "execution_count": 21,
      "outputs": [
        {
          "output_type": "execute_result",
          "data": {
            "text/plain": [
              "2022"
            ]
          },
          "metadata": {},
          "execution_count": 21
        }
      ]
    },
    {
      "cell_type": "code",
      "source": [
        "datetime.date(2021, 8, 28)"
      ],
      "metadata": {
        "colab": {
          "base_uri": "https://localhost:8080/"
        },
        "id": "v8cxrIzGC8ab",
        "outputId": "75325fb2-3c85-4a2f-9fd8-5cd09fd4f83f"
      },
      "execution_count": 24,
      "outputs": [
        {
          "output_type": "execute_result",
          "data": {
            "text/plain": [
              "datetime.date(2021, 8, 28)"
            ]
          },
          "metadata": {},
          "execution_count": 24
        }
      ]
    },
    {
      "cell_type": "code",
      "source": [
        "datetime.date.today()"
      ],
      "metadata": {
        "colab": {
          "base_uri": "https://localhost:8080/"
        },
        "id": "95jumFL1C_xn",
        "outputId": "83e275bb-fbf1-4db9-809a-8f9211fd19b7"
      },
      "execution_count": 23,
      "outputs": [
        {
          "output_type": "execute_result",
          "data": {
            "text/plain": [
              "datetime.date(2022, 7, 18)"
            ]
          },
          "metadata": {},
          "execution_count": 23
        }
      ]
    },
    {
      "cell_type": "code",
      "source": [
        "datetime.date(2022, 9, 28)-datetime.date.today()"
      ],
      "metadata": {
        "colab": {
          "base_uri": "https://localhost:8080/"
        },
        "id": "1WY6VSPYDDLX",
        "outputId": "1063cc6d-157d-4c4a-8c25-22c1978c7310"
      },
      "execution_count": 27,
      "outputs": [
        {
          "output_type": "execute_result",
          "data": {
            "text/plain": [
              "datetime.timedelta(days=72)"
            ]
          },
          "metadata": {},
          "execution_count": 27
        }
      ]
    },
    {
      "cell_type": "code",
      "source": [
        "datetime.date(2022,7,18).weekday() # 월 : 0"
      ],
      "metadata": {
        "colab": {
          "base_uri": "https://localhost:8080/"
        },
        "id": "fU3mzZuyDMoo",
        "outputId": "b007d412-9473-4efa-feda-4e497bac7f0c"
      },
      "execution_count": 31,
      "outputs": [
        {
          "output_type": "execute_result",
          "data": {
            "text/plain": [
              "0"
            ]
          },
          "metadata": {},
          "execution_count": 31
        }
      ]
    },
    {
      "cell_type": "code",
      "source": [
        "datetime.date(2022,7,18).isoweekday() # 월 : 1"
      ],
      "metadata": {
        "colab": {
          "base_uri": "https://localhost:8080/"
        },
        "id": "Jy_WfvH7DYet",
        "outputId": "a745aac3-cc10-43d9-c206-964b1d06795c"
      },
      "execution_count": 33,
      "outputs": [
        {
          "output_type": "execute_result",
          "data": {
            "text/plain": [
              "1"
            ]
          },
          "metadata": {},
          "execution_count": 33
        }
      ]
    },
    {
      "cell_type": "code",
      "source": [
        "d = datetime.date(2022,7,20)\n",
        "ic = d.isocalendar()\n",
        "for i in ic:    \n",
        "  print(i)\n",
        "t = d.timetuple()\n",
        "#for i in t:     \n",
        "#  print(i)\n",
        "for i in t[0:3]:     \n",
        "  print(i)"
      ],
      "metadata": {
        "colab": {
          "base_uri": "https://localhost:8080/"
        },
        "id": "CIgvr84IDj_s",
        "outputId": "de5f3fea-c3f1-4f39-ef65-f31414e04e74"
      },
      "execution_count": 47,
      "outputs": [
        {
          "output_type": "stream",
          "name": "stdout",
          "text": [
            "2022\n",
            "29\n",
            "3\n",
            "2022\n",
            "7\n",
            "20\n"
          ]
        }
      ]
    },
    {
      "cell_type": "markdown",
      "source": [
        "# 문제43 : 10진수를 2진수로\n",
        "\n",
        "우리가 흔히 사용하는 숫자 1, 8, 19, 28893 등등...은 10진수 체계입니다.\n",
        "이를 컴퓨터가 알아 들을 수 있는 2진수로 바꾸려고 합니다. 어떻게 해야할까요?\n",
        "\n",
        "예를들어 13은 2^3 + 2^2 + 2^0 = 13 이기때문에 1101으로 표현합니다\n",
        "\n",
        "**사용자에게 숫자를 입력받고 이를 2진수를 바꾸고 그 값을 출력해주세요.**\n",
        "(bin 함수를 사용하지 않고 풀어주세요.)"
      ],
      "metadata": {
        "id": "gB91XNtxGd7f"
      }
    },
    {
      "cell_type": "code",
      "source": [
        "bin(13)"
      ],
      "metadata": {
        "colab": {
          "base_uri": "https://localhost:8080/",
          "height": 35
        },
        "id": "SoDHSs6oEf9w",
        "outputId": "36b47e9a-b84a-4760-9099-cc266fa4350c"
      },
      "execution_count": 53,
      "outputs": [
        {
          "output_type": "execute_result",
          "data": {
            "text/plain": [
              "'0b1101'"
            ],
            "application/vnd.google.colaboratory.intrinsic+json": {
              "type": "string"
            }
          },
          "metadata": {},
          "execution_count": 53
        }
      ]
    },
    {
      "cell_type": "code",
      "source": [
        "a = int(input())\n",
        "b = []\n",
        "while a:\n",
        "  print(a)\n",
        "  b.append(str(a%2))\n",
        "  a = int(a//2)\n",
        "print(b)"
      ],
      "metadata": {
        "colab": {
          "base_uri": "https://localhost:8080/"
        },
        "id": "KRi8Neo2HN4J",
        "outputId": "3d7e1871-51c9-4a06-8717-50701268b8aa"
      },
      "execution_count": 54,
      "outputs": [
        {
          "output_type": "stream",
          "name": "stdout",
          "text": [
            "13\n",
            "13\n",
            "6\n",
            "3\n",
            "1\n",
            "['1', '0', '1', '1']\n"
          ]
        }
      ]
    },
    {
      "cell_type": "code",
      "source": [
        "a = int(input())\n",
        "b = []\n",
        "while a:\n",
        "  b.append(str(a%2))\n",
        "  a = int(a//2)\n",
        "print(b)\n",
        "b.reverse()\n",
        "print('-'.join(b))"
      ],
      "metadata": {
        "colab": {
          "base_uri": "https://localhost:8080/"
        },
        "id": "-X1todfjHwA3",
        "outputId": "56238d8e-ad68-4c67-c97a-f9887601ca44"
      },
      "execution_count": 56,
      "outputs": [
        {
          "output_type": "stream",
          "name": "stdout",
          "text": [
            "13\n",
            "['1', '0', '1', '1']\n",
            "1-1-0-1\n"
          ]
        }
      ]
    },
    {
      "cell_type": "markdown",
      "source": [
        "# 문제44 : 각 자리수의 합\n",
        "\n",
        "**사용자가 입력한 양의 정수의 각 자리수의 합을 구하는 프로그램**을 만들어주세요\n",
        "\n",
        "**예를들어**\n",
        "18234 = 1+8+2+3+4 이고 정답은 18 입니다.\n",
        "3849 = 3+8+4+9 이고 정답은 24입니다."
      ],
      "metadata": {
        "id": "k3qxHUJPK4lf"
      }
    },
    {
      "cell_type": "code",
      "source": [
        "data = input()\n",
        "result = 0\n",
        "for i in data:\n",
        "  result += int(i)\n",
        "print(result)"
      ],
      "metadata": {
        "colab": {
          "base_uri": "https://localhost:8080/"
        },
        "id": "uAqr2tJiIBzu",
        "outputId": "70be2438-ef2c-45ad-af42-ae775e54fe61"
      },
      "execution_count": 62,
      "outputs": [
        {
          "output_type": "stream",
          "name": "stdout",
          "text": [
            "1234\n",
            "10\n"
          ]
        }
      ]
    },
    {
      "cell_type": "markdown",
      "source": [
        "# 문제45 : time함수 사용하기\n",
        "\n",
        "python의 모듈 중 하나인 **time 모듈**은 1970년 1월 1일 0시 0분 0초 이후로부터 지금까지 흐른 시간을 초단위로 반환합니다\n",
        "\n",
        "이를 이용하여 **현재 연도(2021)를 출력해보세요**"
      ],
      "metadata": {
        "id": "vXGmK243LblV"
      }
    },
    {
      "cell_type": "code",
      "source": [
        "import time\n",
        "t = time.time()\n",
        "t = t //(365*24*60*60) + 1970\n",
        "print(int(t))"
      ],
      "metadata": {
        "colab": {
          "base_uri": "https://localhost:8080/"
        },
        "id": "LOt-AOWbK99B",
        "outputId": "becb1283-fa0d-4174-aeb3-6aca4f69075f"
      },
      "execution_count": 68,
      "outputs": [
        {
          "output_type": "stream",
          "name": "stdout",
          "text": [
            "2022\n"
          ]
        }
      ]
    },
    {
      "cell_type": "markdown",
      "source": [
        "# 문제46 : str 자료형의 응용\n",
        "\n",
        "1부터 100까지의(100을 포함) 모든 숫자를 일렬로 놓고 모든 자릿수의 총 합을 구하세요. \n",
        "\n",
        "예를 들어 10부터 15까지의 모든 숫자를 일렬로 놓으면 101112131415이고 각 자리의 숫자를 더하면 25입니다."
      ],
      "metadata": {
        "id": "K8S-thMvL1fl"
      }
    },
    {
      "cell_type": "code",
      "source": [
        "s = ''\n",
        "result = 0\n",
        "for i in range(1,101):\n",
        "  s +=str(i)\n",
        "for i in s:\n",
        "  result += int(i)\n",
        "result"
      ],
      "metadata": {
        "colab": {
          "base_uri": "https://localhost:8080/"
        },
        "id": "zvEwGZPwLflX",
        "outputId": "76b7c077-f32d-4664-9a37-82a0509ceca3"
      },
      "execution_count": 76,
      "outputs": [
        {
          "output_type": "execute_result",
          "data": {
            "text/plain": [
              "901"
            ]
          },
          "metadata": {},
          "execution_count": 76
        }
      ]
    },
    {
      "cell_type": "code",
      "source": [
        "data = ''.join(str(i) for i in range(1,101))\n",
        "result = 0\n",
        "for i in data:\n",
        "  result +=int(i)\n",
        "result"
      ],
      "metadata": {
        "colab": {
          "base_uri": "https://localhost:8080/"
        },
        "id": "wvmziIAVMH4o",
        "outputId": "e358d448-79c8-41f3-fc24-650c3cfc0d44"
      },
      "execution_count": 78,
      "outputs": [
        {
          "output_type": "execute_result",
          "data": {
            "text/plain": [
              "901"
            ]
          },
          "metadata": {},
          "execution_count": 78
        }
      ]
    },
    {
      "cell_type": "code",
      "source": [
        "str(list(range(1,101)))"
      ],
      "metadata": {
        "colab": {
          "base_uri": "https://localhost:8080/",
          "height": 70
        },
        "id": "GvZbjUv4MlKE",
        "outputId": "453472bc-5bc0-4bd0-d307-9b5198a355a1"
      },
      "execution_count": 74,
      "outputs": [
        {
          "output_type": "execute_result",
          "data": {
            "text/plain": [
              "'[1, 2, 3, 4, 5, 6, 7, 8, 9, 10, 11, 12, 13, 14, 15, 16, 17, 18, 19, 20, 21, 22, 23, 24, 25, 26, 27, 28, 29, 30, 31, 32, 33, 34, 35, 36, 37, 38, 39, 40, 41, 42, 43, 44, 45, 46, 47, 48, 49, 50, 51, 52, 53, 54, 55, 56, 57, 58, 59, 60, 61, 62, 63, 64, 65, 66, 67, 68, 69, 70, 71, 72, 73, 74, 75, 76, 77, 78, 79, 80, 81, 82, 83, 84, 85, 86, 87, 88, 89, 90, 91, 92, 93, 94, 95, 96, 97, 98, 99, 100]'"
            ],
            "application/vnd.google.colaboratory.intrinsic+json": {
              "type": "string"
            }
          },
          "metadata": {},
          "execution_count": 74
        }
      ]
    },
    {
      "cell_type": "markdown",
      "source": [
        "# 46-구글입사문제 https://codingdojang.com/scode/393?answer_mode=hide\n",
        "1부터 10,000까지 8이라는 숫자가 총 몇번 나오는가?\n",
        "\n",
        "8이 포함되어 있는 숫자의 갯수를 카운팅 하는 것이 아니라 8이라는 숫자를 모두 카운팅 해야 한다.\n",
        "(※ 예를들어 8808은 3, 8888은 4로 카운팅 해야 함)"
      ],
      "metadata": {
        "id": "zoUyNrTcNRFh"
      }
    },
    {
      "cell_type": "code",
      "source": [
        "str(list(range(1,10001))).count(' ')"
      ],
      "metadata": {
        "colab": {
          "base_uri": "https://localhost:8080/"
        },
        "id": "LHHoTS8SMqBI",
        "outputId": "926490bb-5c63-4261-9996-a3760d60cf85"
      },
      "execution_count": 81,
      "outputs": [
        {
          "output_type": "execute_result",
          "data": {
            "text/plain": [
              "9999"
            ]
          },
          "metadata": {},
          "execution_count": 81
        }
      ]
    },
    {
      "cell_type": "markdown",
      "source": [
        "# 문제47 : set 자료형의 응용\n",
        "\n",
        "바울랩에서는 3월 29일 제주대학교에서 '제주 빅데이터 사회혁신 해커톤' 행사를 주최하게 되었습니다. 이에 구글 설문지를 배포하였으나 제주대학생들이 중복해서 n개씩 설문지를 제출하였습니다. **중복된 데이터들을 삭제하여 실제 접수 명단이 몇 명인지 알고 싶습니다.**\n",
        "\n",
        "아래 주어진 데이터들로부터 중복을 제거하여 실제 접수 인원을 출력해 주세요.\n",
        "\n",
        "```python\n",
        "people = [\n",
        "         ('이호준', '01050442903'),\n",
        "         ('이호상', '01051442904'),\n",
        "         ('이준호', '01050342904'),\n",
        "         ('이호준', '01050442903'),\n",
        "         ('이준', '01050412904'),\n",
        "         ('이호', '01050443904'),\n",
        "         ('이호준', '01050442903'),\n",
        "         ]\n",
        "```"
      ],
      "metadata": {
        "id": "BGae4hPhQzlU"
      }
    },
    {
      "cell_type": "code",
      "source": [
        "people = [\n",
        "         ('이호준', '01050442903'),\n",
        "         ('이호상', '01051442904'),\n",
        "         ('이준호', '01050342904'),\n",
        "         ('이호준', '01050442903'),\n",
        "         ('이준', '01050412904'),\n",
        "         ('이호', '01050443904'),\n",
        "         ('이호준', '01050442903'),\n",
        "         ]\n"
      ],
      "metadata": {
        "colab": {
          "base_uri": "https://localhost:8080/"
        },
        "id": "oJ8nqSGgNdAy",
        "outputId": "2d833109-8ac9-4409-979a-87344f3f55a7"
      },
      "execution_count": 82,
      "outputs": [
        {
          "output_type": "execute_result",
          "data": {
            "text/plain": [
              "[('이호준', '01050442903'),\n",
              " ('이호상', '01051442904'),\n",
              " ('이준호', '01050342904'),\n",
              " ('이호준', '01050442903'),\n",
              " ('이준', '01050412904'),\n",
              " ('이호', '01050443904'),\n",
              " ('이호준', '01050442903')]"
            ]
          },
          "metadata": {},
          "execution_count": 82
        }
      ]
    },
    {
      "cell_type": "code",
      "source": [
        "len(people)"
      ],
      "metadata": {
        "colab": {
          "base_uri": "https://localhost:8080/"
        },
        "id": "kcj_nImaQ-OD",
        "outputId": "889b3f91-dc57-4a98-9e6e-4a44f61f7acc"
      },
      "execution_count": 83,
      "outputs": [
        {
          "output_type": "execute_result",
          "data": {
            "text/plain": [
              "7"
            ]
          },
          "metadata": {},
          "execution_count": 83
        }
      ]
    },
    {
      "cell_type": "code",
      "source": [
        "set(people)"
      ],
      "metadata": {
        "colab": {
          "base_uri": "https://localhost:8080/"
        },
        "id": "pcQ37aW4RCj1",
        "outputId": "70186b2a-5988-4db5-dcf3-8afbc1fd5d7d"
      },
      "execution_count": 84,
      "outputs": [
        {
          "output_type": "execute_result",
          "data": {
            "text/plain": [
              "{('이준', '01050412904'),\n",
              " ('이준호', '01050342904'),\n",
              " ('이호', '01050443904'),\n",
              " ('이호상', '01051442904'),\n",
              " ('이호준', '01050442903')}"
            ]
          },
          "metadata": {},
          "execution_count": 84
        }
      ]
    },
    {
      "cell_type": "code",
      "source": [
        "len(set(people))"
      ],
      "metadata": {
        "colab": {
          "base_uri": "https://localhost:8080/"
        },
        "id": "568y_F4tRFEO",
        "outputId": "4c6857f6-535d-47ae-9b02-b2178cbbe010"
      },
      "execution_count": 85,
      "outputs": [
        {
          "output_type": "execute_result",
          "data": {
            "text/plain": [
              "5"
            ]
          },
          "metadata": {},
          "execution_count": 85
        }
      ]
    },
    {
      "cell_type": "code",
      "source": [
        "d = {}\n",
        "for i in people:\n",
        "  d[i[1]] = i[0]\n",
        "d"
      ],
      "metadata": {
        "colab": {
          "base_uri": "https://localhost:8080/"
        },
        "id": "mO8yV79QRHR5",
        "outputId": "7edc0382-016b-4eb6-8d5b-4785e3edfbb5"
      },
      "execution_count": 86,
      "outputs": [
        {
          "output_type": "execute_result",
          "data": {
            "text/plain": [
              "{'01050342904': '이준호',\n",
              " '01050412904': '이준',\n",
              " '01050442903': '이호준',\n",
              " '01050443904': '이호',\n",
              " '01051442904': '이호상'}"
            ]
          },
          "metadata": {},
          "execution_count": 86
        }
      ]
    },
    {
      "cell_type": "code",
      "source": [
        "a = [\n",
        "         ('이호준', '1'),\n",
        "         ('이호상', '12'),\n",
        "         ('이준호', '13'),\n",
        "         ('이호준', '1'),\n",
        "         ('이준', '03904'),\n",
        "         ('이호', '023904'),\n",
        "         ('이호준', '14'),\n",
        "         ]\n"
      ],
      "metadata": {
        "id": "hBN9Gn3oRXVr"
      },
      "execution_count": 90,
      "outputs": []
    },
    {
      "cell_type": "code",
      "source": [
        "set(a)"
      ],
      "metadata": {
        "colab": {
          "base_uri": "https://localhost:8080/"
        },
        "id": "l0VmGr1_RjsG",
        "outputId": "c972b3e0-cbfd-407e-c727-5daa91dd44be"
      },
      "execution_count": 91,
      "outputs": [
        {
          "output_type": "execute_result",
          "data": {
            "text/plain": [
              "{('이준', '03904'),\n",
              " ('이준호', '13'),\n",
              " ('이호', '023904'),\n",
              " ('이호상', '12'),\n",
              " ('이호준', '1'),\n",
              " ('이호준', '14')}"
            ]
          },
          "metadata": {},
          "execution_count": 91
        }
      ]
    },
    {
      "cell_type": "code",
      "source": [
        "d = {}\n",
        "for i in a:\n",
        "  print(i)\n",
        "  d[i[1]] = i[0]\n",
        "  print(d)\n",
        "d"
      ],
      "metadata": {
        "colab": {
          "base_uri": "https://localhost:8080/"
        },
        "id": "xgtudp3jRkVl",
        "outputId": "560f29e7-b58a-48f6-ca6a-46448ec2df77"
      },
      "execution_count": 98,
      "outputs": [
        {
          "output_type": "stream",
          "name": "stdout",
          "text": [
            "('이호준', '1')\n",
            "{'1': '이호준'}\n",
            "('이호상', '12')\n",
            "{'1': '이호준', '12': '이호상'}\n",
            "('이준호', '13')\n",
            "{'1': '이호준', '12': '이호상', '13': '이준호'}\n",
            "('이호준', '1')\n",
            "{'1': '이호준', '12': '이호상', '13': '이준호'}\n",
            "('이준', '03904')\n",
            "{'1': '이호준', '12': '이호상', '13': '이준호', '03904': '이준'}\n",
            "('이호', '023904')\n",
            "{'1': '이호준', '12': '이호상', '13': '이준호', '03904': '이준', '023904': '이호'}\n",
            "('이호준', '14')\n",
            "{'1': '이호준', '12': '이호상', '13': '이준호', '03904': '이준', '023904': '이호', '14': '이호준'}\n"
          ]
        },
        {
          "output_type": "execute_result",
          "data": {
            "text/plain": [
              "{'023904': '이호',\n",
              " '03904': '이준',\n",
              " '1': '이호준',\n",
              " '12': '이호상',\n",
              " '13': '이준호',\n",
              " '14': '이호준'}"
            ]
          },
          "metadata": {},
          "execution_count": 98
        }
      ]
    },
    {
      "cell_type": "markdown",
      "source": [
        "# 문제48 : 대소문자 바꿔서 출력하기\n",
        "\n",
        "문자열이 주어지면 대문자와 소문자를 바꿔서 출력하는 프로그램을 작성하세요.\n",
        "\n",
        "입력\n",
        "\n",
        "```\n",
        "AAABBBcccddd\n",
        "```\n",
        "\n",
        "출력\n",
        "```\n",
        "aaabbbCCCDDD\n",
        "```"
      ],
      "metadata": {
        "id": "MF9L_xjDS_9G"
      }
    },
    {
      "cell_type": "code",
      "source": [
        "a = input()\n",
        "b = []\n",
        "for i in a:\n",
        "  if i.islower():\n",
        "    b.append(i.upper())\n",
        "  else :\n",
        "    b.append(i.lower())\n",
        "print(''.join(b))\n",
        "for i in b:\n",
        "  print(i,end='')\n"
      ],
      "metadata": {
        "colab": {
          "base_uri": "https://localhost:8080/"
        },
        "id": "p3YoJTCkTGCf",
        "outputId": "6060a9b1-3850-4083-d027-8164450cc9a9"
      },
      "execution_count": 101,
      "outputs": [
        {
          "output_type": "stream",
          "name": "stdout",
          "text": [
            "AAABBBcccddd\n",
            "aaabbbCCCDDD\n",
            "aaabbbCCCDDD"
          ]
        }
      ]
    },
    {
      "cell_type": "markdown",
      "source": [
        "# 문제49 : 최댓값 구하기\n",
        "\n",
        "순서가 없는 10개의 숫자가 공백으로 구분되어 주어진다. 주어진 숫자들 중 최댓값을 반환하라.\n",
        "\n",
        "입력\n",
        "\n",
        "```\n",
        "10 9 8 7 6 5 4 3 2 1\n",
        "```\n",
        "\n",
        "출력\n",
        "```\n",
        "10\n",
        "```"
      ],
      "metadata": {
        "id": "pu7ByeDWSuWv"
      }
    },
    {
      "cell_type": "code",
      "source": [
        "data = list(map(int, input().split()))\n",
        "sorted(data)[-1]"
      ],
      "metadata": {
        "colab": {
          "base_uri": "https://localhost:8080/"
        },
        "id": "hcDZrI-RR_Uw",
        "outputId": "d66e4e02-839a-4d5b-f455-690f3dcdb32b"
      },
      "execution_count": 106,
      "outputs": [
        {
          "name": "stdout",
          "output_type": "stream",
          "text": [
            "10 9 8 7 6 5 4 3 2 1\n"
          ]
        },
        {
          "output_type": "execute_result",
          "data": {
            "text/plain": [
              "10"
            ]
          },
          "metadata": {},
          "execution_count": 106
        }
      ]
    },
    {
      "cell_type": "code",
      "source": [
        "data = list(map(int, input().split()))\n",
        "sorted(data, reverse=True)[0]"
      ],
      "metadata": {
        "colab": {
          "base_uri": "https://localhost:8080/"
        },
        "id": "sQrqSuncTtwn",
        "outputId": "7f55395b-0069-4c88-f844-d5d1df3048b0"
      },
      "execution_count": 113,
      "outputs": [
        {
          "name": "stdout",
          "output_type": "stream",
          "text": [
            "10 9 8 7 6 5 4 3 2 1\n"
          ]
        },
        {
          "output_type": "execute_result",
          "data": {
            "text/plain": [
              "10"
            ]
          },
          "metadata": {},
          "execution_count": 113
        }
      ]
    },
    {
      "cell_type": "code",
      "source": [
        "data = list(map(int, input().split()))\n",
        "max(data)"
      ],
      "metadata": {
        "colab": {
          "base_uri": "https://localhost:8080/"
        },
        "id": "MQkeSO8aUBeT",
        "outputId": "a0833003-8d94-4762-b942-f8c0ae8616b2"
      },
      "execution_count": 114,
      "outputs": [
        {
          "name": "stdout",
          "output_type": "stream",
          "text": [
            "10 9 8 7 6 5 4 3 2 1\n"
          ]
        },
        {
          "output_type": "execute_result",
          "data": {
            "text/plain": [
              "10"
            ]
          },
          "metadata": {},
          "execution_count": 114
        }
      ]
    },
    {
      "cell_type": "markdown",
      "source": [
        "# 문제50 : 버블정렬 구현하기\n",
        "\n",
        "버블정렬은 두 인접한 원소를 검사하여 정렬하는 방법을 말합니다. 시간 복잡도는 느리지만 코드가 단순하기 때문에 자주 사용됩니다.\n",
        "\n",
        "![image.png](data:image/png;base64,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)\n",
        "\n",
        "아래 코드의 빈 칸을 채워 버블 정렬을 완성해 봅시다.\n",
        "```python\n",
        "def bubble(n, data):\n",
        "\tfor i in range(n-1):\n",
        "\t\tfor j in range(빈칸을 채워주세요):\n",
        "\t\t\tif data[j] > data[j+1]:\n",
        "\t\t\t\t빈칸을 채워주세요\n",
        "\tfor i in range(n):\n",
        "\t\tprint(data[i], end = \" \")\n",
        "\n",
        "n = int(input())\n",
        "data = list(map(int, input().split()))\n",
        "\n",
        "bubble(n, data)\n",
        "```"
      ],
      "metadata": {
        "id": "ylHx8M6bUYbJ"
      }
    },
    {
      "cell_type": "code",
      "source": [
        "def bubble(n, data):\n",
        "\tfor i in range(n-1):\n",
        "\t\tfor j in range(n-i-1):\n",
        "\t\t\tif data[j] > data[j+1]:\n",
        "\t\t\t\tdata[j], data[j+1] = data[j+1], data[j]\n",
        "\tfor i in range(n):\n",
        "\t\tprint(data[i], end = \" \")\n",
        "\n",
        "n = int(input())\n",
        "data = list(map(int, input().split()))\n",
        "\n",
        "bubble(n, data)"
      ],
      "metadata": {
        "colab": {
          "base_uri": "https://localhost:8080/"
        },
        "id": "QIpEXXmEUE2b",
        "outputId": "dd38b4c7-c758-4684-fa32-2d4d23b071fd"
      },
      "execution_count": 116,
      "outputs": [
        {
          "output_type": "stream",
          "name": "stdout",
          "text": [
            "5\n",
            "10 2 4 5 1\n",
            "1 2 4 5 10 "
          ]
        }
      ]
    },
    {
      "cell_type": "code",
      "source": [
        ""
      ],
      "metadata": {
        "id": "E5WN8qB8VuXb"
      },
      "execution_count": null,
      "outputs": []
    }
  ]
}