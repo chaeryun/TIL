{
 "cells": [
  {
   "cell_type": "code",
   "execution_count": 36,
   "id": "69523879",
   "metadata": {},
   "outputs": [],
   "source": [
    "# 1D2S#10S"
   ]
  },
  {
   "cell_type": "code",
   "execution_count": null,
   "id": "237e142f",
   "metadata": {},
   "outputs": [],
   "source": [
    "def solution(dartResult):\n",
    "    dartResult = dartResult.replace(\"10\", \"A\")\n",
    "    bonus = {'S':1,'D':2,'T':3}\n",
    "    score = []\n",
    "    for i in dartResult:\n",
    "        if i.isdigit() or i == 'A':\n",
    "            score.append(10 if i == 'A' else int(i))\n",
    "        elif i in ('S','D','T'):\n",
    "            score[-1] **= bonus[i]\n",
    "        elif i == '*':\n",
    "            score[-1] *= 2\n",
    "            if len(score) >= 2:\n",
    "                score[-2] *= 2\n",
    "        elif i == '#':\n",
    "            score[-1] *= -1\n",
    "    return sum(score)"
   ]
  },
  {
   "cell_type": "code",
   "execution_count": 35,
   "id": "fedd42cb",
   "metadata": {},
   "outputs": [
    {
     "name": "stdout",
     "output_type": "stream",
     "text": [
      "59\n"
     ]
    }
   ],
   "source": [
    "def solution (dartResult):\n",
    "    answer = []\n",
    "    bonus = {'S':1,'D':2,'T':3}\n",
    "    for num, i in enumerate(dartResult, 1):\n",
    "        if i in bonus:\n",
    "            answer[-1] **=bonus[i]\n",
    "            pass\n",
    "        elif i == '*':\n",
    "            answer[-1] *=2\n",
    "            if len(answer) >= 2:\n",
    "                answer[-2] *=2\n",
    "            pass\n",
    "        elif i == '#':\n",
    "            pass\n",
    "        else : \n",
    "            if dartResult[num-1:num+1] == '10':\n",
    "                answer.append(10)\n",
    "            elif dartResult[num-2:num] != '10':\n",
    "                answer.append(int(i))\n",
    "    return sum(answer)\n",
    "print(solution('1D2S3T*'))"
   ]
  },
  {
   "cell_type": "code",
   "execution_count": 14,
   "id": "79c0cee9",
   "metadata": {},
   "outputs": [
    {
     "name": "stdout",
     "output_type": "stream",
     "text": [
      "0 1 2 1\n",
      "1 2 3 D\n",
      "2 3 4 2\n",
      "3 4 5 S\n",
      "4 5 6 #\n",
      "5 6 7 1\n",
      "6 7 8 0\n",
      "7 8 9 S\n",
      "[]\n"
     ]
    }
   ],
   "source": [
    "def solution (dartResult):\n",
    "    answer = []\n",
    "    for num, i in enumerate(dartResult, 1):\n",
    "        print(num-1, num, num+1, i)\n",
    "    return answer\n",
    "print(solution('1D2S#10S'))"
   ]
  },
  {
   "cell_type": "code",
   "execution_count": 24,
   "id": "b7d23325",
   "metadata": {},
   "outputs": [
    {
     "data": {
      "text/plain": [
       "1"
      ]
     },
     "execution_count": 24,
     "metadata": {},
     "output_type": "execute_result"
    }
   ],
   "source": [
    "bonus = {'s':1, 'd':2, 't':3}\n",
    "bonus['s']"
   ]
  },
  {
   "cell_type": "code",
   "execution_count": null,
   "id": "22fe2269",
   "metadata": {},
   "outputs": [],
   "source": []
  }
 ],
 "metadata": {
  "kernelspec": {
   "display_name": "Python 3 (ipykernel)",
   "language": "python",
   "name": "python3"
  },
  "language_info": {
   "codemirror_mode": {
    "name": "ipython",
    "version": 3
   },
   "file_extension": ".py",
   "mimetype": "text/x-python",
   "name": "python",
   "nbconvert_exporter": "python",
   "pygments_lexer": "ipython3",
   "version": "3.9.7"
  }
 },
 "nbformat": 4,
 "nbformat_minor": 5
}
