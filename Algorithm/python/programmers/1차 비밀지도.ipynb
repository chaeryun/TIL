{
 "cells": [
  {
   "cell_type": "markdown",
   "id": "720de4ec",
   "metadata": {},
   "source": [
    "[1차] 비밀지도"
   ]
  },
  {
   "cell_type": "code",
   "execution_count": 1,
   "id": "1bb63c2b",
   "metadata": {},
   "outputs": [],
   "source": [
    "def solution(n, arr1, arr2):\n",
    "    answer = []\n",
    "    for i,j in zip(arr1,arr2):\n",
    "        answer1 = bin(i|j)[2:].zfill(n).replace('1','#').replace('0',' ')\n",
    "        answer.append(answer1)\n",
    "    return answer"
   ]
  },
  {
   "cell_type": "code",
   "execution_count": 15,
   "id": "9aca0064",
   "metadata": {},
   "outputs": [
    {
     "data": {
      "text/plain": [
       "'0b11110'"
      ]
     },
     "execution_count": 15,
     "metadata": {},
     "output_type": "execute_result"
    }
   ],
   "source": [
    "n = 5\n",
    "arr1 = [9, 20, 28, 18, 11]\n",
    "arr2 = [30, 1, 21, 17, 28]"
   ]
  },
  {
   "cell_type": "code",
   "execution_count": 16,
   "id": "fd1ff027",
   "metadata": {},
   "outputs": [
    {
     "data": {
      "text/plain": [
       "'0b1001'"
      ]
     },
     "execution_count": 16,
     "metadata": {},
     "output_type": "execute_result"
    }
   ],
   "source": [
    "bin(9)"
   ]
  },
  {
   "cell_type": "code",
   "execution_count": 17,
   "id": "a2cd53b2",
   "metadata": {},
   "outputs": [
    {
     "data": {
      "text/plain": [
       "'0b11110'"
      ]
     },
     "execution_count": 17,
     "metadata": {},
     "output_type": "execute_result"
    }
   ],
   "source": [
    "bin(30)"
   ]
  },
  {
   "cell_type": "code",
   "execution_count": 18,
   "id": "4695f9de",
   "metadata": {},
   "outputs": [
    {
     "ename": "SyntaxError",
     "evalue": "leading zeros in decimal integer literals are not permitted; use an 0o prefix for octal integers (2990018907.py, line 1)",
     "output_type": "error",
     "traceback": [
      "\u001b[0;36m  File \u001b[0;32m\"/var/folders/fh/9mqm_wq17fn4hp5_91tghbxr0000gn/T/ipykernel_40872/2990018907.py\"\u001b[0;36m, line \u001b[0;32m1\u001b[0m\n\u001b[0;31m    01001\u001b[0m\n\u001b[0m        ^\u001b[0m\n\u001b[0;31mSyntaxError\u001b[0m\u001b[0;31m:\u001b[0m leading zeros in decimal integer literals are not permitted; use an 0o prefix for octal integers\n"
     ]
    }
   ],
   "source": [
    "01001\n",
    "11110\n",
    "11111"
   ]
  },
  {
   "cell_type": "code",
   "execution_count": 20,
   "id": "bf541dbd",
   "metadata": {},
   "outputs": [
    {
     "data": {
      "text/plain": [
       "'#####'"
      ]
     },
     "execution_count": 20,
     "metadata": {},
     "output_type": "execute_result"
    }
   ],
   "source": [
    "bin(9 | 30)[2:].replace('1','#').replace('0',' ')"
   ]
  },
  {
   "cell_type": "code",
   "execution_count": 23,
   "id": "8abfc342",
   "metadata": {},
   "outputs": [
    {
     "data": {
      "text/plain": [
       "[(9, 30), (20, 1), (28, 21), (18, 17), (11, 28)]"
      ]
     },
     "execution_count": 23,
     "metadata": {},
     "output_type": "execute_result"
    }
   ],
   "source": [
    "arr1 = [9, 20, 28, 18, 11]\n",
    "arr2 = [30, 1, 21, 17, 28]\n",
    "list(zip(arr1,arr2))"
   ]
  },
  {
   "cell_type": "code",
   "execution_count": 27,
   "id": "6b3be8cd",
   "metadata": {},
   "outputs": [
    {
     "name": "stdout",
     "output_type": "stream",
     "text": [
      "#####\n",
      "# # #\n",
      "### #\n",
      "#  ##\n",
      "#####\n"
     ]
    }
   ],
   "source": [
    "for i,j in zip(arr1,arr2):\n",
    "    print(bin(i | j)[2:].replace('1','#').replace('0',' '))"
   ]
  },
  {
   "cell_type": "code",
   "execution_count": 29,
   "id": "862a5bf3",
   "metadata": {},
   "outputs": [
    {
     "name": "stdout",
     "output_type": "stream",
     "text": [
      "###\n",
      "# # #\n",
      "### #\n",
      "#  ##\n",
      "#####\n"
     ]
    }
   ],
   "source": [
    "arr1 = [3, 20, 28, 18, 11]\n",
    "arr2 = [5, 1, 21, 17, 28]\n",
    "for i,j in zip(arr1,arr2):\n",
    "    print(bin(i | j)[2:].replace('1','#').replace('0',' '))"
   ]
  },
  {
   "cell_type": "code",
   "execution_count": 30,
   "id": "ba976ce8",
   "metadata": {},
   "outputs": [],
   "source": [
    "# 3 :  11\n",
    "# 5 : 101\n",
    "#     111"
   ]
  },
  {
   "cell_type": "code",
   "execution_count": 44,
   "id": "3d105090",
   "metadata": {},
   "outputs": [
    {
     "data": {
      "text/plain": [
       "['  ###', '# # #', '### #', '#  ##', '#####']"
      ]
     },
     "execution_count": 44,
     "metadata": {},
     "output_type": "execute_result"
    }
   ],
   "source": [
    "arr1 = [3, 20, 28, 18, 11]\n",
    "arr2 = [5, 1, 21, 17, 28]\n",
    "n=5\n",
    "def sol(n,arr1,arr2):\n",
    "    answer = []\n",
    "    for i,j in zip(arr1,arr2):\n",
    "        a = ((bin(i | j)[2:].zfill(n).replace('1','#').replace('0',' ')))\n",
    "        answer.append(a)\n",
    "    return answer\n",
    "sol(n,arr1,arr2)"
   ]
  },
  {
   "cell_type": "code",
   "execution_count": null,
   "id": "7115df44",
   "metadata": {},
   "outputs": [],
   "source": []
  }
 ],
 "metadata": {
  "kernelspec": {
   "display_name": "Python 3 (ipykernel)",
   "language": "python",
   "name": "python3"
  },
  "language_info": {
   "codemirror_mode": {
    "name": "ipython",
    "version": 3
   },
   "file_extension": ".py",
   "mimetype": "text/x-python",
   "name": "python",
   "nbconvert_exporter": "python",
   "pygments_lexer": "ipython3",
   "version": "3.9.7"
  }
 },
 "nbformat": 4,
 "nbformat_minor": 5
}
