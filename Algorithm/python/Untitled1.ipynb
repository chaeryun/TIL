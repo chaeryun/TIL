{
 "cells": [
  {
   "cell_type": "code",
   "execution_count": 32,
   "id": "17e9a3cf",
   "metadata": {},
   "outputs": [
    {
     "data": {
      "text/plain": [
       "[1, 4, 54]"
      ]
     },
     "execution_count": 32,
     "metadata": {},
     "output_type": "execute_result"
    }
   ],
   "source": [
    "def solution(dartResult):\n",
    "    dartResult = dartResult.replace(\"10\", \"A\")\n",
    "    bonus = {'S':1,'D':2,'T':3}\n",
    "    score = []\n",
    "    for i in dartResult:\n",
    "        if i.isdigit() or i == 'A':\n",
    "            score.append(10 if i == 'A' else int(i))\n",
    "        elif i in ('S','D','T'):\n",
    "            score[-1] **= bonus[i]\n",
    "        elif i == '*':\n",
    "            score[-1] *= 2\n",
    "            if len(score) >= 2:\n",
    "                score[-2] *= 2\n",
    "        elif i == '#':\n",
    "            score[-1] *= -1\n",
    "    return (score)\n",
    "solution(\"1D2S3T*\") # 59"
   ]
  },
  {
   "cell_type": "code",
   "execution_count": null,
   "id": "9fa2ea2c",
   "metadata": {},
   "outputs": [],
   "source": [
    "list(map(int(input())))"
   ]
  },
  {
   "cell_type": "code",
   "execution_count": null,
   "id": "781dec01",
   "metadata": {},
   "outputs": [],
   "source": []
  }
 ],
 "metadata": {
  "kernelspec": {
   "display_name": "Python 3 (ipykernel)",
   "language": "python",
   "name": "python3"
  },
  "language_info": {
   "codemirror_mode": {
    "name": "ipython",
    "version": 3
   },
   "file_extension": ".py",
   "mimetype": "text/x-python",
   "name": "python",
   "nbconvert_exporter": "python",
   "pygments_lexer": "ipython3",
   "version": "3.9.7"
  }
 },
 "nbformat": 4,
 "nbformat_minor": 5
}
