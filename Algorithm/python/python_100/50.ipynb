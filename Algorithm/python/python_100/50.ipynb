{
 "cells": [
  {
   "cell_type": "markdown",
   "id": "447a69fc",
   "metadata": {},
   "source": [
    "# 1번"
   ]
  },
  {
   "cell_type": "code",
   "execution_count": null,
   "id": "edfc1f5e",
   "metadata": {},
   "outputs": [],
   "source": [
    "nums = [100, 200, 300, 400, 500]\n",
    "#nums[:3]\n",
    "nums.pop()\n",
    "nums.pop()"
   ]
  },
  {
   "cell_type": "code",
   "execution_count": 8,
   "id": "acf02831",
   "metadata": {},
   "outputs": [
    {
     "data": {
      "text/plain": [
       "[100, 200, 300]"
      ]
     },
     "execution_count": 8,
     "metadata": {},
     "output_type": "execute_result"
    }
   ],
   "source": [
    "dir(nums)\n",
    "nums"
   ]
  },
  {
   "cell_type": "code",
   "execution_count": null,
   "id": "12808cbd",
   "metadata": {},
   "outputs": [],
   "source": [
    "l = [200, 100, 300]\n",
    "<pass>\n",
    "print(l)"
   ]
  }
 ],
 "metadata": {
  "kernelspec": {
   "display_name": "Python 3 (ipykernel)",
   "language": "python",
   "name": "python3"
  },
  "language_info": {
   "codemirror_mode": {
    "name": "ipython",
    "version": 3
   },
   "file_extension": ".py",
   "mimetype": "text/x-python",
   "name": "python",
   "nbconvert_exporter": "python",
   "pygments_lexer": "ipython3",
   "version": "3.9.7"
  }
 },
 "nbformat": 4,
 "nbformat_minor": 5
}
