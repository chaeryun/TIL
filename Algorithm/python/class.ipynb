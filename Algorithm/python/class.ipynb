{
 "cells": [
  {
   "cell_type": "code",
   "execution_count": 34,
   "id": "c19ed8f3",
   "metadata": {},
   "outputs": [],
   "source": [
    "class Jss:\n",
    "    def __init__(self): # 입력변수가 없다면 __init__() \n",
    "        self.name = input(\"이름 : \")\n",
    "        self.age = input(\"나이  : \")\n",
    "        print(\"Jss 클래스 선언!\")\n",
    "    def show(self):\n",
    "        print(\"나의 이름은 {}, 나이는 {}세 입니다.\".format(self.name,self.age))"
   ]
  },
  {
   "cell_type": "code",
   "execution_count": 35,
   "id": "f53f3799",
   "metadata": {},
   "outputs": [
    {
     "name": "stdout",
     "output_type": "stream",
     "text": [
      "이름 : chaeryun\n",
      "나이  : 28\n",
      "Jss 클래스 선언!\n"
     ]
    }
   ],
   "source": [
    "a = Jss()  # self 에 a 가 들어가게 됨"
   ]
  },
  {
   "cell_type": "code",
   "execution_count": 36,
   "id": "6129c59a",
   "metadata": {},
   "outputs": [
    {
     "data": {
      "text/plain": [
       "'chaeryun'"
      ]
     },
     "execution_count": 36,
     "metadata": {},
     "output_type": "execute_result"
    }
   ],
   "source": [
    "a.name"
   ]
  },
  {
   "cell_type": "code",
   "execution_count": 40,
   "id": "dd3c987a",
   "metadata": {},
   "outputs": [
    {
     "data": {
      "text/plain": [
       "'28'"
      ]
     },
     "execution_count": 40,
     "metadata": {},
     "output_type": "execute_result"
    }
   ],
   "source": [
    "a.age"
   ]
  },
  {
   "cell_type": "code",
   "execution_count": 41,
   "id": "f0b851be",
   "metadata": {},
   "outputs": [
    {
     "name": "stdout",
     "output_type": "stream",
     "text": [
      "나의 이름은 chaeryun, 나이는 28세 입니다.\n"
     ]
    }
   ],
   "source": [
    "a.show()"
   ]
  },
  {
   "cell_type": "code",
   "execution_count": 54,
   "id": "4436c106",
   "metadata": {},
   "outputs": [],
   "source": [
    "class Jss2(Jss): # 클래스 상속. 원래 있던 Jss에 추가.\n",
    "    def __init__(self):\n",
    "        super().__init__() #원래있던 Jss 의 def __init__(self) 들고오기\n",
    "        self.gender = input(\"성별 : \")\n",
    "    def show(self):\n",
    "        print(\"나의 이름은 {}, 성별은 {} , 나이는 {}세 입니다.\".format(self.name,self.gender,self.age))"
   ]
  },
  {
   "cell_type": "code",
   "execution_count": 55,
   "id": "17a642cd",
   "metadata": {},
   "outputs": [
    {
     "name": "stdout",
     "output_type": "stream",
     "text": [
      "이름 : \n",
      "나이  : \n",
      "Jss 클래스 선언!\n",
      "성별 : female\n"
     ]
    }
   ],
   "source": [
    "a = Jss2()"
   ]
  },
  {
   "cell_type": "code",
   "execution_count": 56,
   "id": "8c196de1",
   "metadata": {},
   "outputs": [
    {
     "name": "stdout",
     "output_type": "stream",
     "text": [
      "나의 이름은 , 성별은 female , 나이는 세 입니다.\n"
     ]
    }
   ],
   "source": [
    "a.show()"
   ]
  },
  {
   "cell_type": "code",
   "execution_count": null,
   "id": "75e1a109",
   "metadata": {},
   "outputs": [],
   "source": []
  },
  {
   "cell_type": "code",
   "execution_count": null,
   "id": "d25956f2",
   "metadata": {},
   "outputs": [],
   "source": []
  },
  {
   "cell_type": "code",
   "execution_count": null,
   "id": "79c0ea8a",
   "metadata": {},
   "outputs": [],
   "source": []
  },
  {
   "cell_type": "code",
   "execution_count": null,
   "id": "dbaee903",
   "metadata": {},
   "outputs": [],
   "source": []
  },
  {
   "cell_type": "code",
   "execution_count": null,
   "id": "f5a336dc",
   "metadata": {},
   "outputs": [],
   "source": []
  },
  {
   "cell_type": "code",
   "execution_count": null,
   "id": "f0680cd8",
   "metadata": {},
   "outputs": [],
   "source": []
  },
  {
   "cell_type": "code",
   "execution_count": null,
   "id": "00f5ca4e",
   "metadata": {},
   "outputs": [],
   "source": []
  }
 ],
 "metadata": {
  "kernelspec": {
   "display_name": "Python 3 (ipykernel)",
   "language": "python",
   "name": "python3"
  },
  "language_info": {
   "codemirror_mode": {
    "name": "ipython",
    "version": 3
   },
   "file_extension": ".py",
   "mimetype": "text/x-python",
   "name": "python",
   "nbconvert_exporter": "python",
   "pygments_lexer": "ipython3",
   "version": "3.9.7"
  }
 },
 "nbformat": 4,
 "nbformat_minor": 5
}
